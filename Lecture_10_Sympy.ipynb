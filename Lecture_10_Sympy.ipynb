{
  "cells": [
    {
      "cell_type": "markdown",
      "metadata": {
        "id": "view-in-github",
        "colab_type": "text"
      },
      "source": [
        "<a href=\"https://colab.research.google.com/github/CodeHunterOfficial/PythonLibraries/blob/main/Lecture_10_Sympy.ipynb\" target=\"_parent\"><img src=\"https://colab.research.google.com/assets/colab-badge.svg\" alt=\"Open In Colab\"/></a>"
      ]
    },
    {
      "cell_type": "markdown",
      "metadata": {
        "deletable": true,
        "editable": true,
        "id": "2oogu2bjvZzw"
      },
      "source": [
        "# SymPy\n",
        "\n",
        "`SymPy` - это пакет для символьных вычислений на питоне, подобный системе *Mathematica*. Он работает с выражениями, содержащими символы."
      ]
    },
    {
      "cell_type": "code",
      "execution_count": 1,
      "metadata": {
        "collapsed": true,
        "deletable": true,
        "editable": true,
        "id": "Y9dH0dtZvZz1"
      },
      "outputs": [],
      "source": [
        "from sympy import *\n",
        "init_printing()"
      ]
    },
    {
      "cell_type": "markdown",
      "metadata": {
        "deletable": true,
        "editable": true,
        "id": "hq8PDG1-vZz2"
      },
      "source": [
        "Основными кирпичиками, из которых строятся выражения, являются символы. Символ имеет имя, которое используется при печати выражений. Объекты класса `Symbol` нужно создавать и присваивать переменным питона, чтобы их можно было использовать. В принципе, имя символа и имя переменной, которой мы присваиваем этот символ - две независимые вещи, и можно написать `abc=Symbol('xyz')`. Но тогда при вводе программы Вы будете использовать `abc`, а при печати результатов `SymPy` будет использовать `xyz`, что приведёт к ненужной путанице. Поэтому лучше, чтобы имя символа совпадало с именем переменной питона, которой он присваивается.\n",
        "\n",
        "В языках, специально предназначенных для символьных вычислений, таких, как *Mathematica*, если Вы используете переменную, которой ничего не было присвоено, то она автоматически воспринимается как символ с тем же именем. Питон не был изначально предназначен для символьных вычислений. Если Вы используете переменную, которой ничего не было присвоено, Вы получите сообщение об ошибке. Объекты типа `Symbol` нужно создавать явно."
      ]
    },
    {
      "cell_type": "code",
      "execution_count": 2,
      "metadata": {
        "deletable": true,
        "editable": true,
        "id": "oIQ_-WpbvZz3"
      },
      "outputs": [],
      "source": [
        "x=Symbol('x')"
      ]
    },
    {
      "cell_type": "code",
      "execution_count": 3,
      "metadata": {
        "deletable": true,
        "editable": true,
        "colab": {
          "base_uri": "https://localhost:8080/",
          "height": 37
        },
        "id": "4b31zcpHvZz4",
        "outputId": "57802dbc-a496-492c-bc5a-8e1095c11d65"
      },
      "outputs": [
        {
          "output_type": "execute_result",
          "data": {
            "text/plain": [
              " 2    \n",
              "x  - 1"
            ],
            "image/png": "[encoded data removed]",
            "text/latex": "$\\displaystyle x^{2} - 1$"
          },
          "metadata": {},
          "execution_count": 3
        }
      ],
      "source": [
        "a=x**2-1\n",
        "a"
      ]
    },
    {
      "cell_type": "code",
      "execution_count": 4,
      "metadata": {
        "deletable": true,
        "editable": true,
        "colab": {
          "base_uri": "https://localhost:8080/"
        },
        "id": "ci40xiKFvZz5",
        "outputId": "c5b6eb92-f403-47ce-cfa3-cc9a09d5c6f4"
      },
      "outputs": [
        {
          "output_type": "execute_result",
          "data": {
            "text/plain": [
              "sympy.core.add.Add"
            ]
          },
          "metadata": {},
          "execution_count": 4
        }
      ],
      "source": [
        "type(a)"
      ]
    },
    {
      "cell_type": "markdown",
      "metadata": {
        "deletable": true,
        "editable": true,
        "id": "8QFErvjbvZz5"
      },
      "source": [
        "Можно определить несколько символов одновременно. Строка разбивается на имена по пробелам."
      ]
    },
    {
      "cell_type": "code",
      "execution_count": 5,
      "metadata": {
        "collapsed": true,
        "deletable": true,
        "editable": true,
        "id": "nZdpx_Q9vZz6"
      },
      "outputs": [],
      "source": [
        "y,z=symbols('y z')"
      ]
    },
    {
      "cell_type": "markdown",
      "metadata": {
        "deletable": true,
        "editable": true,
        "id": "7Lyo3UtCvZz6"
      },
      "source": [
        "Подставим вместо $x$ выражение $y+1$."
      ]
    },
    {
      "cell_type": "code",
      "execution_count": 6,
      "metadata": {
        "deletable": true,
        "editable": true,
        "colab": {
          "base_uri": "https://localhost:8080/",
          "height": 38
        },
        "id": "BQsSUERhvZz7",
        "outputId": "d5672af4-157d-4cc0-c581-4275c7fd98c7"
      },
      "outputs": [
        {
          "output_type": "execute_result",
          "data": {
            "text/plain": [
              "       2    \n",
              "(y + 1)  - 1"
            ],
            "image/png": "[encoded data removed]",
            "text/latex": "$\\displaystyle \\left(y + 1\\right)^{2} - 1$"
          },
          "metadata": {},
          "execution_count": 6
        }
      ],
      "source": [
        "a.subs(x,y+1)"
      ]
    },
    {
      "cell_type": "markdown",
      "metadata": {
        "deletable": true,
        "editable": true,
        "id": "7LVFW-5ivZz7"
      },
      "source": [
        "## Многочлены и рациональные функции\n",
        "\n",
        "`SymPy` не раскрывает скобки автоматически. Для этого используется функция `expand`."
      ]
    },
    {
      "cell_type": "code",
      "execution_count": 7,
      "metadata": {
        "deletable": true,
        "editable": true,
        "colab": {
          "base_uri": "https://localhost:8080/",
          "height": 38
        },
        "id": "N86a7arqvZz8",
        "outputId": "aa5c1e28-3f8a-41d6-cef7-47b01a163770"
      },
      "outputs": [
        {
          "output_type": "execute_result",
          "data": {
            "text/plain": [
              "           6\n",
              "(x + y - z) "
            ],
            "image/png": "[encoded data removed]",
            "text/latex": "$\\displaystyle \\left(x + y - z\\right)^{6}$"
          },
          "metadata": {},
          "execution_count": 7
        }
      ],
      "source": [
        "a=(x+y-z)**6\n",
        "a"
      ]
    },
    {
      "cell_type": "code",
      "execution_count": 8,
      "metadata": {
        "deletable": true,
        "editable": true,
        "colab": {
          "base_uri": "https://localhost:8080/",
          "height": 60
        },
        "id": "r45UUByuvZz8",
        "outputId": "6a5ce9db-e770-4005-bebe-06031a670a02"
      },
      "outputs": [
        {
          "output_type": "execute_result",
          "data": {
            "text/plain": [
              " 6      5        5         4  2       4           4  2       3  3       3  2  \n",
              "x  + 6⋅x ⋅y - 6⋅x ⋅z + 15⋅x ⋅y  - 30⋅x ⋅y⋅z + 15⋅x ⋅z  + 20⋅x ⋅y  - 60⋅x ⋅y ⋅z\n",
              "\n",
              "       3    2       3  3       2  4       2  3         2  2  2       2    3   \n",
              " + 60⋅x ⋅y⋅z  - 20⋅x ⋅z  + 15⋅x ⋅y  - 60⋅x ⋅y ⋅z + 90⋅x ⋅y ⋅z  - 60⋅x ⋅y⋅z  + \n",
              "\n",
              "    2  4        5         4           3  2         2  3           4        5  \n",
              "15⋅x ⋅z  + 6⋅x⋅y  - 30⋅x⋅y ⋅z + 60⋅x⋅y ⋅z  - 60⋅x⋅y ⋅z  + 30⋅x⋅y⋅z  - 6⋅x⋅z  +\n",
              "\n",
              "  6      5         4  2       3  3       2  4        5    6\n",
              " y  - 6⋅y ⋅z + 15⋅y ⋅z  - 20⋅y ⋅z  + 15⋅y ⋅z  - 6⋅y⋅z  + z "
            ],
            "image/png": "[encoded data removed]",
            "text/latex": "$\\displaystyle x^{6} + 6 x^{5} y - 6 x^{5} z + 15 x^{4} y^{2} - 30 x^{4} y z + 15 x^{4} z^{2} + 20 x^{3} y^{3} - 60 x^{3} y^{2} z + 60 x^{3} y z^{2} - 20 x^{3} z^{3} + 15 x^{2} y^{4} - 60 x^{2} y^{3} z + 90 x^{2} y^{2} z^{2} - 60 x^{2} y z^{3} + 15 x^{2} z^{4} + 6 x y^{5} - 30 x y^{4} z + 60 x y^{3} z^{2} - 60 x y^{2} z^{3} + 30 x y z^{4} - 6 x z^{5} + y^{6} - 6 y^{5} z + 15 y^{4} z^{2} - 20 y^{3} z^{3} + 15 y^{2} z^{4} - 6 y z^{5} + z^{6}$"
          },
          "metadata": {},
          "execution_count": 8
        }
      ],
      "source": [
        "a=expand(a)\n",
        "a"
      ]
    },
    {
      "cell_type": "markdown",
      "metadata": {
        "deletable": true,
        "editable": true,
        "id": "_Olvk3ZjvZz8"
      },
      "source": [
        "Степень многочлена $a$ по $x$."
      ]
    },
    {
      "cell_type": "code",
      "execution_count": 9,
      "metadata": {
        "deletable": true,
        "editable": true,
        "colab": {
          "base_uri": "https://localhost:8080/",
          "height": 37
        },
        "id": "GVNwXIGvvZz9",
        "outputId": "3b7191c8-0f58-4d45-d5e9-76ca5c0b91b6"
      },
      "outputs": [
        {
          "output_type": "execute_result",
          "data": {
            "text/plain": [
              "6"
            ],
            "image/png": "[encoded data removed]",
            "text/latex": "$\\displaystyle 6$"
          },
          "metadata": {},
          "execution_count": 9
        }
      ],
      "source": [
        "degree(a,x)"
      ]
    },
    {
      "cell_type": "markdown",
      "metadata": {
        "deletable": true,
        "editable": true,
        "id": "hjmkVMTVvZz9"
      },
      "source": [
        "Соберём вместе члены с определёнными степенями $x$."
      ]
    },
    {
      "cell_type": "code",
      "execution_count": 10,
      "metadata": {
        "deletable": true,
        "editable": true,
        "colab": {
          "base_uri": "https://localhost:8080/",
          "height": 60
        },
        "id": "fx_pTvDRvZz9",
        "outputId": "f4ec1ca2-0e0b-4000-a8b4-51b568cb4408"
      },
      "outputs": [
        {
          "output_type": "execute_result",
          "data": {
            "text/plain": [
              " 6    5                4 ⎛    2                2⎞    3 ⎛    3       2         \n",
              "x  + x ⋅(6⋅y - 6⋅z) + x ⋅⎝15⋅y  - 30⋅y⋅z + 15⋅z ⎠ + x ⋅⎝20⋅y  - 60⋅y ⋅z + 60⋅y\n",
              "\n",
              "  2       3⎞    2 ⎛    4       3         2  2         3       4⎞     ⎛   5    \n",
              "⋅z  - 20⋅z ⎠ + x ⋅⎝15⋅y  - 60⋅y ⋅z + 90⋅y ⋅z  - 60⋅y⋅z  + 15⋅z ⎠ + x⋅⎝6⋅y  - 3\n",
              "\n",
              "   4         3  2       2  3         4      5⎞    6      5         4  2       \n",
              "0⋅y ⋅z + 60⋅y ⋅z  - 60⋅y ⋅z  + 30⋅y⋅z  - 6⋅z ⎠ + y  - 6⋅y ⋅z + 15⋅y ⋅z  - 20⋅y\n",
              "\n",
              "3  3       2  4        5    6\n",
              " ⋅z  + 15⋅y ⋅z  - 6⋅y⋅z  + z "
            ],
            "image/png": "[encoded data removed]",
            "text/latex": "$\\displaystyle x^{6} + x^{5} \\left(6 y - 6 z\\right) + x^{4} \\left(15 y^{2} - 30 y z + 15 z^{2}\\right) + x^{3} \\left(20 y^{3} - 60 y^{2} z + 60 y z^{2} - 20 z^{3}\\right) + x^{2} \\left(15 y^{4} - 60 y^{3} z + 90 y^{2} z^{2} - 60 y z^{3} + 15 z^{4}\\right) + x \\left(6 y^{5} - 30 y^{4} z + 60 y^{3} z^{2} - 60 y^{2} z^{3} + 30 y z^{4} - 6 z^{5}\\right) + y^{6} - 6 y^{5} z + 15 y^{4} z^{2} - 20 y^{3} z^{3} + 15 y^{2} z^{4} - 6 y z^{5} + z^{6}$"
          },
          "metadata": {},
          "execution_count": 10
        }
      ],
      "source": [
        "collect(a,x)"
      ]
    },
    {
      "cell_type": "markdown",
      "metadata": {
        "deletable": true,
        "editable": true,
        "id": "7foQBh5nvZz-"
      },
      "source": [
        "Многочлен с целыми коэффициентами можно записать в виде произведения таких многочленов (причём каждый сомножитель уже невозможно расфакторизовать дальше, оставаясь в рамках многочленов с целыми коэффициентами). Существуют эффективные алгоритмы для решения этой задачи."
      ]
    },
    {
      "cell_type": "code",
      "execution_count": 11,
      "metadata": {
        "deletable": true,
        "editable": true,
        "colab": {
          "base_uri": "https://localhost:8080/",
          "height": 39
        },
        "id": "frAdKQVdvZz-",
        "outputId": "a2e92740-0695-4036-c22f-ee4ba30b3cdf"
      },
      "outputs": [
        {
          "output_type": "execute_result",
          "data": {
            "text/plain": [
              "           6\n",
              "(x + y - z) "
            ],
            "image/png": "[encoded data removed]",
            "text/latex": "$\\displaystyle \\left(x + y - z\\right)^{6}$"
          },
          "metadata": {},
          "execution_count": 11
        }
      ],
      "source": [
        "a=factor(a)\n",
        "a"
      ]
    },
    {
      "cell_type": "markdown",
      "metadata": {
        "deletable": true,
        "editable": true,
        "id": "ta7huB9vvZz-"
      },
      "source": [
        "`SymPy` не сокращает отношения многочленов на их наибольший общий делитель автоматически. Для этого используется функция `cancel`."
      ]
    },
    {
      "cell_type": "code",
      "execution_count": 12,
      "metadata": {
        "deletable": true,
        "editable": true,
        "colab": {
          "base_uri": "https://localhost:8080/",
          "height": 57
        },
        "id": "HbCovasYvZz-",
        "outputId": "9830a796-7b25-48f6-dc70-e72264e5fa03"
      },
      "outputs": [
        {
          "output_type": "execute_result",
          "data": {
            "text/plain": [
              " 3    3\n",
              "x  - y \n",
              "───────\n",
              " 2    2\n",
              "x  - y "
            ],
            "image/png": "[encoded data removed]",
            "text/latex": "$\\displaystyle \\frac{x^{3} - y^{3}}{x^{2} - y^{2}}$"
          },
          "metadata": {},
          "execution_count": 12
        }
      ],
      "source": [
        "a=(x**3-y**3)/(x**2-y**2)\n",
        "a"
      ]
    },
    {
      "cell_type": "code",
      "execution_count": 13,
      "metadata": {
        "deletable": true,
        "editable": true,
        "colab": {
          "base_uri": "https://localhost:8080/",
          "height": 57
        },
        "id": "OAeRGNjbvZz_",
        "outputId": "481407e4-231a-4a52-cacb-71fe339c39ae"
      },
      "outputs": [
        {
          "output_type": "execute_result",
          "data": {
            "text/plain": [
              " 2          2\n",
              "x  + x⋅y + y \n",
              "─────────────\n",
              "    x + y    "
            ],
            "image/png": "[encoded data removed]",
            "text/latex": "$\\displaystyle \\frac{x^{2} + x y + y^{2}}{x + y}$"
          },
          "metadata": {},
          "execution_count": 13
        }
      ],
      "source": [
        "cancel(a)"
      ]
    },
    {
      "cell_type": "markdown",
      "metadata": {
        "deletable": true,
        "editable": true,
        "id": "c6a-ImJ2vZz_"
      },
      "source": [
        "`SymPy` не приводит суммы рациональных выражений к общему знаменателю автоматически. Для этого используется функция `together`."
      ]
    },
    {
      "cell_type": "code",
      "execution_count": 14,
      "metadata": {
        "deletable": true,
        "editable": true,
        "colab": {
          "base_uri": "https://localhost:8080/",
          "height": 51
        },
        "id": "Usmhw8T4vZz_",
        "outputId": "a891f5ff-f9bc-443e-80ce-d961491cf6d4"
      },
      "outputs": [
        {
          "output_type": "execute_result",
          "data": {
            "text/plain": [
              "  x       y  \n",
              "───── + ─────\n",
              "x + y   x - y"
            ],
            "image/png": "[encoded data removed]",
            "text/latex": "$\\displaystyle \\frac{x}{x + y} + \\frac{y}{x - y}$"
          },
          "metadata": {},
          "execution_count": 14
        }
      ],
      "source": [
        "a=y/(x-y)+x/(x+y)\n",
        "a"
      ]
    },
    {
      "cell_type": "code",
      "execution_count": 15,
      "metadata": {
        "deletable": true,
        "editable": true,
        "colab": {
          "base_uri": "https://localhost:8080/",
          "height": 57
        },
        "id": "92m-5YmxvZz_",
        "outputId": "b18c204f-8f69-4a06-b623-6e1a6299e5ba"
      },
      "outputs": [
        {
          "output_type": "execute_result",
          "data": {
            "text/plain": [
              "x⋅(x - y) + y⋅(x + y)\n",
              "─────────────────────\n",
              "   (x - y)⋅(x + y)   "
            ],
            "image/png": "[encoded data removed]",
            "text/latex": "$\\displaystyle \\frac{x \\left(x - y\\right) + y \\left(x + y\\right)}{\\left(x - y\\right) \\left(x + y\\right)}$"
          },
          "metadata": {},
          "execution_count": 15
        }
      ],
      "source": [
        "together(a)"
      ]
    },
    {
      "cell_type": "markdown",
      "metadata": {
        "deletable": true,
        "editable": true,
        "id": "0f1apNH7vZ0A"
      },
      "source": [
        "Функция `simplify` пытается переписать выражение *в наиболее простом виде*. Это понятие не имеет чёткого определения (в разных ситуациях *наиболее простыми* могут считаться разные формы выражения), и не существует алгоритма такого упрощения. Функция `symplify` работает эвристически, и невозможно заранее предугадать, какие упрощения она попытается сделать. Поэтому её удобно использовать в интерактивных сессиях, чтобы посмотреть, удастся ли ей записать выражение в каком-нибудь разумном виде, но нежелательно использовать в программах. В них лучше применять более специализированные функции, которые выполняют одно определённое преобразование выражения."
      ]
    },
    {
      "cell_type": "code",
      "execution_count": 16,
      "metadata": {
        "deletable": true,
        "editable": true,
        "colab": {
          "base_uri": "https://localhost:8080/",
          "height": 57
        },
        "id": "3bAB8myivZ0A",
        "outputId": "9cb93ba7-ee8c-4b3a-feaf-f18aacb9201b"
      },
      "outputs": [
        {
          "output_type": "execute_result",
          "data": {
            "text/plain": [
              " 2    2\n",
              "x  + y \n",
              "───────\n",
              " 2    2\n",
              "x  - y "
            ],
            "image/png": "[encoded data removed]",
            "text/latex": "$\\displaystyle \\frac{x^{2} + y^{2}}{x^{2} - y^{2}}$"
          },
          "metadata": {},
          "execution_count": 16
        }
      ],
      "source": [
        "simplify(a)"
      ]
    },
    {
      "cell_type": "markdown",
      "metadata": {
        "deletable": true,
        "editable": true,
        "id": "axuWKy80vZ0A"
      },
      "source": [
        "Разложение на элементарные дроби по отношению к $x$ и $y$."
      ]
    },
    {
      "cell_type": "code",
      "execution_count": 17,
      "metadata": {
        "deletable": true,
        "editable": true,
        "colab": {
          "base_uri": "https://localhost:8080/",
          "height": 51
        },
        "id": "f5lmcQwLvZ0A",
        "outputId": "1cadf662-e06d-42ac-cce1-6bbbe698d292"
      },
      "outputs": [
        {
          "output_type": "execute_result",
          "data": {
            "text/plain": [
              "    y       y      \n",
              "- ───── + ───── + 1\n",
              "  x + y   x - y    "
            ],
            "image/png": "[encoded data removed]",
            "text/latex": "$\\displaystyle - \\frac{y}{x + y} + \\frac{y}{x - y} + 1$"
          },
          "metadata": {},
          "execution_count": 17
        }
      ],
      "source": [
        "apart(a,x)"
      ]
    },
    {
      "cell_type": "code",
      "execution_count": 18,
      "metadata": {
        "deletable": true,
        "editable": true,
        "colab": {
          "base_uri": "https://localhost:8080/",
          "height": 51
        },
        "id": "FSP2xQvvvZ0B",
        "outputId": "b2bd4c80-6445-4c7d-9a0d-1c1fbc459b7e"
      },
      "outputs": [
        {
          "output_type": "execute_result",
          "data": {
            "text/plain": [
              "  x       x      \n",
              "───── + ───── - 1\n",
              "x + y   x - y    "
            ],
            "image/png": "[encoded data removed]",
            "text/latex": "$\\displaystyle \\frac{x}{x + y} + \\frac{x}{x - y} - 1$"
          },
          "metadata": {},
          "execution_count": 18
        }
      ],
      "source": [
        "apart(a,y)"
      ]
    },
    {
      "cell_type": "markdown",
      "metadata": {
        "deletable": true,
        "editable": true,
        "id": "DBePpYRjvZ0B"
      },
      "source": [
        "Подставим конкретные численные значения вместо переменных $x$ и $y$."
      ]
    },
    {
      "cell_type": "code",
      "execution_count": 19,
      "metadata": {
        "deletable": true,
        "editable": true,
        "colab": {
          "base_uri": "https://localhost:8080/",
          "height": 51
        },
        "id": "jJvJ7xSxvZ0B",
        "outputId": "d5bb72df-a1e6-4576-a43f-2917abe639df"
      },
      "outputs": [
        {
          "output_type": "execute_result",
          "data": {
            "text/plain": [
              "-5/3"
            ],
            "image/png": "[encoded data removed]",
            "text/latex": "$\\displaystyle - \\frac{5}{3}$"
          },
          "metadata": {},
          "execution_count": 19
        }
      ],
      "source": [
        "a=a.subs({x:1,y:2})\n",
        "a"
      ]
    },
    {
      "cell_type": "markdown",
      "metadata": {
        "deletable": true,
        "editable": true,
        "id": "zGGfHNZivZ0B"
      },
      "source": [
        "А сколько это будет численно?"
      ]
    },
    {
      "cell_type": "code",
      "execution_count": 20,
      "metadata": {
        "deletable": true,
        "editable": true,
        "colab": {
          "base_uri": "https://localhost:8080/",
          "height": 37
        },
        "id": "E51Ze9l6vZ0C",
        "outputId": "4896075f-d10f-41d4-ef6d-9945fcadd1d5"
      },
      "outputs": [
        {
          "output_type": "execute_result",
          "data": {
            "text/plain": [
              "-1.66666666666667"
            ],
            "image/png": "[encoded data removed]",
            "text/latex": "$\\displaystyle -1.66666666666667$"
          },
          "metadata": {},
          "execution_count": 20
        }
      ],
      "source": [
        "a.n()"
      ]
    },
    {
      "cell_type": "markdown",
      "metadata": {
        "deletable": true,
        "editable": true,
        "id": "DVqDokvNvZ0C"
      },
      "source": [
        "## Элементарные функции\n",
        "\n",
        "`SymPy` автоматически применяет упрощения элементарных функция (которые справедливы во всех случаях)."
      ]
    },
    {
      "cell_type": "code",
      "execution_count": 21,
      "metadata": {
        "deletable": true,
        "editable": true,
        "colab": {
          "base_uri": "https://localhost:8080/",
          "height": 0
        },
        "id": "XWAKZ9g3vZ0C",
        "outputId": "ec91f927-75e4-4af4-96db-811a2fd43477"
      },
      "outputs": [
        {
          "output_type": "execute_result",
          "data": {
            "text/plain": [
              "-sin(x)"
            ],
            "image/png": "[encoded data removed]",
            "text/latex": "$\\displaystyle - \\sin{\\left(x \\right)}$"
          },
          "metadata": {},
          "execution_count": 21
        }
      ],
      "source": [
        "sin(-x)"
      ]
    },
    {
      "cell_type": "code",
      "execution_count": 22,
      "metadata": {
        "deletable": true,
        "editable": true,
        "colab": {
          "base_uri": "https://localhost:8080/",
          "height": 0
        },
        "id": "cITJv6sLvZ0C",
        "outputId": "e4021f9d-3f34-45df-f2eb-ccca06de754e"
      },
      "outputs": [
        {
          "output_type": "execute_result",
          "data": {
            "text/plain": [
              "⎛√2  -√3 ⎞\n",
              "⎜──, ────⎟\n",
              "⎝2    3  ⎠"
            ],
            "image/png": "[encoded data removed]",
            "text/latex": "$\\displaystyle \\left( \\frac{\\sqrt{2}}{2}, \\  - \\frac{\\sqrt{3}}{3}\\right)$"
          },
          "metadata": {},
          "execution_count": 22
        }
      ],
      "source": [
        "cos(pi/4),tan(5*pi/6)"
      ]
    },
    {
      "cell_type": "markdown",
      "metadata": {
        "deletable": true,
        "editable": true,
        "id": "_fK87hIUvZ0C"
      },
      "source": [
        "`SymPy` может работать с числами с плавающей точкой, имеющими сколь угодно большую точность. Вот $\\pi$ с 100 значащими цифрами."
      ]
    },
    {
      "cell_type": "code",
      "execution_count": 23,
      "metadata": {
        "deletable": true,
        "editable": true,
        "colab": {
          "base_uri": "https://localhost:8080/",
          "height": 0
        },
        "id": "K2tX35jKvZ0D",
        "outputId": "d2df55e8-2e74-4417-f2cb-b0a4c18acd6f"
      },
      "outputs": [
        {
          "output_type": "execute_result",
          "data": {
            "text/plain": [
              "3.1415926535897932384626433832795028841971693993751058209749445923078164062862\n",
              "08998628034825342117068"
            ],
            "image/png": "[encoded data removed]",
            "text/latex": "$\\displaystyle 3.141592653589793238462643383279502884197169399375105820974944592307816406286208998628034825342117068$"
          },
          "metadata": {},
          "execution_count": 23
        }
      ],
      "source": [
        "pi.n(100)"
      ]
    },
    {
      "cell_type": "markdown",
      "metadata": {
        "collapsed": false,
        "deletable": true,
        "editable": true,
        "id": "rFHJgszFvZ0D"
      },
      "source": [
        "`E` - это основание натуральных логарифмов."
      ]
    },
    {
      "cell_type": "code",
      "execution_count": 24,
      "metadata": {
        "deletable": true,
        "editable": true,
        "colab": {
          "base_uri": "https://localhost:8080/",
          "height": 0
        },
        "id": "b4C38kvEvZ0D",
        "outputId": "62b618fd-f2b8-4778-a493-e286b24627a3"
      },
      "outputs": [
        {
          "output_type": "execute_result",
          "data": {
            "text/plain": [
              "(0, 1)"
            ],
            "image/png": "[encoded data removed]",
            "text/latex": "$\\displaystyle \\left( 0, \\  1\\right)$"
          },
          "metadata": {},
          "execution_count": 24
        }
      ],
      "source": [
        "log(1),log(E)"
      ]
    },
    {
      "cell_type": "code",
      "execution_count": 25,
      "metadata": {
        "deletable": true,
        "editable": true,
        "colab": {
          "base_uri": "https://localhost:8080/",
          "height": 0
        },
        "id": "fmRCkpgBvZ0D",
        "outputId": "df9e0e12-39ed-444f-e7fd-aba7e2e2b210"
      },
      "outputs": [
        {
          "output_type": "execute_result",
          "data": {
            "text/plain": [
              "⎛      ⎛ x⎞⎞\n",
              "⎝x, log⎝ℯ ⎠⎠"
            ],
            "image/png": "[encoded data removed]",
            "text/latex": "$\\displaystyle \\left( x, \\  \\log{\\left(e^{x} \\right)}\\right)$"
          },
          "metadata": {},
          "execution_count": 25
        }
      ],
      "source": [
        "exp(log(x)),log(exp(x))"
      ]
    },
    {
      "cell_type": "markdown",
      "metadata": {
        "deletable": true,
        "editable": true,
        "id": "T0txuvExvZ0D"
      },
      "source": [
        "А почему не $x$? Попробуйте подставить $x=2\\pi i$."
      ]
    },
    {
      "cell_type": "code",
      "execution_count": 26,
      "metadata": {
        "deletable": true,
        "editable": true,
        "colab": {
          "base_uri": "https://localhost:8080/",
          "height": 0
        },
        "id": "3OKWAnvavZ0E",
        "outputId": "ab8851ae-20f7-49c9-ab5d-e3004081306b"
      },
      "outputs": [
        {
          "output_type": "execute_result",
          "data": {
            "text/plain": [
              "0"
            ],
            "image/png": "[encoded data removed]",
            "text/latex": "$\\displaystyle 0$"
          },
          "metadata": {},
          "execution_count": 26
        }
      ],
      "source": [
        "sqrt(0)"
      ]
    },
    {
      "cell_type": "code",
      "execution_count": 27,
      "metadata": {
        "deletable": true,
        "editable": true,
        "colab": {
          "base_uri": "https://localhost:8080/",
          "height": 0
        },
        "id": "aIV_HivYvZ0E",
        "outputId": "776200f9-a183-4a1a-8e79-f1af9607f4f5"
      },
      "outputs": [
        {
          "output_type": "execute_result",
          "data": {
            "text/plain": [
              "⎛       ____⎞\n",
              "⎜ 2    ╱  4 ⎟\n",
              "⎝x , ╲╱  x  ⎠"
            ],
            "image/png": "[encoded data removed]",
            "text/latex": "$\\displaystyle \\left( x^{2}, \\  \\sqrt{x^{4}}\\right)$"
          },
          "metadata": {},
          "execution_count": 27
        }
      ],
      "source": [
        "sqrt(x)**4,sqrt(x**4)"
      ]
    },
    {
      "cell_type": "markdown",
      "metadata": {
        "deletable": true,
        "editable": true,
        "id": "kKoMomt2vZ0F"
      },
      "source": [
        "А почему не $x^2$? Попробуйте подставить $x=i$.\n",
        "\n",
        "Символы могут иметь некоторые свойства. Например, они могут быть положительными. Тогда `SymPy` может сильнее упростить квадратные корни."
      ]
    },
    {
      "cell_type": "code",
      "execution_count": 28,
      "metadata": {
        "deletable": true,
        "editable": true,
        "colab": {
          "base_uri": "https://localhost:8080/",
          "height": 0
        },
        "id": "J2eCpoxhvZ0F",
        "outputId": "93fbcfa8-2d85-411e-ca32-360ed08115fd"
      },
      "outputs": [
        {
          "output_type": "execute_result",
          "data": {
            "text/plain": [
              "p"
            ],
            "image/png": "[encoded data removed]",
            "text/latex": "$\\displaystyle p$"
          },
          "metadata": {},
          "execution_count": 28
        }
      ],
      "source": [
        "p,q=symbols('p q',positive=True)\n",
        "sqrt(p**2)"
      ]
    },
    {
      "cell_type": "code",
      "execution_count": 29,
      "metadata": {
        "deletable": true,
        "editable": true,
        "colab": {
          "base_uri": "https://localhost:8080/",
          "height": 0
        },
        "id": "h45zehyIvZ0F",
        "outputId": "adedba85-8a14-4fe4-beb4-ff2c4085fa90"
      },
      "outputs": [
        {
          "output_type": "execute_result",
          "data": {
            "text/plain": [
              "⎛        ______           ⎞\n",
              "⎜       ╱  2              ⎟\n",
              "⎝2⋅√3⋅╲╱  x ⋅y , 2⋅√3⋅p⋅√y⎠"
            ],
            "image/png": "[encoded data removed]",
            "text/latex": "$\\displaystyle \\left( 2 \\sqrt{3} \\sqrt{x^{2} y}, \\  2 \\sqrt{3} p \\sqrt{y}\\right)$"
          },
          "metadata": {},
          "execution_count": 29
        }
      ],
      "source": [
        "sqrt(12*x**2*y),sqrt(12*p**2*y)"
      ]
    },
    {
      "cell_type": "markdown",
      "metadata": {
        "deletable": true,
        "editable": true,
        "id": "-PrYsT0WvZ0G"
      },
      "source": [
        "Пусть символ $n$ будет целым (`I` - это мнимая единица)."
      ]
    },
    {
      "cell_type": "code",
      "execution_count": 30,
      "metadata": {
        "deletable": true,
        "editable": true,
        "colab": {
          "base_uri": "https://localhost:8080/",
          "height": 0
        },
        "id": "cWPtDcymvZ0G",
        "outputId": "4b1e05e2-91a2-44b3-e00b-a8e3c4ab2a2b"
      },
      "outputs": [
        {
          "output_type": "execute_result",
          "data": {
            "text/plain": [
              "1"
            ],
            "image/png": "[encoded data removed]",
            "text/latex": "$\\displaystyle 1$"
          },
          "metadata": {},
          "execution_count": 30
        }
      ],
      "source": [
        "n=Symbol('n',integer=True)\n",
        "simplify(exp(2*pi*I*n))"
      ]
    },
    {
      "cell_type": "code",
      "execution_count": 31,
      "metadata": {
        "deletable": true,
        "editable": true,
        "colab": {
          "base_uri": "https://localhost:8080/",
          "height": 0
        },
        "id": "q4zvCXnivZ0G",
        "outputId": "1884394b-8160-4574-ed87-3f6042c311ab"
      },
      "outputs": [
        {
          "output_type": "execute_result",
          "data": {
            "text/plain": [
              "0"
            ],
            "image/png": "[encoded data removed]",
            "text/latex": "$\\displaystyle 0$"
          },
          "metadata": {},
          "execution_count": 31
        }
      ],
      "source": [
        "sin(pi*n)"
      ]
    },
    {
      "cell_type": "markdown",
      "metadata": {
        "deletable": true,
        "editable": true,
        "id": "i887IR9BvZ0G"
      },
      "source": [
        "Метод `rewrite` пытается переписать выражение в терминах заданной функции."
      ]
    },
    {
      "cell_type": "code",
      "execution_count": 32,
      "metadata": {
        "deletable": true,
        "editable": true,
        "colab": {
          "base_uri": "https://localhost:8080/",
          "height": 0
        },
        "id": "MkvdYhPfvZ0G",
        "outputId": "0338557b-7308-450d-f708-e65980ab295d"
      },
      "outputs": [
        {
          "output_type": "execute_result",
          "data": {
            "text/plain": [
              "⎛ ⅈ⋅x    -ⅈ⋅x                   ⎞\n",
              "⎜ℯ      ℯ                       ⎟\n",
              "⎜──── + ─────, ⅈ⋅sin(x) + cos(x)⎟\n",
              "⎝ 2       2                     ⎠"
            ],
            "image/png": "[encoded data removed]",
            "text/latex": "$\\displaystyle \\left( \\frac{e^{i x}}{2} + \\frac{e^{- i x}}{2}, \\  i \\sin{\\left(x \\right)} + \\cos{\\left(x \\right)}\\right)$"
          },
          "metadata": {},
          "execution_count": 32
        }
      ],
      "source": [
        "cos(x).rewrite(exp),exp(I*x).rewrite(cos)"
      ]
    },
    {
      "cell_type": "code",
      "execution_count": 33,
      "metadata": {
        "deletable": true,
        "editable": true,
        "colab": {
          "base_uri": "https://localhost:8080/",
          "height": 0
        },
        "id": "qkaZuyIbvZ0G",
        "outputId": "f6e9930c-f815-4553-b1ff-fb2794999fba"
      },
      "outputs": [
        {
          "output_type": "execute_result",
          "data": {
            "text/plain": [
              "      ⎛         ________⎞\n",
              "      ⎜        ╱      2 ⎟\n",
              "-ⅈ⋅log⎝ⅈ⋅x + ╲╱  1 - x  ⎠"
            ],
            "image/png": "[encoded data removed]",
            "text/latex": "$\\displaystyle - i \\log{\\left(i x + \\sqrt{1 - x^{2}} \\right)}$"
          },
          "metadata": {},
          "execution_count": 33
        }
      ],
      "source": [
        "asin(x).rewrite(log)"
      ]
    },
    {
      "cell_type": "markdown",
      "metadata": {
        "deletable": true,
        "editable": true,
        "id": "oBT85N2jvZ0H"
      },
      "source": [
        "Функция `trigsimp` пытается переписать тригонометрическое выражение в *наиболее простом виде*. В программах лучше использовать более специализированные функции."
      ]
    },
    {
      "cell_type": "code",
      "execution_count": 34,
      "metadata": {
        "deletable": true,
        "editable": true,
        "colab": {
          "base_uri": "https://localhost:8080/",
          "height": 0
        },
        "id": "F3O6csdDvZ0H",
        "outputId": "5f4fad7f-0b51-4488-b000-3acf01e6feb4"
      },
      "outputs": [
        {
          "output_type": "execute_result",
          "data": {
            "text/plain": [
              "   2       \n",
              "cos (x) + 2"
            ],
            "image/png": "[encoded data removed]",
            "text/latex": "$\\displaystyle \\cos^{2}{\\left(x \\right)} + 2$"
          },
          "metadata": {},
          "execution_count": 34
        }
      ],
      "source": [
        "trigsimp(2*sin(x)**2+3*cos(x)**2)"
      ]
    },
    {
      "cell_type": "markdown",
      "metadata": {
        "deletable": true,
        "editable": true,
        "id": "H1dpUbPkvZ0H"
      },
      "source": [
        "Функция `expand_trig` разлагает синусы и косинусы сумм и кратных углов."
      ]
    },
    {
      "cell_type": "code",
      "execution_count": 35,
      "metadata": {
        "deletable": true,
        "editable": true,
        "colab": {
          "base_uri": "https://localhost:8080/",
          "height": 0
        },
        "id": "jUu3aH8QvZ0H",
        "outputId": "8b2bf058-1d9d-48bb-ed0d-bba4ebf119e5"
      },
      "outputs": [
        {
          "output_type": "execute_result",
          "data": {
            "text/plain": [
              "(sin(x)⋅cos(y) - sin(y)⋅cos(x), 2⋅sin(x)⋅cos(x))"
            ],
            "image/png": "[encoded data removed]",
            "text/latex": "$\\displaystyle \\left( \\sin{\\left(x \\right)} \\cos{\\left(y \\right)} - \\sin{\\left(y \\right)} \\cos{\\left(x \\right)}, \\  2 \\sin{\\left(x \\right)} \\cos{\\left(x \\right)}\\right)$"
          },
          "metadata": {},
          "execution_count": 35
        }
      ],
      "source": [
        "expand_trig(sin(x-y)),expand_trig(sin(2*x))"
      ]
    },
    {
      "cell_type": "markdown",
      "metadata": {
        "deletable": true,
        "editable": true,
        "id": "g3vbEYxQvZ0H"
      },
      "source": [
        "Чаще нужно обратное преобразование - произведений и степеней синусов и косинусов в выражения, линейные по этим функциям. Например, пусть мы работаем с отрезком ряда Фурье."
      ]
    },
    {
      "cell_type": "code",
      "execution_count": 36,
      "metadata": {
        "deletable": true,
        "editable": true,
        "colab": {
          "base_uri": "https://localhost:8080/",
          "height": 0
        },
        "id": "J5QUXTayvZ0I",
        "outputId": "679971f2-76c9-4081-ed2d-f676eed177b4"
      },
      "outputs": [
        {
          "output_type": "execute_result",
          "data": {
            "text/plain": [
              "a₁⋅cos(x) + a₂⋅cos(2⋅x) + b₁⋅sin(x) + b₂⋅sin(2⋅x)"
            ],
            "image/png": "[encoded data removed]",
            "text/latex": "$\\displaystyle a_{1} \\cos{\\left(x \\right)} + a_{2} \\cos{\\left(2 x \\right)} + b_{1} \\sin{\\left(x \\right)} + b_{2} \\sin{\\left(2 x \\right)}$"
          },
          "metadata": {},
          "execution_count": 36
        }
      ],
      "source": [
        "a1,a2,b1,b2=symbols('a1 a2 b1 b2')\n",
        "a=a1*cos(x)+a2*cos(2*x)+b1*sin(x)+b2*sin(2*x)\n",
        "a"
      ]
    },
    {
      "cell_type": "markdown",
      "metadata": {
        "deletable": true,
        "editable": true,
        "id": "x-n30gk5vZ0I"
      },
      "source": [
        "Мы хотим возвести его в квадрат и опять получить отрезок ряда Фурье."
      ]
    },
    {
      "cell_type": "code",
      "execution_count": 37,
      "metadata": {
        "deletable": true,
        "editable": true,
        "colab": {
          "base_uri": "https://localhost:8080/",
          "height": 0
        },
        "id": "dpqAR8xdvZ0I",
        "outputId": "ba626514-4842-493f-a47d-5954ebda72cf"
      },
      "outputs": [
        {
          "output_type": "execute_result",
          "data": {
            "text/plain": [
              "  2              2                                                            \n",
              "a₁ ⋅cos(2⋅x)   a₁                                                             \n",
              "──────────── + ─── + a₁⋅a₂⋅cos(x) + a₁⋅a₂⋅cos(3⋅x) + a₁⋅b₁⋅sin(2⋅x) + a₁⋅b₂⋅si\n",
              "     2          2                                                             \n",
              "\n",
              "                          2              2                                    \n",
              "                        a₂ ⋅cos(4⋅x)   a₂                                     \n",
              "n(x) + a₁⋅b₂⋅sin(3⋅x) + ──────────── + ─── - a₂⋅b₁⋅sin(x) + a₂⋅b₁⋅sin(3⋅x) + a\n",
              "                             2          2                                     \n",
              "\n",
              "                  2              2                                     2      \n",
              "                b₁ ⋅cos(2⋅x)   b₁                                    b₂ ⋅cos(4\n",
              "₂⋅b₂⋅sin(4⋅x) - ──────────── + ─── + b₁⋅b₂⋅cos(x) - b₁⋅b₂⋅cos(3⋅x) - ─────────\n",
              "                     2          2                                         2   \n",
              "\n",
              "        2\n",
              "⋅x)   b₂ \n",
              "─── + ───\n",
              "       2 "
            ],
            "image/png": "[encoded data removed]",
            "text/latex": "$\\displaystyle \\frac{a_{1}^{2} \\cos{\\left(2 x \\right)}}{2} + \\frac{a_{1}^{2}}{2} + a_{1} a_{2} \\cos{\\left(x \\right)} + a_{1} a_{2} \\cos{\\left(3 x \\right)} + a_{1} b_{1} \\sin{\\left(2 x \\right)} + a_{1} b_{2} \\sin{\\left(x \\right)} + a_{1} b_{2} \\sin{\\left(3 x \\right)} + \\frac{a_{2}^{2} \\cos{\\left(4 x \\right)}}{2} + \\frac{a_{2}^{2}}{2} - a_{2} b_{1} \\sin{\\left(x \\right)} + a_{2} b_{1} \\sin{\\left(3 x \\right)} + a_{2} b_{2} \\sin{\\left(4 x \\right)} - \\frac{b_{1}^{2} \\cos{\\left(2 x \\right)}}{2} + \\frac{b_{1}^{2}}{2} + b_{1} b_{2} \\cos{\\left(x \\right)} - b_{1} b_{2} \\cos{\\left(3 x \\right)} - \\frac{b_{2}^{2} \\cos{\\left(4 x \\right)}}{2} + \\frac{b_{2}^{2}}{2}$"
          },
          "metadata": {},
          "execution_count": 37
        }
      ],
      "source": [
        "a=(a**2).rewrite(exp).expand().rewrite(cos).expand()\n",
        "a"
      ]
    },
    {
      "cell_type": "code",
      "execution_count": 38,
      "metadata": {
        "deletable": true,
        "editable": true,
        "colab": {
          "base_uri": "https://localhost:8080/",
          "height": 0
        },
        "id": "gGRXmzTJvZ0I",
        "outputId": "60f83cf1-9c9f-477d-8d9f-89184c0a0850"
      },
      "outputs": [
        {
          "output_type": "execute_result",
          "data": {
            "text/plain": [
              "  2                      2              2                      2     2        \n",
              "a₁                     a₂ ⋅cos(4⋅x)   a₂                     b₁    b₂ ⋅cos(4⋅x\n",
              "─── + a₁⋅b₁⋅sin(2⋅x) + ──────────── + ─── + a₂⋅b₂⋅sin(4⋅x) + ─── - ───────────\n",
              " 2                          2          2                      2         2     \n",
              "\n",
              "      2   ⎛  2     2⎞                                                         \n",
              ")   b₂    ⎜a₁    b₁ ⎟                                                         \n",
              "─ + ─── + ⎜─── - ───⎟⋅cos(2⋅x) + (a₁⋅a₂ - b₁⋅b₂)⋅cos(3⋅x) + (a₁⋅a₂ + b₁⋅b₂)⋅co\n",
              "     2    ⎝ 2     2 ⎠                                                         \n",
              "\n",
              "                                                        \n",
              "                                                        \n",
              "s(x) + (a₁⋅b₂ - a₂⋅b₁)⋅sin(x) + (a₁⋅b₂ + a₂⋅b₁)⋅sin(3⋅x)\n",
              "                                                        "
            ],
            "image/png": "[encoded data removed]",
            "text/latex": "$\\displaystyle \\frac{a_{1}^{2}}{2} + a_{1} b_{1} \\sin{\\left(2 x \\right)} + \\frac{a_{2}^{2} \\cos{\\left(4 x \\right)}}{2} + \\frac{a_{2}^{2}}{2} + a_{2} b_{2} \\sin{\\left(4 x \\right)} + \\frac{b_{1}^{2}}{2} - \\frac{b_{2}^{2} \\cos{\\left(4 x \\right)}}{2} + \\frac{b_{2}^{2}}{2} + \\left(\\frac{a_{1}^{2}}{2} - \\frac{b_{1}^{2}}{2}\\right) \\cos{\\left(2 x \\right)} + \\left(a_{1} a_{2} - b_{1} b_{2}\\right) \\cos{\\left(3 x \\right)} + \\left(a_{1} a_{2} + b_{1} b_{2}\\right) \\cos{\\left(x \\right)} + \\left(a_{1} b_{2} - a_{2} b_{1}\\right) \\sin{\\left(x \\right)} + \\left(a_{1} b_{2} + a_{2} b_{1}\\right) \\sin{\\left(3 x \\right)}$"
          },
          "metadata": {},
          "execution_count": 38
        }
      ],
      "source": [
        "a.collect([cos(x),cos(2*x),cos(3*x),sin(x),sin(2*x),sin(3*x)])"
      ]
    },
    {
      "cell_type": "markdown",
      "metadata": {
        "deletable": true,
        "editable": true,
        "id": "0H-UoYHRvZ0I"
      },
      "source": [
        "Функция `expand_log` преобразует логарифмы произведений и степеней в суммы логарифмов (только для положительных величин); `logcombine` производит обратное преобразование."
      ]
    },
    {
      "cell_type": "code",
      "execution_count": 39,
      "metadata": {
        "deletable": true,
        "editable": true,
        "colab": {
          "base_uri": "https://localhost:8080/",
          "height": 0
        },
        "id": "QzZ67rwAvZ0J",
        "outputId": "e5cec639-de0e-49d2-aa3e-540e1bf0e42b"
      },
      "outputs": [
        {
          "output_type": "execute_result",
          "data": {
            "text/plain": [
              "log(p) + 2⋅log(q)"
            ],
            "image/png": "[encoded data removed]",
            "text/latex": "$\\displaystyle \\log{\\left(p \\right)} + 2 \\log{\\left(q \\right)}$"
          },
          "metadata": {},
          "execution_count": 39
        }
      ],
      "source": [
        "a=expand_log(log(p*q**2))\n",
        "a"
      ]
    },
    {
      "cell_type": "code",
      "execution_count": 40,
      "metadata": {
        "deletable": true,
        "editable": true,
        "colab": {
          "base_uri": "https://localhost:8080/",
          "height": 0
        },
        "id": "JVnHMyUpvZ0J",
        "outputId": "1e974579-8619-4626-a966-7ba8237ae706"
      },
      "outputs": [
        {
          "output_type": "execute_result",
          "data": {
            "text/plain": [
              "   ⎛   2⎞\n",
              "log⎝p⋅q ⎠"
            ],
            "image/png": "[encoded data removed]",
            "text/latex": "$\\displaystyle \\log{\\left(p q^{2} \\right)}$"
          },
          "metadata": {},
          "execution_count": 40
        }
      ],
      "source": [
        "logcombine(a)"
      ]
    },
    {
      "cell_type": "markdown",
      "metadata": {
        "collapsed": false,
        "deletable": true,
        "editable": true,
        "id": "g6RkkygKvZ0J"
      },
      "source": [
        "Функция `expand_power_exp` переписывает степени, показатели которых - суммы, через произведения степеней."
      ]
    },
    {
      "cell_type": "code",
      "execution_count": 41,
      "metadata": {
        "deletable": true,
        "editable": true,
        "colab": {
          "base_uri": "https://localhost:8080/",
          "height": 0
        },
        "id": "uDZ4hrazvZ0J",
        "outputId": "4e49c09f-6ae5-4e86-ee22-da2fb2b1ed41"
      },
      "outputs": [
        {
          "output_type": "execute_result",
          "data": {
            "text/plain": [
              " p  q\n",
              "x ⋅x "
            ],
            "image/png": "[encoded data removed]",
            "text/latex": "$\\displaystyle x^{p} x^{q}$"
          },
          "metadata": {},
          "execution_count": 41
        }
      ],
      "source": [
        "expand_power_exp(x**(p+q))"
      ]
    },
    {
      "cell_type": "markdown",
      "metadata": {
        "deletable": true,
        "editable": true,
        "id": "hZmUrC0gvZ0J"
      },
      "source": [
        "Функция `expand_power_base` переписывает степени, основания которых - произведения, через произведения степеней."
      ]
    },
    {
      "cell_type": "code",
      "execution_count": 42,
      "metadata": {
        "deletable": true,
        "editable": true,
        "colab": {
          "base_uri": "https://localhost:8080/",
          "height": 0
        },
        "id": "qfszxnJDvZ0K",
        "outputId": "6376d628-3ec7-4380-aa41-348629f00e8c"
      },
      "outputs": [
        {
          "output_type": "execute_result",
          "data": {
            "text/plain": [
              " n  n\n",
              "x ⋅y "
            ],
            "image/png": "[encoded data removed]",
            "text/latex": "$\\displaystyle x^{n} y^{n}$"
          },
          "metadata": {},
          "execution_count": 42
        }
      ],
      "source": [
        "expand_power_base((x*y)**n)"
      ]
    },
    {
      "cell_type": "markdown",
      "metadata": {
        "deletable": true,
        "editable": true,
        "id": "azBNQlduvZ0K"
      },
      "source": [
        "Функция `powsimp` выполняет обратные преобразования."
      ]
    },
    {
      "cell_type": "code",
      "execution_count": 43,
      "metadata": {
        "deletable": true,
        "editable": true,
        "colab": {
          "base_uri": "https://localhost:8080/",
          "height": 0
        },
        "id": "hqu23xQ0vZ0K",
        "outputId": "5361f68a-9f97-4e0c-addb-5eb054efec3f"
      },
      "outputs": [
        {
          "output_type": "execute_result",
          "data": {
            "text/plain": [
              "⎛ x + 2⋅y       n⎞\n",
              "⎝ℯ       , (x⋅y) ⎠"
            ],
            "image/png": "[encoded data removed]",
            "text/latex": "$\\displaystyle \\left( e^{x + 2 y}, \\  \\left(x y\\right)^{n}\\right)$"
          },
          "metadata": {},
          "execution_count": 43
        }
      ],
      "source": [
        "powsimp(exp(x)*exp(2*y)),powsimp(x**n*y**n)"
      ]
    },
    {
      "cell_type": "markdown",
      "metadata": {
        "deletable": true,
        "editable": true,
        "id": "XYok8DkjvZ0K"
      },
      "source": [
        "Можно вводить функции пользователя. Они могут иметь произвольное число аргументов."
      ]
    },
    {
      "cell_type": "code",
      "execution_count": 44,
      "metadata": {
        "deletable": true,
        "editable": true,
        "colab": {
          "base_uri": "https://localhost:8080/",
          "height": 0
        },
        "id": "2evjfGwIvZ0K",
        "outputId": "6e25808a-4b36-4e1c-9159-1a7e4b32b361"
      },
      "outputs": [
        {
          "output_type": "execute_result",
          "data": {
            "text/plain": [
              "f(x) + f(x, y)"
            ],
            "image/png": "[encoded data removed]",
            "text/latex": "$\\displaystyle f{\\left(x \\right)} + f{\\left(x,y \\right)}$"
          },
          "metadata": {},
          "execution_count": 44
        }
      ],
      "source": [
        "f=Function('f')\n",
        "f(x)+f(x,y)"
      ]
    },
    {
      "cell_type": "markdown",
      "metadata": {
        "deletable": true,
        "editable": true,
        "id": "__uJrBPRvZ0L"
      },
      "source": [
        "## Структура выражений\n",
        "\n",
        "Внутреннее представление выражения - это дерево. Функция `srepr` возвращает строку, представляющую его."
      ]
    },
    {
      "cell_type": "code",
      "execution_count": 45,
      "metadata": {
        "deletable": true,
        "editable": true,
        "colab": {
          "base_uri": "https://localhost:8080/",
          "height": 0
        },
        "id": "ljn7DJJWvZ0L",
        "outputId": "da6e0866-61cc-46d2-916b-52cbaa14a62f"
      },
      "outputs": [
        {
          "output_type": "execute_result",
          "data": {
            "text/plain": [
              "\"Add(Symbol('x'), Integer(1))\""
            ],
            "application/vnd.google.colaboratory.intrinsic+json": {
              "type": "string"
            }
          },
          "metadata": {},
          "execution_count": 45
        }
      ],
      "source": [
        "srepr(x+1)"
      ]
    },
    {
      "cell_type": "code",
      "execution_count": 46,
      "metadata": {
        "deletable": true,
        "editable": true,
        "colab": {
          "base_uri": "https://localhost:8080/",
          "height": 0
        },
        "id": "DV5JoLIavZ0L",
        "outputId": "acb3fea0-5742-4de2-e83d-a3a04d186beb"
      },
      "outputs": [
        {
          "output_type": "execute_result",
          "data": {
            "text/plain": [
              "\"Add(Symbol('x'), Integer(-1))\""
            ],
            "application/vnd.google.colaboratory.intrinsic+json": {
              "type": "string"
            }
          },
          "metadata": {},
          "execution_count": 46
        }
      ],
      "source": [
        "srepr(x-1)"
      ]
    },
    {
      "cell_type": "code",
      "execution_count": 47,
      "metadata": {
        "deletable": true,
        "editable": true,
        "colab": {
          "base_uri": "https://localhost:8080/",
          "height": 0
        },
        "id": "D3cub7lyvZ0L",
        "outputId": "879a765f-d39b-4ff4-ef5d-6faf3c7a960a"
      },
      "outputs": [
        {
          "output_type": "execute_result",
          "data": {
            "text/plain": [
              "\"Add(Symbol('x'), Mul(Integer(-1), Symbol('y')))\""
            ],
            "application/vnd.google.colaboratory.intrinsic+json": {
              "type": "string"
            }
          },
          "metadata": {},
          "execution_count": 47
        }
      ],
      "source": [
        "srepr(x-y)"
      ]
    },
    {
      "cell_type": "code",
      "execution_count": 48,
      "metadata": {
        "deletable": true,
        "editable": true,
        "colab": {
          "base_uri": "https://localhost:8080/",
          "height": 0
        },
        "id": "VXtFHsSAvZ0L",
        "outputId": "5e7e70dc-f2a1-4b54-9069-51a8675947b6"
      },
      "outputs": [
        {
          "output_type": "execute_result",
          "data": {
            "text/plain": [
              "\"Mul(Rational(2, 3), Symbol('x'), Symbol('y'))\""
            ],
            "application/vnd.google.colaboratory.intrinsic+json": {
              "type": "string"
            }
          },
          "metadata": {},
          "execution_count": 48
        }
      ],
      "source": [
        "srepr(2*x*y/3)"
      ]
    },
    {
      "cell_type": "code",
      "execution_count": 49,
      "metadata": {
        "deletable": true,
        "editable": true,
        "colab": {
          "base_uri": "https://localhost:8080/",
          "height": 0
        },
        "id": "-_k6C0ClvZ0M",
        "outputId": "c9915b17-648a-431d-c274-4d9f2e054d08"
      },
      "outputs": [
        {
          "output_type": "execute_result",
          "data": {
            "text/plain": [
              "\"Mul(Symbol('x'), Pow(Symbol('y'), Integer(-1)))\""
            ],
            "application/vnd.google.colaboratory.intrinsic+json": {
              "type": "string"
            }
          },
          "metadata": {},
          "execution_count": 49
        }
      ],
      "source": [
        "srepr(x/y)"
      ]
    },
    {
      "cell_type": "markdown",
      "metadata": {
        "deletable": true,
        "editable": true,
        "id": "pVkgff9yvZ0M"
      },
      "source": [
        "Вместо бинарных операций `+`, `*`, `**` и т.д. можно использовать функции `Add`, `Mul`, `Pow` и т.д."
      ]
    },
    {
      "cell_type": "code",
      "execution_count": 50,
      "metadata": {
        "deletable": true,
        "editable": true,
        "colab": {
          "base_uri": "https://localhost:8080/"
        },
        "id": "yljXU7rdvZ0M",
        "outputId": "147f6abf-c1ca-4ed4-b44c-42f033880419"
      },
      "outputs": [
        {
          "output_type": "execute_result",
          "data": {
            "text/plain": [
              "True"
            ]
          },
          "metadata": {},
          "execution_count": 50
        }
      ],
      "source": [
        "Mul(x,Pow(y,-1))==x/y"
      ]
    },
    {
      "cell_type": "code",
      "execution_count": 51,
      "metadata": {
        "deletable": true,
        "editable": true,
        "colab": {
          "base_uri": "https://localhost:8080/",
          "height": 0
        },
        "id": "GMltqioWvZ0M",
        "outputId": "bec6c2d6-c57d-4e98-d971-fc48286b4632"
      },
      "outputs": [
        {
          "output_type": "execute_result",
          "data": {
            "text/plain": [
              "\"Function('f')(Symbol('x'), Symbol('y'))\""
            ],
            "application/vnd.google.colaboratory.intrinsic+json": {
              "type": "string"
            }
          },
          "metadata": {},
          "execution_count": 51
        }
      ],
      "source": [
        "srepr(f(x,y))"
      ]
    },
    {
      "cell_type": "markdown",
      "metadata": {
        "deletable": true,
        "editable": true,
        "id": "AUqxWg2-vZ0M"
      },
      "source": [
        "Атрибут `func` - это функция верхнего уровня в выражении, а `args` - список её аргументов."
      ]
    },
    {
      "cell_type": "code",
      "execution_count": 52,
      "metadata": {
        "deletable": true,
        "editable": true,
        "colab": {
          "base_uri": "https://localhost:8080/"
        },
        "id": "V4GYnMapvZ0N",
        "outputId": "27a1614e-d852-4525-facf-93e0190a4dc4"
      },
      "outputs": [
        {
          "output_type": "execute_result",
          "data": {
            "text/plain": [
              "sympy.core.mul.Mul"
            ]
          },
          "metadata": {},
          "execution_count": 52
        }
      ],
      "source": [
        "a=2*x*y**2\n",
        "a.func"
      ]
    },
    {
      "cell_type": "code",
      "execution_count": 53,
      "metadata": {
        "deletable": true,
        "editable": true,
        "colab": {
          "base_uri": "https://localhost:8080/",
          "height": 0
        },
        "id": "AUJfwWqJvZ0N",
        "outputId": "4055d7ae-e9cd-43fb-db54-b2398d32a6f8"
      },
      "outputs": [
        {
          "output_type": "execute_result",
          "data": {
            "text/plain": [
              "⎛       2⎞\n",
              "⎝2, x, y ⎠"
            ],
            "image/png": "[encoded data removed]",
            "text/latex": "$\\displaystyle \\left( 2, \\  x, \\  y^{2}\\right)$"
          },
          "metadata": {},
          "execution_count": 53
        }
      ],
      "source": [
        "a.args"
      ]
    },
    {
      "cell_type": "code",
      "execution_count": 54,
      "metadata": {
        "deletable": true,
        "editable": true,
        "colab": {
          "base_uri": "https://localhost:8080/",
          "height": 0
        },
        "id": "fUn0ET3wvZ0N",
        "outputId": "25abcd35-6a9f-4e80-a38e-002fb8c4421f"
      },
      "outputs": [
        {
          "output_type": "execute_result",
          "data": {
            "text/plain": [
              "2"
            ],
            "image/png": "[encoded data removed]",
            "text/latex": "$\\displaystyle 2$"
          },
          "metadata": {},
          "execution_count": 54
        }
      ],
      "source": [
        "a.args[0]"
      ]
    },
    {
      "cell_type": "code",
      "execution_count": 55,
      "metadata": {
        "deletable": true,
        "editable": true,
        "colab": {
          "base_uri": "https://localhost:8080/"
        },
        "id": "eZCtJmwavZ0N",
        "outputId": "b1b5719e-dfba-4491-a94b-6a8edaaccab8"
      },
      "outputs": [
        {
          "output_type": "stream",
          "name": "stdout",
          "text": [
            "2\n",
            "x\n",
            "y**2\n"
          ]
        }
      ],
      "source": [
        "for i in a.args:\n",
        "    print(i)"
      ]
    },
    {
      "cell_type": "markdown",
      "metadata": {
        "deletable": true,
        "editable": true,
        "id": "BCsMTy2evZ0N"
      },
      "source": [
        "Функция `subs` заменяет переменную на выражение."
      ]
    },
    {
      "cell_type": "code",
      "execution_count": 56,
      "metadata": {
        "deletable": true,
        "editable": true,
        "colab": {
          "base_uri": "https://localhost:8080/",
          "height": 0
        },
        "id": "Qau7V7I6vZ0N",
        "outputId": "f2674cf4-ff03-40ae-b07d-897a124606ec"
      },
      "outputs": [
        {
          "output_type": "execute_result",
          "data": {
            "text/plain": [
              "8⋅x"
            ],
            "image/png": "[encoded data removed]",
            "text/latex": "$\\displaystyle 8 x$"
          },
          "metadata": {},
          "execution_count": 56
        }
      ],
      "source": [
        "a.subs(y,2)"
      ]
    },
    {
      "cell_type": "markdown",
      "metadata": {
        "deletable": true,
        "editable": true,
        "id": "ZkAQ8RLBvZ0O"
      },
      "source": [
        "Она можнет заменить несколько переменных. Для этого ей передаётся список кортежей или словарь."
      ]
    },
    {
      "cell_type": "code",
      "execution_count": 57,
      "metadata": {
        "deletable": true,
        "editable": true,
        "colab": {
          "base_uri": "https://localhost:8080/",
          "height": 0
        },
        "id": "slsfs00fvZ0O",
        "outputId": "b6074326-4442-45dd-be22-52bbd48740f0"
      },
      "outputs": [
        {
          "output_type": "execute_result",
          "data": {
            "text/plain": [
              "8⋅π"
            ],
            "image/png": "[encoded data removed]",
            "text/latex": "$\\displaystyle 8 \\pi$"
          },
          "metadata": {},
          "execution_count": 57
        }
      ],
      "source": [
        "a.subs([(x,pi),(y,2)])"
      ]
    },
    {
      "cell_type": "code",
      "execution_count": 58,
      "metadata": {
        "deletable": true,
        "editable": true,
        "colab": {
          "base_uri": "https://localhost:8080/",
          "height": 0
        },
        "id": "KXcTJUc9vZ0O",
        "outputId": "88e2b656-5e7a-4455-84ed-52a56e999863"
      },
      "outputs": [
        {
          "output_type": "execute_result",
          "data": {
            "text/plain": [
              "8⋅π"
            ],
            "image/png": "[encoded data removed]",
            "text/latex": "$\\displaystyle 8 \\pi$"
          },
          "metadata": {},
          "execution_count": 58
        }
      ],
      "source": [
        "a.subs({x:pi,y:2})"
      ]
    },
    {
      "cell_type": "markdown",
      "metadata": {
        "deletable": true,
        "editable": true,
        "id": "qxufCM5AvZ0O"
      },
      "source": [
        "Она может заменить не переменную, а подвыражение - функцию с аргументами."
      ]
    },
    {
      "cell_type": "code",
      "execution_count": 59,
      "metadata": {
        "deletable": true,
        "editable": true,
        "colab": {
          "base_uri": "https://localhost:8080/",
          "height": 0
        },
        "id": "ds2x1EuFvZ0O",
        "outputId": "e005be55-767e-4b5b-afd4-fe10d055b6d9"
      },
      "outputs": [
        {
          "output_type": "execute_result",
          "data": {
            "text/plain": [
              "f(x) + 1"
            ],
            "image/png": "[encoded data removed]",
            "text/latex": "$\\displaystyle f{\\left(x \\right)} + 1$"
          },
          "metadata": {},
          "execution_count": 59
        }
      ],
      "source": [
        "a=f(x)+f(y)\n",
        "a.subs(f(y),1)"
      ]
    },
    {
      "cell_type": "code",
      "execution_count": 60,
      "metadata": {
        "deletable": true,
        "editable": true,
        "colab": {
          "base_uri": "https://localhost:8080/",
          "height": 0
        },
        "id": "DF9Hbfq1vZ0O",
        "outputId": "84638466-5969-4ef4-d21d-349a481a351e"
      },
      "outputs": [
        {
          "output_type": "execute_result",
          "data": {
            "text/plain": [
              "   2\n",
              "2⋅z "
            ],
            "image/png": "[encoded data removed]",
            "text/latex": "$\\displaystyle 2 z^{2}$"
          },
          "metadata": {},
          "execution_count": 60
        }
      ],
      "source": [
        "(2*x*y*z).subs(x*y,z)"
      ]
    },
    {
      "cell_type": "code",
      "execution_count": 61,
      "metadata": {
        "deletable": true,
        "editable": true,
        "colab": {
          "base_uri": "https://localhost:8080/",
          "height": 0
        },
        "id": "cDiLmvnHvZ0P",
        "outputId": "fc9c188a-2a98-4178-ba36-4686b427d6f3"
      },
      "outputs": [
        {
          "output_type": "execute_result",
          "data": {
            "text/plain": [
              " 3        2    \n",
              "x  + x + y  + y"
            ],
            "image/png": "[encoded data removed]",
            "text/latex": "$\\displaystyle x^{3} + x + y^{2} + y$"
          },
          "metadata": {},
          "execution_count": 61
        }
      ],
      "source": [
        "(x+x**2+x**3+x**4).subs(x**2,y)"
      ]
    },
    {
      "cell_type": "markdown",
      "metadata": {
        "deletable": true,
        "editable": true,
        "id": "LfSoqzAAvZ0P"
      },
      "source": [
        "Подстановки производятся последовательно. В данном случае сначала $x$ заменился на $y$, получилось $y^3+y^2$; потом в этом результате $y$ заменилось на $x$."
      ]
    },
    {
      "cell_type": "code",
      "execution_count": 62,
      "metadata": {
        "deletable": true,
        "editable": true,
        "colab": {
          "base_uri": "https://localhost:8080/",
          "height": 0
        },
        "id": "ckotRcnhvZ0P",
        "outputId": "a525defb-024a-4430-d32c-795c3997b656"
      },
      "outputs": [
        {
          "output_type": "execute_result",
          "data": {
            "text/plain": [
              " 3    2\n",
              "x  + x "
            ],
            "image/png": "[encoded data removed]",
            "text/latex": "$\\displaystyle x^{3} + x^{2}$"
          },
          "metadata": {},
          "execution_count": 62
        }
      ],
      "source": [
        "a=x**2+y**3\n",
        "a.subs([(x,y),(y,x)])"
      ]
    },
    {
      "cell_type": "markdown",
      "metadata": {
        "deletable": true,
        "editable": true,
        "id": "PsqFvkZXvZ0P"
      },
      "source": [
        "Если написать эти подстановки в другом порядке, результат будет другим."
      ]
    },
    {
      "cell_type": "code",
      "execution_count": 63,
      "metadata": {
        "deletable": true,
        "editable": true,
        "colab": {
          "base_uri": "https://localhost:8080/",
          "height": 0
        },
        "id": "taIwSBFwvZ0P",
        "outputId": "214c0de5-84e2-47aa-ccd3-410ce0e9c06d"
      },
      "outputs": [
        {
          "output_type": "execute_result",
          "data": {
            "text/plain": [
              " 3    2\n",
              "y  + y "
            ],
            "image/png": "[encoded data removed]",
            "text/latex": "$\\displaystyle y^{3} + y^{2}$"
          },
          "metadata": {},
          "execution_count": 63
        }
      ],
      "source": [
        "a.subs([(y,x),(x,y)])"
      ]
    },
    {
      "cell_type": "markdown",
      "metadata": {
        "deletable": true,
        "editable": true,
        "id": "YihlHbMrvZ0Q"
      },
      "source": [
        "Но можно передать функции `subs` ключевой параметр `simultaneous=True`, тогда подстановки будут производиться одновременно. Таким образом можно, например, поменять местами $x$ и $y$."
      ]
    },
    {
      "cell_type": "code",
      "execution_count": 64,
      "metadata": {
        "deletable": true,
        "editable": true,
        "colab": {
          "base_uri": "https://localhost:8080/",
          "height": 0
        },
        "id": "BLoyCS2PvZ0Q",
        "outputId": "89c092c7-270b-4ab1-946d-bdd9259b7e5d"
      },
      "outputs": [
        {
          "output_type": "execute_result",
          "data": {
            "text/plain": [
              " 3    2\n",
              "x  + y "
            ],
            "image/png": "[encoded data removed]",
            "text/latex": "$\\displaystyle x^{3} + y^{2}$"
          },
          "metadata": {},
          "execution_count": 64
        }
      ],
      "source": [
        "a.subs([(x,y),(y,x)],simultaneous=True)"
      ]
    },
    {
      "cell_type": "markdown",
      "metadata": {
        "deletable": true,
        "editable": true,
        "id": "wdMx3LJCvZ0Q"
      },
      "source": [
        "Можно заменить функцию на другую функцию."
      ]
    },
    {
      "cell_type": "code",
      "execution_count": 65,
      "metadata": {
        "deletable": true,
        "editable": true,
        "colab": {
          "base_uri": "https://localhost:8080/",
          "height": 0
        },
        "id": "aeSDfc3WvZ0Q",
        "outputId": "dfc51e5b-e6c2-4d11-d8fa-c01dc9727404"
      },
      "outputs": [
        {
          "output_type": "execute_result",
          "data": {
            "text/plain": [
              "g(x) + g(y)"
            ],
            "image/png": "[encoded data removed]",
            "text/latex": "$\\displaystyle g{\\left(x \\right)} + g{\\left(y \\right)}$"
          },
          "metadata": {},
          "execution_count": 65
        }
      ],
      "source": [
        "g=Function('g')\n",
        "a=f(x)+f(y)\n",
        "a.subs(f,g)"
      ]
    },
    {
      "cell_type": "markdown",
      "metadata": {
        "deletable": true,
        "editable": true,
        "id": "tIjmdsQuvZ0R"
      },
      "source": [
        "Метод `replace` ищет подвыражения, соответствующие образцу (содержащему произвольные переменные), и заменяет их на заданное выражение (оно может содержать те же произвольные переменные)."
      ]
    },
    {
      "cell_type": "code",
      "execution_count": 66,
      "metadata": {
        "deletable": true,
        "editable": true,
        "colab": {
          "base_uri": "https://localhost:8080/",
          "height": 0
        },
        "id": "8rBQ4JjBvZ0R",
        "outputId": "cde6e720-2e60-4722-9a40-e4145166fae2"
      },
      "outputs": [
        {
          "output_type": "execute_result",
          "data": {
            "text/plain": [
              " 2          2\n",
              "x  + (x + y) "
            ],
            "image/png": "[encoded data removed]",
            "text/latex": "$\\displaystyle x^{2} + \\left(x + y\\right)^{2}$"
          },
          "metadata": {},
          "execution_count": 66
        }
      ],
      "source": [
        "a=Wild('a')\n",
        "(f(x)+f(x+y)).replace(f(a),a**2)"
      ]
    },
    {
      "cell_type": "code",
      "execution_count": 67,
      "metadata": {
        "deletable": true,
        "editable": true,
        "colab": {
          "base_uri": "https://localhost:8080/",
          "height": 0
        },
        "id": "mSIY5VeDvZ0R",
        "outputId": "a735a35d-0992-436e-af54-6e728d2755bb"
      },
      "outputs": [
        {
          "output_type": "execute_result",
          "data": {
            "text/plain": [
              " 2          \n",
              "x  + f(x, y)"
            ],
            "image/png": "[encoded data removed]",
            "text/latex": "$\\displaystyle x^{2} + f{\\left(x,y \\right)}$"
          },
          "metadata": {},
          "execution_count": 67
        }
      ],
      "source": [
        "(f(x,x)+f(x,y)).replace(f(a,a),a**2)"
      ]
    },
    {
      "cell_type": "code",
      "execution_count": 68,
      "metadata": {
        "deletable": true,
        "editable": true,
        "colab": {
          "base_uri": "https://localhost:8080/",
          "height": 0
        },
        "id": "hDgQRcfpvZ0R",
        "outputId": "19f407f0-d0c7-46c6-f6fb-45d0f6176000"
      },
      "outputs": [
        {
          "output_type": "execute_result",
          "data": {
            "text/plain": [
              " 2          2\n",
              "y  + (x + 1) "
            ],
            "image/png": "[encoded data removed]",
            "text/latex": "$\\displaystyle y^{2} + \\left(x + 1\\right)^{2}$"
          },
          "metadata": {},
          "execution_count": 68
        }
      ],
      "source": [
        "a=x**2+y**2\n",
        "a.replace(x,x+1)"
      ]
    },
    {
      "cell_type": "markdown",
      "metadata": {
        "deletable": true,
        "editable": true,
        "id": "BIckomS5vZ0R"
      },
      "source": [
        "Соответствовать образцу должно целое подвыражение, это не может быть часть сомножителей в произведении или меньшая степеть в большей."
      ]
    },
    {
      "cell_type": "code",
      "execution_count": 69,
      "metadata": {
        "deletable": true,
        "editable": true,
        "colab": {
          "base_uri": "https://localhost:8080/",
          "height": 0
        },
        "id": "AUYX31awvZ0S",
        "outputId": "ec74e5ee-ff40-4659-e6a2-36b4503dcffa"
      },
      "outputs": [
        {
          "output_type": "execute_result",
          "data": {
            "text/plain": [
              "2⋅x⋅y⋅z"
            ],
            "image/png": "[encoded data removed]",
            "text/latex": "$\\displaystyle 2 x y z$"
          },
          "metadata": {},
          "execution_count": 69
        }
      ],
      "source": [
        "a=2*x*y*z\n",
        "a.replace(x*y,z)"
      ]
    },
    {
      "cell_type": "code",
      "execution_count": 70,
      "metadata": {
        "deletable": true,
        "editable": true,
        "colab": {
          "base_uri": "https://localhost:8080/",
          "height": 0
        },
        "id": "oVXP2C_9vZ0S",
        "outputId": "97ca3881-8388-4d0a-8b6b-8f0164290ea3"
      },
      "outputs": [
        {
          "output_type": "execute_result",
          "data": {
            "text/plain": [
              " 4    3        \n",
              "x  + x  + x + y"
            ],
            "image/png": "[encoded data removed]",
            "text/latex": "$\\displaystyle x^{4} + x^{3} + x + y$"
          },
          "metadata": {},
          "execution_count": 70
        }
      ],
      "source": [
        "(x+x**2+x**3+x**4).replace(x**2,y)"
      ]
    },
    {
      "cell_type": "markdown",
      "metadata": {
        "deletable": true,
        "editable": true,
        "id": "7BkNVY4svZ0S"
      },
      "source": [
        "## Решение уравнений"
      ]
    },
    {
      "cell_type": "code",
      "execution_count": 71,
      "metadata": {
        "collapsed": true,
        "deletable": true,
        "editable": true,
        "id": "oFYk0KGSvZ0S"
      },
      "outputs": [],
      "source": [
        "a,b,c,d,e,f=symbols('a b c d e f')"
      ]
    },
    {
      "cell_type": "markdown",
      "metadata": {
        "deletable": true,
        "editable": true,
        "id": "aYf3RdwhvZ0S"
      },
      "source": [
        "Уравнение записывается как функция `Eq` с двумя параметрами. Функция `solve` возврящает список решений."
      ]
    },
    {
      "cell_type": "code",
      "execution_count": 72,
      "metadata": {
        "deletable": true,
        "editable": true,
        "colab": {
          "base_uri": "https://localhost:8080/",
          "height": 0
        },
        "id": "LdylVEeRvZ0T",
        "outputId": "0ac6dc4a-c390-4fb2-c466-ba2247e9cb54"
      },
      "outputs": [
        {
          "output_type": "execute_result",
          "data": {
            "text/plain": [
              "⎡b⎤\n",
              "⎢─⎥\n",
              "⎣a⎦"
            ],
            "image/png": "[encoded data removed]",
            "text/latex": "$\\displaystyle \\left[ \\frac{b}{a}\\right]$"
          },
          "metadata": {},
          "execution_count": 72
        }
      ],
      "source": [
        "solve(Eq(a*x,b),x)"
      ]
    },
    {
      "cell_type": "markdown",
      "metadata": {
        "deletable": true,
        "editable": true,
        "id": "fNrpq-xPvZ0T"
      },
      "source": [
        "Впрочем, можно передать функции `solve` просто выражение. Подразумевается уравнение, что это выражение равно 0."
      ]
    },
    {
      "cell_type": "code",
      "execution_count": 73,
      "metadata": {
        "deletable": true,
        "editable": true,
        "colab": {
          "base_uri": "https://localhost:8080/",
          "height": 0
        },
        "id": "sSVyu9LavZ0T",
        "outputId": "7b13951e-667a-4922-faaf-a6b35224bf02"
      },
      "outputs": [
        {
          "output_type": "execute_result",
          "data": {
            "text/plain": [
              "⎡-b ⎤\n",
              "⎢───⎥\n",
              "⎣ a ⎦"
            ],
            "image/png": "[encoded data removed]",
            "text/latex": "$\\displaystyle \\left[ - \\frac{b}{a}\\right]$"
          },
          "metadata": {},
          "execution_count": 73
        }
      ],
      "source": [
        "solve(a*x+b,x)"
      ]
    },
    {
      "cell_type": "markdown",
      "metadata": {
        "deletable": true,
        "editable": true,
        "id": "NvU3ajaBvZ0T"
      },
      "source": [
        "Квадратное уравнение имеет 2 решения."
      ]
    },
    {
      "cell_type": "code",
      "execution_count": 74,
      "metadata": {
        "deletable": true,
        "editable": true,
        "colab": {
          "base_uri": "https://localhost:8080/",
          "height": 0
        },
        "id": "V60YfcxjvZ0T",
        "outputId": "41f5eb6a-1a93-44c5-a170-d8309811f575"
      },
      "outputs": [
        {
          "output_type": "execute_result",
          "data": {
            "text/plain": [
              "⎡        _____________   ⎛       _____________⎞ ⎤\n",
              "⎢       ╱           2    ⎜      ╱           2 ⎟ ⎥\n",
              "⎢-b + ╲╱  -4⋅a⋅c + b    -⎝b + ╲╱  -4⋅a⋅c + b  ⎠ ⎥\n",
              "⎢─────────────────────, ────────────────────────⎥\n",
              "⎣         2⋅a                     2⋅a           ⎦"
            ],
            "image/png": "[encoded data removed]",
            "text/latex": "$\\displaystyle \\left[ \\frac{- b + \\sqrt{- 4 a c + b^{2}}}{2 a}, \\  - \\frac{b + \\sqrt{- 4 a c + b^{2}}}{2 a}\\right]$"
          },
          "metadata": {},
          "execution_count": 74
        }
      ],
      "source": [
        "solve(a*x**2+b*x+c,x)"
      ]
    },
    {
      "cell_type": "markdown",
      "metadata": {
        "deletable": true,
        "editable": true,
        "id": "YujWXv6lvZ0T"
      },
      "source": [
        "Система линейных уравнений."
      ]
    },
    {
      "cell_type": "code",
      "execution_count": 75,
      "metadata": {
        "deletable": true,
        "editable": true,
        "colab": {
          "base_uri": "https://localhost:8080/",
          "height": 0
        },
        "id": "tpTwyf0AvZ0U",
        "outputId": "2f40cb3f-31a4-44cf-c179-471bc8bd2fa0"
      },
      "outputs": [
        {
          "output_type": "execute_result",
          "data": {
            "text/plain": [
              "⎧   -b⋅f + d⋅e     a⋅f - c⋅e⎫\n",
              "⎨x: ──────────, y: ─────────⎬\n",
              "⎩   a⋅d - b⋅c      a⋅d - b⋅c⎭"
            ],
            "image/png": "[encoded data removed]",
            "text/latex": "$\\displaystyle \\left\\{ x : \\frac{- b f + d e}{a d - b c}, \\  y : \\frac{a f - c e}{a d - b c}\\right\\}$"
          },
          "metadata": {},
          "execution_count": 75
        }
      ],
      "source": [
        "solve([a*x+b*y-e,c*x+d*y-f],[x,y])"
      ]
    },
    {
      "cell_type": "markdown",
      "metadata": {
        "deletable": true,
        "editable": true,
        "id": "PIZe1uMDvZ0U"
      },
      "source": [
        "Функция `roots` возвращает корни многочлена с их множественностями."
      ]
    },
    {
      "cell_type": "code",
      "execution_count": 76,
      "metadata": {
        "deletable": true,
        "editable": true,
        "colab": {
          "base_uri": "https://localhost:8080/",
          "height": 0
        },
        "id": "9kMdfV3svZ0U",
        "outputId": "c9522217-69c2-4fd6-936e-6c2f6ec7eefc"
      },
      "outputs": [
        {
          "output_type": "execute_result",
          "data": {
            "text/plain": [
              "{-2: 1, 1: 2}"
            ],
            "image/png": "[encoded data removed]",
            "text/latex": "$\\displaystyle \\left\\{ -2 : 1, \\  1 : 2\\right\\}$"
          },
          "metadata": {},
          "execution_count": 76
        }
      ],
      "source": [
        "roots(x**3-3*x+2,x)"
      ]
    },
    {
      "cell_type": "markdown",
      "metadata": {
        "collapsed": false,
        "deletable": true,
        "editable": true,
        "id": "sVnWqCw4vZ0W"
      },
      "source": [
        "Функция `solve_poly_system` решает систему полиномиальных уравнений, строя их базис Грёбнера."
      ]
    },
    {
      "cell_type": "code",
      "execution_count": 77,
      "metadata": {
        "deletable": true,
        "editable": true,
        "colab": {
          "base_uri": "https://localhost:8080/",
          "height": 0
        },
        "id": "wMCANN-qvZ0W",
        "outputId": "4ea44750-f12c-48d2-b3c1-e6c5adcbdf5f"
      },
      "outputs": [
        {
          "output_type": "execute_result",
          "data": {
            "text/plain": [
              "⎡⎛  ⎛         ________⎞     ________ ⎛        ________⎞       ________⎞  ⎛   ⎛\n",
              "⎢⎜  ⎜        ╱ 1   √3 ⎟    ╱ 1   √3  ⎜       ╱ 1   √3 ⎟      ╱ 1   √3 ⎟  ⎜   ⎜\n",
              "⎢⎜4⋅⎜-1 -   ╱  ─ - ── ⎟⋅  ╱  ─ - ── ⋅⎜1 -   ╱  ─ - ── ⎟, -  ╱  ─ - ── ⎟, ⎜-4⋅⎜\n",
              "⎣⎝  ⎝     ╲╱   2   4  ⎠ ╲╱   2   4   ⎝    ╲╱   2   4  ⎠   ╲╱   2   4  ⎠  ⎝   ⎝\n",
              "\n",
              "         ________⎞     ________ ⎛    ________    ⎞      ________⎞  ⎛  ⎛       \n",
              "        ╱ 1   √3 ⎟    ╱ 1   √3  ⎜   ╱ 1   √3     ⎟     ╱ 1   √3 ⎟  ⎜  ⎜       \n",
              "-1 +   ╱  ─ - ── ⎟⋅  ╱  ─ - ── ⋅⎜  ╱  ─ - ──  + 1⎟,   ╱  ─ - ── ⎟, ⎜4⋅⎜-1 -   \n",
              "     ╲╱   2   4  ⎠ ╲╱   2   4   ⎝╲╱   2   4      ⎠  ╲╱   2   4  ⎠  ⎝  ⎝     ╲╱\n",
              "\n",
              "  ________⎞ ⎛        ________⎞     ________       ________⎞  ⎛   ⎛         ___\n",
              " ╱ √3   1 ⎟ ⎜       ╱ √3   1 ⎟    ╱ √3   1       ╱ √3   1 ⎟  ⎜   ⎜        ╱ √3\n",
              "╱  ── + ─ ⎟⋅⎜1 -   ╱  ── + ─ ⎟⋅  ╱  ── + ─ , -  ╱  ── + ─ ⎟, ⎜-4⋅⎜-1 +   ╱  ──\n",
              "   4    2 ⎠ ⎝    ╲╱   4    2 ⎠ ╲╱   4    2    ╲╱   4    2 ⎠  ⎝   ⎝     ╲╱   4 \n",
              "\n",
              "_____⎞     ________ ⎛    ________    ⎞      ________⎞⎤\n",
              "   1 ⎟    ╱ √3   1  ⎜   ╱ √3   1     ⎟     ╱ √3   1 ⎟⎥\n",
              " + ─ ⎟⋅  ╱  ── + ─ ⋅⎜  ╱  ── + ─  + 1⎟,   ╱  ── + ─ ⎟⎥\n",
              "   2 ⎠ ╲╱   4    2  ⎝╲╱   4    2     ⎠  ╲╱   4    2 ⎠⎦"
            ],
            "image/png": "[encoded data removed]",
            "text/latex": "$\\displaystyle \\left[ \\left( 4 \\left(-1 - \\sqrt{\\frac{1}{2} - \\frac{\\sqrt{3}}{4}}\\right) \\sqrt{\\frac{1}{2} - \\frac{\\sqrt{3}}{4}} \\left(1 - \\sqrt{\\frac{1}{2} - \\frac{\\sqrt{3}}{4}}\\right), \\  - \\sqrt{\\frac{1}{2} - \\frac{\\sqrt{3}}{4}}\\right), \\  \\left( - 4 \\left(-1 + \\sqrt{\\frac{1}{2} - \\frac{\\sqrt{3}}{4}}\\right) \\sqrt{\\frac{1}{2} - \\frac{\\sqrt{3}}{4}} \\left(\\sqrt{\\frac{1}{2} - \\frac{\\sqrt{3}}{4}} + 1\\right), \\  \\sqrt{\\frac{1}{2} - \\frac{\\sqrt{3}}{4}}\\right), \\  \\left( 4 \\left(-1 - \\sqrt{\\frac{\\sqrt{3}}{4} + \\frac{1}{2}}\\right) \\left(1 - \\sqrt{\\frac{\\sqrt{3}}{4} + \\frac{1}{2}}\\right) \\sqrt{\\frac{\\sqrt{3}}{4} + \\frac{1}{2}}, \\  - \\sqrt{\\frac{\\sqrt{3}}{4} + \\frac{1}{2}}\\right), \\  \\left( - 4 \\left(-1 + \\sqrt{\\frac{\\sqrt{3}}{4} + \\frac{1}{2}}\\right) \\sqrt{\\frac{\\sqrt{3}}{4} + \\frac{1}{2}} \\left(\\sqrt{\\frac{\\sqrt{3}}{4} + \\frac{1}{2}} + 1\\right), \\  \\sqrt{\\frac{\\sqrt{3}}{4} + \\frac{1}{2}}\\right)\\right]$"
          },
          "metadata": {},
          "execution_count": 77
        }
      ],
      "source": [
        "p1=x**2+y**2-1\n",
        "p2=4*x*y-1\n",
        "solve_poly_system([p1,p2],x,y)"
      ]
    },
    {
      "cell_type": "markdown",
      "metadata": {
        "deletable": true,
        "editable": true,
        "id": "olVh4pUMvZ0W"
      },
      "source": [
        "## Ряды"
      ]
    },
    {
      "cell_type": "code",
      "execution_count": 78,
      "metadata": {
        "deletable": true,
        "editable": true,
        "colab": {
          "base_uri": "https://localhost:8080/",
          "height": 54
        },
        "id": "J7yeZnJuvZ0X",
        "outputId": "ac2c70ac-c615-4f00-d2fc-17390cbf647b"
      },
      "outputs": [
        {
          "output_type": "execute_result",
          "data": {
            "text/plain": [
              "         2    3    4        \n",
              "        x    x    x     ⎛ 5⎞\n",
              "1 + x + ── + ── + ── + O⎝x ⎠\n",
              "        2    6    24        "
            ],
            "image/png": "[encoded data removed]",
            "text/latex": "$\\displaystyle 1 + x + \\frac{x^{2}}{2} + \\frac{x^{3}}{6} + \\frac{x^{4}}{24} + O\\left(x^{5}\\right)$"
          },
          "metadata": {},
          "execution_count": 78
        }
      ],
      "source": [
        "exp(x).series(x,0,5)"
      ]
    },
    {
      "cell_type": "markdown",
      "metadata": {
        "deletable": true,
        "editable": true,
        "id": "LJ59tqUqvZ0X"
      },
      "source": [
        "Ряд может начинаться с отрицательной степени."
      ]
    },
    {
      "cell_type": "code",
      "execution_count": 79,
      "metadata": {
        "deletable": true,
        "editable": true,
        "colab": {
          "base_uri": "https://localhost:8080/",
          "height": 54
        },
        "id": "I_qVERDwvZ0X",
        "outputId": "2d94b307-cb1f-40a5-a80c-46ada5e85f72"
      },
      "outputs": [
        {
          "output_type": "execute_result",
          "data": {
            "text/plain": [
              "         3        \n",
              "1   x   x     ⎛ 5⎞\n",
              "─ - ─ - ── + O⎝x ⎠\n",
              "x   3   45        "
            ],
            "image/png": "[encoded data removed]",
            "text/latex": "$\\displaystyle \\frac{1}{x} - \\frac{x}{3} - \\frac{x^{3}}{45} + O\\left(x^{5}\\right)$"
          },
          "metadata": {},
          "execution_count": 79
        }
      ],
      "source": [
        "cot(x).series(x,n=5)"
      ]
    },
    {
      "cell_type": "markdown",
      "metadata": {
        "deletable": true,
        "editable": true,
        "id": "8eA-3pBjvZ0X"
      },
      "source": [
        "И даже идти по полуцелым степеням."
      ]
    },
    {
      "cell_type": "code",
      "execution_count": 80,
      "metadata": {
        "deletable": true,
        "editable": true,
        "colab": {
          "base_uri": "https://localhost:8080/",
          "height": 56
        },
        "id": "i1wxcgzwvZ0X",
        "outputId": "c11e903e-28cf-4ed7-d348-d8be0bc924d7"
      },
      "outputs": [
        {
          "output_type": "execute_result",
          "data": {
            "text/plain": [
              "      3/2    5/2    7/2      9/2        \n",
              "     x      x      x      5⋅x       ⎛ 5⎞\n",
              "√x - ──── - ──── - ──── - ────── + O⎝x ⎠\n",
              "      2      8      16     128          "
            ],
            "image/png": "[encoded data removed]",
            "text/latex": "$\\displaystyle \\sqrt{x} - \\frac{x^{\\frac{3}{2}}}{2} - \\frac{x^{\\frac{5}{2}}}{8} - \\frac{x^{\\frac{7}{2}}}{16} - \\frac{5 x^{\\frac{9}{2}}}{128} + O\\left(x^{5}\\right)$"
          },
          "metadata": {},
          "execution_count": 80
        }
      ],
      "source": [
        "sqrt(x*(1-x)).series(x,n=5)"
      ]
    },
    {
      "cell_type": "code",
      "execution_count": 81,
      "metadata": {
        "deletable": true,
        "editable": true,
        "colab": {
          "base_uri": "https://localhost:8080/",
          "height": 255
        },
        "id": "8gPKzsehvZ0X",
        "outputId": "c1fd9186-f5a1-4faa-a042-f1db7eec424a"
      },
      "outputs": [
        {
          "output_type": "execute_result",
          "data": {
            "text/plain": [
              "                                                          ⎛                   \n",
              "                                                          ⎜                   \n",
              "                                                          ⎜                   \n",
              "        2  2      ⎛     2           3     ⎛ 2    2⎞⎞      ⎜  ⎛     2          \n",
              "       π ⋅x     3 ⎜  γ⋅π    ζ(3)   γ      ⎜γ    π ⎟⎟    4 ⎜  ⎜  γ⋅π    ζ(3)   \n",
              "-γ⋅x + ───── + x ⋅⎜- ──── - ──── - ── + γ⋅⎜── + ──⎟⎟ + x ⋅⎜γ⋅⎜- ──── - ──── - \n",
              "         12       ⎝   12     3     2      ⎝2    12⎠⎠      ⎝  ⎝   12     3     \n",
              "\n",
              "               2                                             ⎞      ⎛    ⎛    \n",
              "      ⎛ 2    2⎞                                              ⎟      ⎜    ⎜⎛ 2 \n",
              "      ⎜γ    π ⎟                                              ⎟      ⎜    ⎜⎜γ  \n",
              " 3⎞   ⎜── + ──⎟       4    2  2               ⎛ 2    2⎞     4⎟      ⎜  γ⋅⎜⎜── \n",
              "γ ⎟   ⎝2    12⎠    5⋅γ    γ ⋅π    γ⋅ζ(3)    2 ⎜γ    π ⎟    π ⎟    5 ⎜    ⎝⎝2  \n",
              "──⎟ - ────────── - ──── + ───── + ────── + γ ⋅⎜── + ──⎟ + ───⎟ + x ⋅⎜- ───────\n",
              "6 ⎠       2         24      24      3         ⎝2    12⎠   160⎠      ⎝         \n",
              "\n",
              "     2                           ⎞                2                           \n",
              "   2⎞        ⎛     2           3⎞⎟       ⎛ 2    2⎞                            \n",
              "  π ⎟        ⎜  γ⋅π    ζ(3)   γ ⎟⎟       ⎜γ    π ⎟                            \n",
              "+ ──⎟  - 2⋅γ⋅⎜- ──── - ──── - ──⎟⎟   2⋅γ⋅⎜── + ──⎟       4    2               \n",
              "  12⎠        ⎝   12     3     6 ⎠⎠       ⎝2    12⎠    γ⋅π    π ⋅ζ(3)   ζ(5)   \n",
              "────────────────────────────────── - ────────────── - ──── - ─────── - ──── + \n",
              "             3                             3          160       36      5     \n",
              "\n",
              "                                                                              \n",
              "   ⎛     2           3⎞                                                       \n",
              " 2 ⎜  γ⋅π    ζ(3)   γ ⎟                                                       \n",
              "γ ⋅⎜- ──── - ──── - ──⎟    2         3  2      5      ⎛ 2    2⎞     ⎛ 4    2  \n",
              "   ⎝   12     3     6 ⎠   γ ⋅ζ(3)   γ ⋅π    5⋅γ     3 ⎜γ    π ⎟     ⎜γ    γ ⋅π\n",
              "─────────────────────── - ─────── - ───── - ──── + γ ⋅⎜── + ──⎟ + γ⋅⎜── + ────\n",
              "           3                 6        72     24       ⎝2    12⎠     ⎝24     24\n",
              "\n",
              "                                                  ⎞        \n",
              "                                                  ⎟        \n",
              "                                                  ⎟        \n",
              "2              4⎞   ⎛ 2    2⎞ ⎛     2           3⎞⎟        \n",
              "    γ⋅ζ(3)    π ⎟   ⎜γ    π ⎟ ⎜  γ⋅π    ζ(3)   γ ⎟⎟    ⎛ 6⎞\n",
              "─ + ────── + ───⎟ - ⎜── + ──⎟⋅⎜- ──── - ──── - ──⎟⎟ + O⎝x ⎠\n",
              "      3      160⎠   ⎝2    12⎠ ⎝   12     3     6 ⎠⎠        "
            ],
            "image/png": "[encoded data removed]",
            "text/latex": "$\\displaystyle - \\gamma x + \\frac{\\pi^{2} x^{2}}{12} + x^{3} \\left(- \\frac{\\gamma \\pi^{2}}{12} - \\frac{\\zeta\\left(3\\right)}{3} - \\frac{\\gamma^{3}}{2} + \\gamma \\left(\\frac{\\gamma^{2}}{2} + \\frac{\\pi^{2}}{12}\\right)\\right) + x^{4} \\left(\\gamma \\left(- \\frac{\\gamma \\pi^{2}}{12} - \\frac{\\zeta\\left(3\\right)}{3} - \\frac{\\gamma^{3}}{6}\\right) - \\frac{\\left(\\frac{\\gamma^{2}}{2} + \\frac{\\pi^{2}}{12}\\right)^{2}}{2} - \\frac{5 \\gamma^{4}}{24} + \\frac{\\gamma^{2} \\pi^{2}}{24} + \\frac{\\gamma \\zeta\\left(3\\right)}{3} + \\gamma^{2} \\left(\\frac{\\gamma^{2}}{2} + \\frac{\\pi^{2}}{12}\\right) + \\frac{\\pi^{4}}{160}\\right) + x^{5} \\left(- \\frac{\\gamma \\left(\\left(\\frac{\\gamma^{2}}{2} + \\frac{\\pi^{2}}{12}\\right)^{2} - 2 \\gamma \\left(- \\frac{\\gamma \\pi^{2}}{12} - \\frac{\\zeta\\left(3\\right)}{3} - \\frac{\\gamma^{3}}{6}\\right)\\right)}{3} - \\frac{2 \\gamma \\left(\\frac{\\gamma^{2}}{2} + \\frac{\\pi^{2}}{12}\\right)^{2}}{3} - \\frac{\\gamma \\pi^{4}}{160} - \\frac{\\pi^{2} \\zeta\\left(3\\right)}{36} - \\frac{\\zeta\\left(5\\right)}{5} + \\frac{\\gamma^{2} \\left(- \\frac{\\gamma \\pi^{2}}{12} - \\frac{\\zeta\\left(3\\right)}{3} - \\frac{\\gamma^{3}}{6}\\right)}{3} - \\frac{\\gamma^{2} \\zeta\\left(3\\right)}{6} - \\frac{\\gamma^{3} \\pi^{2}}{72} - \\frac{5 \\gamma^{5}}{24} + \\gamma^{3} \\left(\\frac{\\gamma^{2}}{2} + \\frac{\\pi^{2}}{12}\\right) + \\gamma \\left(\\frac{\\gamma^{4}}{24} + \\frac{\\gamma^{2} \\pi^{2}}{24} + \\frac{\\gamma \\zeta\\left(3\\right)}{3} + \\frac{\\pi^{4}}{160}\\right) - \\left(\\frac{\\gamma^{2}}{2} + \\frac{\\pi^{2}}{12}\\right) \\left(- \\frac{\\gamma \\pi^{2}}{12} - \\frac{\\zeta\\left(3\\right)}{3} - \\frac{\\gamma^{3}}{6}\\right)\\right) + O\\left(x^{6}\\right)$"
          },
          "metadata": {},
          "execution_count": 81
        }
      ],
      "source": [
        "log(gamma(1+x)).series(x,n=6).rewrite(zeta)"
      ]
    },
    {
      "cell_type": "markdown",
      "metadata": {
        "deletable": true,
        "editable": true,
        "id": "47hw3dGevZ0X"
      },
      "source": [
        "Подготовим 3 ряда."
      ]
    },
    {
      "cell_type": "code",
      "execution_count": 82,
      "metadata": {
        "deletable": true,
        "editable": true,
        "colab": {
          "base_uri": "https://localhost:8080/",
          "height": 54
        },
        "id": "wmXmPY39vZ0Y",
        "outputId": "e874239d-478f-45d1-9a5d-fee6d3e2c400"
      },
      "outputs": [
        {
          "output_type": "execute_result",
          "data": {
            "text/plain": [
              "     3     5     7         \n",
              "    x     x     x      ⎛ 8⎞\n",
              "x - ── + ─── - ──── + O⎝x ⎠\n",
              "    6    120   5040        "
            ],
            "image/png": "[encoded data removed]",
            "text/latex": "$\\displaystyle x - \\frac{x^{3}}{6} + \\frac{x^{5}}{120} - \\frac{x^{7}}{5040} + O\\left(x^{8}\\right)$"
          },
          "metadata": {},
          "execution_count": 82
        }
      ],
      "source": [
        "sinx=series(sin(x),x,0,8)\n",
        "sinx"
      ]
    },
    {
      "cell_type": "code",
      "execution_count": 83,
      "metadata": {
        "deletable": true,
        "editable": true,
        "colab": {
          "base_uri": "https://localhost:8080/",
          "height": 54
        },
        "id": "pTfHkKi7vZ0Y",
        "outputId": "c320f94e-c888-4b2f-b133-98b996625858"
      },
      "outputs": [
        {
          "output_type": "execute_result",
          "data": {
            "text/plain": [
              "     2    4     6        \n",
              "    x    x     x     ⎛ 8⎞\n",
              "1 - ── + ── - ─── + O⎝x ⎠\n",
              "    2    24   720        "
            ],
            "image/png": "[encoded data removed]",
            "text/latex": "$\\displaystyle 1 - \\frac{x^{2}}{2} + \\frac{x^{4}}{24} - \\frac{x^{6}}{720} + O\\left(x^{8}\\right)$"
          },
          "metadata": {},
          "execution_count": 83
        }
      ],
      "source": [
        "cosx=series(cos(x),x,n=8)\n",
        "cosx"
      ]
    },
    {
      "cell_type": "code",
      "execution_count": 84,
      "metadata": {
        "deletable": true,
        "editable": true,
        "colab": {
          "base_uri": "https://localhost:8080/",
          "height": 54
        },
        "id": "maKgiPH2vZ0Y",
        "outputId": "55d7c536-5145-4e34-e6ce-17e0415d742f"
      },
      "outputs": [
        {
          "output_type": "execute_result",
          "data": {
            "text/plain": [
              "     3      5       7        \n",
              "    x    2⋅x    17⋅x     ⎛ 8⎞\n",
              "x + ── + ──── + ───── + O⎝x ⎠\n",
              "    3     15     315         "
            ],
            "image/png": "[encoded data removed]",
            "text/latex": "$\\displaystyle x + \\frac{x^{3}}{3} + \\frac{2 x^{5}}{15} + \\frac{17 x^{7}}{315} + O\\left(x^{8}\\right)$"
          },
          "metadata": {},
          "execution_count": 84
        }
      ],
      "source": [
        "tanx=series(tan(x),x,n=8)\n",
        "tanx"
      ]
    },
    {
      "cell_type": "markdown",
      "metadata": {
        "deletable": true,
        "editable": true,
        "id": "O_vaqRdnvZ0Y"
      },
      "source": [
        "Произведения и частные рядов не вычисляются автоматически, к ним надо применить функцию `series`."
      ]
    },
    {
      "cell_type": "code",
      "execution_count": 85,
      "metadata": {
        "deletable": true,
        "editable": true,
        "colab": {
          "base_uri": "https://localhost:8080/",
          "height": 54
        },
        "id": "WsrBiEmxvZ0Z",
        "outputId": "89e5567b-2f66-4011-bc1d-cf99c81b38f7"
      },
      "outputs": [
        {
          "output_type": "execute_result",
          "data": {
            "text/plain": [
              "     3     5     7         \n",
              "    x     x     x      ⎛ 8⎞\n",
              "x - ── + ─── - ──── + O⎝x ⎠\n",
              "    6    120   5040        "
            ],
            "image/png": "[encoded data removed]",
            "text/latex": "$\\displaystyle x - \\frac{x^{3}}{6} + \\frac{x^{5}}{120} - \\frac{x^{7}}{5040} + O\\left(x^{8}\\right)$"
          },
          "metadata": {},
          "execution_count": 85
        }
      ],
      "source": [
        "series(tanx*cosx,n=8)"
      ]
    },
    {
      "cell_type": "code",
      "execution_count": 86,
      "metadata": {
        "deletable": true,
        "editable": true,
        "colab": {
          "base_uri": "https://localhost:8080/",
          "height": 54
        },
        "id": "8h1pAvaHvZ0Z",
        "outputId": "31f95f37-cf9d-4401-ccf2-9c15d511b392"
      },
      "outputs": [
        {
          "output_type": "execute_result",
          "data": {
            "text/plain": [
              "     3      5       7        \n",
              "    x    2⋅x    17⋅x     ⎛ 8⎞\n",
              "x + ── + ──── + ───── + O⎝x ⎠\n",
              "    3     15     315         "
            ],
            "image/png": "[encoded data removed]",
            "text/latex": "$\\displaystyle x + \\frac{x^{3}}{3} + \\frac{2 x^{5}}{15} + \\frac{17 x^{7}}{315} + O\\left(x^{8}\\right)$"
          },
          "metadata": {},
          "execution_count": 86
        }
      ],
      "source": [
        "series(sinx/cosx,n=8)"
      ]
    },
    {
      "cell_type": "markdown",
      "metadata": {
        "deletable": true,
        "editable": true,
        "id": "rNxtzZLavZ0Z"
      },
      "source": [
        "А этот ряд должен быть равен 1. Но поскольку `sinx` и `cosx` известны лишь с ограниченной точностью, мы получаем 1 с той же точностью."
      ]
    },
    {
      "cell_type": "code",
      "execution_count": 87,
      "metadata": {
        "deletable": true,
        "editable": true,
        "colab": {
          "base_uri": "https://localhost:8080/",
          "height": 38
        },
        "id": "QMRAqywpvZ0Z",
        "outputId": "05f737ca-585c-4ded-8421-5d10f2724049"
      },
      "outputs": [
        {
          "output_type": "execute_result",
          "data": {
            "text/plain": [
              "     ⎛ 8⎞\n",
              "1 + O⎝x ⎠"
            ],
            "image/png": "[encoded data removed]",
            "text/latex": "$\\displaystyle 1 + O\\left(x^{8}\\right)$"
          },
          "metadata": {},
          "execution_count": 87
        }
      ],
      "source": [
        "series(sinx**2+cosx**2,n=8)"
      ]
    },
    {
      "cell_type": "markdown",
      "metadata": {
        "deletable": true,
        "editable": true,
        "id": "LOWFi0P8vZ0Z"
      },
      "source": [
        "Здесь первые члены сократились, и ответ можно получить лишь с меньшей точностью."
      ]
    },
    {
      "cell_type": "code",
      "execution_count": 88,
      "metadata": {
        "deletable": true,
        "editable": true,
        "colab": {
          "base_uri": "https://localhost:8080/",
          "height": 54
        },
        "id": "0oq5UGbXvZ0Z",
        "outputId": "dbef5b2a-dc3d-4a61-90bc-e69a2befe511"
      },
      "outputs": [
        {
          "output_type": "execute_result",
          "data": {
            "text/plain": [
              "     2     4        \n",
              "1   x     x     ⎛ 6⎞\n",
              "─ - ── + ─── + O⎝x ⎠\n",
              "2   24   720        "
            ],
            "image/png": "[encoded data removed]",
            "text/latex": "$\\displaystyle \\frac{1}{2} - \\frac{x^{2}}{24} + \\frac{x^{4}}{720} + O\\left(x^{6}\\right)$"
          },
          "metadata": {},
          "execution_count": 88
        }
      ],
      "source": [
        "series((1-cosx)/x**2,n=6)"
      ]
    },
    {
      "cell_type": "markdown",
      "metadata": {
        "deletable": true,
        "editable": true,
        "id": "sfYfa379vZ0a"
      },
      "source": [
        "Ряды можно дифференцировать и интегрировать."
      ]
    },
    {
      "cell_type": "code",
      "execution_count": 89,
      "metadata": {
        "deletable": true,
        "editable": true,
        "colab": {
          "base_uri": "https://localhost:8080/",
          "height": 54
        },
        "id": "JmABQhgZvZ0a",
        "outputId": "af1e2442-7df6-44b7-cba3-b66968fb4472"
      },
      "outputs": [
        {
          "output_type": "execute_result",
          "data": {
            "text/plain": [
              "     2    4     6        \n",
              "    x    x     x     ⎛ 7⎞\n",
              "1 - ── + ── - ─── + O⎝x ⎠\n",
              "    2    24   720        "
            ],
            "image/png": "[encoded data removed]",
            "text/latex": "$\\displaystyle 1 - \\frac{x^{2}}{2} + \\frac{x^{4}}{24} - \\frac{x^{6}}{720} + O\\left(x^{7}\\right)$"
          },
          "metadata": {},
          "execution_count": 89
        }
      ],
      "source": [
        "diff(sinx,x)"
      ]
    },
    {
      "cell_type": "code",
      "execution_count": 90,
      "metadata": {
        "deletable": true,
        "editable": true,
        "colab": {
          "base_uri": "https://localhost:8080/",
          "height": 54
        },
        "id": "qh5dBnQDvZ0a",
        "outputId": "58f6afe5-db81-4859-ec00-6f21fc464981"
      },
      "outputs": [
        {
          "output_type": "execute_result",
          "data": {
            "text/plain": [
              "     3     5     7         \n",
              "    x     x     x      ⎛ 9⎞\n",
              "x - ── + ─── - ──── + O⎝x ⎠\n",
              "    6    120   5040        "
            ],
            "image/png": "[encoded data removed]",
            "text/latex": "$\\displaystyle x - \\frac{x^{3}}{6} + \\frac{x^{5}}{120} - \\frac{x^{7}}{5040} + O\\left(x^{9}\\right)$"
          },
          "metadata": {},
          "execution_count": 90
        }
      ],
      "source": [
        "integrate(cosx,x)"
      ]
    },
    {
      "cell_type": "markdown",
      "metadata": {
        "deletable": true,
        "editable": true,
        "id": "sWPWVvwOvZ0a"
      },
      "source": [
        "Можно подставить ряд (если он начинается с малого члена) вместо переменной разложения в другой ряд. Вот ряды для $\\sin(\\tan(x))$ и $\\tan(\\sin(x))$."
      ]
    },
    {
      "cell_type": "code",
      "execution_count": 91,
      "metadata": {
        "deletable": true,
        "editable": true,
        "colab": {
          "base_uri": "https://localhost:8080/",
          "height": 606
        },
        "id": "QYPSbVATvZ0a",
        "outputId": "67f324e2-c9b0-4a60-e216-c468ba7f001e"
      },
      "outputs": [
        {
          "output_type": "error",
          "ename": "TypeError",
          "evalue": "ignored",
          "traceback": [
            "\u001b[0;31m---------------------------------------------------------------------------\u001b[0m",
            "\u001b[0;31mTypeError\u001b[0m                                 Traceback (most recent call last)",
            "\u001b[0;32m/usr/local/lib/python3.7/dist-packages/sympy/core/cache.py\u001b[0m in \u001b[0;36mwrapper\u001b[0;34m(*args, **kwargs)\u001b[0m\n\u001b[1;32m     71\u001b[0m             \u001b[0;32mtry\u001b[0m\u001b[0;34m:\u001b[0m\u001b[0;34m\u001b[0m\u001b[0;34m\u001b[0m\u001b[0m\n\u001b[0;32m---> 72\u001b[0;31m                 \u001b[0mretval\u001b[0m \u001b[0;34m=\u001b[0m \u001b[0mcfunc\u001b[0m\u001b[0;34m(\u001b[0m\u001b[0;34m*\u001b[0m\u001b[0margs\u001b[0m\u001b[0;34m,\u001b[0m \u001b[0;34m**\u001b[0m\u001b[0mkwargs\u001b[0m\u001b[0;34m)\u001b[0m\u001b[0;34m\u001b[0m\u001b[0;34m\u001b[0m\u001b[0m\n\u001b[0m\u001b[1;32m     73\u001b[0m             \u001b[0;32mexcept\u001b[0m \u001b[0mTypeError\u001b[0m\u001b[0;34m:\u001b[0m\u001b[0;34m\u001b[0m\u001b[0;34m\u001b[0m\u001b[0m\n",
            "\u001b[0;32m/usr/local/lib/python3.7/dist-packages/sympy/core/basic.py\u001b[0m in \u001b[0;36m_subs\u001b[0;34m(self, old, new, **hints)\u001b[0m\n\u001b[1;32m   1059\u001b[0m \u001b[0;34m\u001b[0m\u001b[0m\n\u001b[0;32m-> 1060\u001b[0;31m         \u001b[0mrv\u001b[0m \u001b[0;34m=\u001b[0m \u001b[0mself\u001b[0m\u001b[0;34m.\u001b[0m\u001b[0m_eval_subs\u001b[0m\u001b[0;34m(\u001b[0m\u001b[0mold\u001b[0m\u001b[0;34m,\u001b[0m \u001b[0mnew\u001b[0m\u001b[0;34m)\u001b[0m\u001b[0;34m\u001b[0m\u001b[0;34m\u001b[0m\u001b[0m\n\u001b[0m\u001b[1;32m   1061\u001b[0m         \u001b[0;32mif\u001b[0m \u001b[0mrv\u001b[0m \u001b[0;32mis\u001b[0m \u001b[0;32mNone\u001b[0m\u001b[0;34m:\u001b[0m\u001b[0;34m\u001b[0m\u001b[0;34m\u001b[0m\u001b[0m\n",
            "\u001b[0;32m/usr/local/lib/python3.7/dist-packages/sympy/series/order.py\u001b[0m in \u001b[0;36m_eval_subs\u001b[0;34m(self, old, new)\u001b[0m\n\u001b[1;32m    441\u001b[0m                             \u001b[0msol\u001b[0m \u001b[0;34m=\u001b[0m \u001b[0mset\u001b[0m\u001b[0;34m(\u001b[0m\u001b[0me1\u001b[0m\u001b[0;34m)\u001b[0m \u001b[0;34m-\u001b[0m \u001b[0mset\u001b[0m\u001b[0;34m(\u001b[0m\u001b[0me2\u001b[0m\u001b[0;34m)\u001b[0m\u001b[0;34m\u001b[0m\u001b[0;34m\u001b[0m\u001b[0m\n\u001b[0;32m--> 442\u001b[0;31m                         \u001b[0mres\u001b[0m \u001b[0;34m=\u001b[0m \u001b[0;34m[\u001b[0m\u001b[0mdict\u001b[0m\u001b[0;34m(\u001b[0m\u001b[0mzip\u001b[0m\u001b[0;34m(\u001b[0m\u001b[0;34m(\u001b[0m\u001b[0md\u001b[0m\u001b[0;34m,\u001b[0m \u001b[0;34m)\u001b[0m\u001b[0;34m,\u001b[0m \u001b[0msol\u001b[0m\u001b[0;34m)\u001b[0m\u001b[0;34m)\u001b[0m\u001b[0;34m]\u001b[0m\u001b[0;34m\u001b[0m\u001b[0;34m\u001b[0m\u001b[0m\n\u001b[0m\u001b[1;32m    443\u001b[0m                         \u001b[0mpoint\u001b[0m \u001b[0;34m=\u001b[0m \u001b[0md\u001b[0m\u001b[0;34m.\u001b[0m\u001b[0msubs\u001b[0m\u001b[0;34m(\u001b[0m\u001b[0mres\u001b[0m\u001b[0;34m[\u001b[0m\u001b[0;36m0\u001b[0m\u001b[0;34m]\u001b[0m\u001b[0;34m)\u001b[0m\u001b[0;34m.\u001b[0m\u001b[0mlimit\u001b[0m\u001b[0;34m(\u001b[0m\u001b[0mold\u001b[0m\u001b[0;34m,\u001b[0m \u001b[0mself\u001b[0m\u001b[0;34m.\u001b[0m\u001b[0mpoint\u001b[0m\u001b[0;34m[\u001b[0m\u001b[0mi\u001b[0m\u001b[0;34m]\u001b[0m\u001b[0;34m)\u001b[0m\u001b[0;34m\u001b[0m\u001b[0;34m\u001b[0m\u001b[0m\n",
            "\u001b[0;31mTypeError\u001b[0m: zip argument #2 must support iteration",
            "\nDuring handling of the above exception, another exception occurred:\n",
            "\u001b[0;31mTypeError\u001b[0m                                 Traceback (most recent call last)",
            "\u001b[0;32m/usr/local/lib/python3.7/dist-packages/sympy/core/cache.py\u001b[0m in \u001b[0;36mwrapper\u001b[0;34m(*args, **kwargs)\u001b[0m\n\u001b[1;32m     71\u001b[0m             \u001b[0;32mtry\u001b[0m\u001b[0;34m:\u001b[0m\u001b[0;34m\u001b[0m\u001b[0;34m\u001b[0m\u001b[0m\n\u001b[0;32m---> 72\u001b[0;31m                 \u001b[0mretval\u001b[0m \u001b[0;34m=\u001b[0m \u001b[0mcfunc\u001b[0m\u001b[0;34m(\u001b[0m\u001b[0;34m*\u001b[0m\u001b[0margs\u001b[0m\u001b[0;34m,\u001b[0m \u001b[0;34m**\u001b[0m\u001b[0mkwargs\u001b[0m\u001b[0;34m)\u001b[0m\u001b[0;34m\u001b[0m\u001b[0;34m\u001b[0m\u001b[0m\n\u001b[0m\u001b[1;32m     73\u001b[0m             \u001b[0;32mexcept\u001b[0m \u001b[0mTypeError\u001b[0m\u001b[0;34m:\u001b[0m\u001b[0;34m\u001b[0m\u001b[0;34m\u001b[0m\u001b[0m\n",
            "\u001b[0;32m/usr/local/lib/python3.7/dist-packages/sympy/core/basic.py\u001b[0m in \u001b[0;36m_subs\u001b[0;34m(self, old, new, **hints)\u001b[0m\n\u001b[1;32m   1061\u001b[0m         \u001b[0;32mif\u001b[0m \u001b[0mrv\u001b[0m \u001b[0;32mis\u001b[0m \u001b[0;32mNone\u001b[0m\u001b[0;34m:\u001b[0m\u001b[0;34m\u001b[0m\u001b[0;34m\u001b[0m\u001b[0m\n\u001b[0;32m-> 1062\u001b[0;31m             \u001b[0mrv\u001b[0m \u001b[0;34m=\u001b[0m \u001b[0mfallback\u001b[0m\u001b[0;34m(\u001b[0m\u001b[0mself\u001b[0m\u001b[0;34m,\u001b[0m \u001b[0mold\u001b[0m\u001b[0;34m,\u001b[0m \u001b[0mnew\u001b[0m\u001b[0;34m)\u001b[0m\u001b[0;34m\u001b[0m\u001b[0;34m\u001b[0m\u001b[0m\n\u001b[0m\u001b[1;32m   1063\u001b[0m         \u001b[0;32mreturn\u001b[0m \u001b[0mrv\u001b[0m\u001b[0;34m\u001b[0m\u001b[0;34m\u001b[0m\u001b[0m\n",
            "\u001b[0;32m/usr/local/lib/python3.7/dist-packages/sympy/core/basic.py\u001b[0m in \u001b[0;36mfallback\u001b[0;34m(self, old, new)\u001b[0m\n\u001b[1;32m   1033\u001b[0m                     \u001b[0;32mcontinue\u001b[0m\u001b[0;34m\u001b[0m\u001b[0;34m\u001b[0m\u001b[0m\n\u001b[0;32m-> 1034\u001b[0;31m                 \u001b[0marg\u001b[0m \u001b[0;34m=\u001b[0m \u001b[0marg\u001b[0m\u001b[0;34m.\u001b[0m\u001b[0m_subs\u001b[0m\u001b[0;34m(\u001b[0m\u001b[0mold\u001b[0m\u001b[0;34m,\u001b[0m \u001b[0mnew\u001b[0m\u001b[0;34m,\u001b[0m \u001b[0;34m**\u001b[0m\u001b[0mhints\u001b[0m\u001b[0;34m)\u001b[0m\u001b[0;34m\u001b[0m\u001b[0;34m\u001b[0m\u001b[0m\n\u001b[0m\u001b[1;32m   1035\u001b[0m                 \u001b[0;32mif\u001b[0m \u001b[0;32mnot\u001b[0m \u001b[0m_aresame\u001b[0m\u001b[0;34m(\u001b[0m\u001b[0marg\u001b[0m\u001b[0;34m,\u001b[0m \u001b[0margs\u001b[0m\u001b[0;34m[\u001b[0m\u001b[0mi\u001b[0m\u001b[0;34m]\u001b[0m\u001b[0;34m)\u001b[0m\u001b[0;34m:\u001b[0m\u001b[0;34m\u001b[0m\u001b[0;34m\u001b[0m\u001b[0m\n",
            "\u001b[0;32m/usr/local/lib/python3.7/dist-packages/sympy/core/cache.py\u001b[0m in \u001b[0;36mwrapper\u001b[0;34m(*args, **kwargs)\u001b[0m\n\u001b[1;32m     73\u001b[0m             \u001b[0;32mexcept\u001b[0m \u001b[0mTypeError\u001b[0m\u001b[0;34m:\u001b[0m\u001b[0;34m\u001b[0m\u001b[0;34m\u001b[0m\u001b[0m\n\u001b[0;32m---> 74\u001b[0;31m                 \u001b[0mretval\u001b[0m \u001b[0;34m=\u001b[0m \u001b[0mfunc\u001b[0m\u001b[0;34m(\u001b[0m\u001b[0;34m*\u001b[0m\u001b[0margs\u001b[0m\u001b[0;34m,\u001b[0m \u001b[0;34m**\u001b[0m\u001b[0mkwargs\u001b[0m\u001b[0;34m)\u001b[0m\u001b[0;34m\u001b[0m\u001b[0;34m\u001b[0m\u001b[0m\n\u001b[0m\u001b[1;32m     75\u001b[0m             \u001b[0;32mreturn\u001b[0m \u001b[0mretval\u001b[0m\u001b[0;34m\u001b[0m\u001b[0;34m\u001b[0m\u001b[0m\n",
            "\u001b[0;32m/usr/local/lib/python3.7/dist-packages/sympy/core/basic.py\u001b[0m in \u001b[0;36m_subs\u001b[0;34m(self, old, new, **hints)\u001b[0m\n\u001b[1;32m   1059\u001b[0m \u001b[0;34m\u001b[0m\u001b[0m\n\u001b[0;32m-> 1060\u001b[0;31m         \u001b[0mrv\u001b[0m \u001b[0;34m=\u001b[0m \u001b[0mself\u001b[0m\u001b[0;34m.\u001b[0m\u001b[0m_eval_subs\u001b[0m\u001b[0;34m(\u001b[0m\u001b[0mold\u001b[0m\u001b[0;34m,\u001b[0m \u001b[0mnew\u001b[0m\u001b[0;34m)\u001b[0m\u001b[0;34m\u001b[0m\u001b[0;34m\u001b[0m\u001b[0m\n\u001b[0m\u001b[1;32m   1061\u001b[0m         \u001b[0;32mif\u001b[0m \u001b[0mrv\u001b[0m \u001b[0;32mis\u001b[0m \u001b[0;32mNone\u001b[0m\u001b[0;34m:\u001b[0m\u001b[0;34m\u001b[0m\u001b[0;34m\u001b[0m\u001b[0m\n",
            "\u001b[0;32m/usr/local/lib/python3.7/dist-packages/sympy/series/order.py\u001b[0m in \u001b[0;36m_eval_subs\u001b[0;34m(self, old, new)\u001b[0m\n\u001b[1;32m    441\u001b[0m                             \u001b[0msol\u001b[0m \u001b[0;34m=\u001b[0m \u001b[0mset\u001b[0m\u001b[0;34m(\u001b[0m\u001b[0me1\u001b[0m\u001b[0;34m)\u001b[0m \u001b[0;34m-\u001b[0m \u001b[0mset\u001b[0m\u001b[0;34m(\u001b[0m\u001b[0me2\u001b[0m\u001b[0;34m)\u001b[0m\u001b[0;34m\u001b[0m\u001b[0;34m\u001b[0m\u001b[0m\n\u001b[0;32m--> 442\u001b[0;31m                         \u001b[0mres\u001b[0m \u001b[0;34m=\u001b[0m \u001b[0;34m[\u001b[0m\u001b[0mdict\u001b[0m\u001b[0;34m(\u001b[0m\u001b[0mzip\u001b[0m\u001b[0;34m(\u001b[0m\u001b[0;34m(\u001b[0m\u001b[0md\u001b[0m\u001b[0;34m,\u001b[0m \u001b[0;34m)\u001b[0m\u001b[0;34m,\u001b[0m \u001b[0msol\u001b[0m\u001b[0;34m)\u001b[0m\u001b[0;34m)\u001b[0m\u001b[0;34m]\u001b[0m\u001b[0;34m\u001b[0m\u001b[0;34m\u001b[0m\u001b[0m\n\u001b[0m\u001b[1;32m    443\u001b[0m                         \u001b[0mpoint\u001b[0m \u001b[0;34m=\u001b[0m \u001b[0md\u001b[0m\u001b[0;34m.\u001b[0m\u001b[0msubs\u001b[0m\u001b[0;34m(\u001b[0m\u001b[0mres\u001b[0m\u001b[0;34m[\u001b[0m\u001b[0;36m0\u001b[0m\u001b[0;34m]\u001b[0m\u001b[0;34m)\u001b[0m\u001b[0;34m.\u001b[0m\u001b[0mlimit\u001b[0m\u001b[0;34m(\u001b[0m\u001b[0mold\u001b[0m\u001b[0;34m,\u001b[0m \u001b[0mself\u001b[0m\u001b[0;34m.\u001b[0m\u001b[0mpoint\u001b[0m\u001b[0;34m[\u001b[0m\u001b[0mi\u001b[0m\u001b[0;34m]\u001b[0m\u001b[0;34m)\u001b[0m\u001b[0;34m\u001b[0m\u001b[0;34m\u001b[0m\u001b[0m\n",
            "\u001b[0;31mTypeError\u001b[0m: zip argument #2 must support iteration",
            "\nDuring handling of the above exception, another exception occurred:\n",
            "\u001b[0;31mTypeError\u001b[0m                                 Traceback (most recent call last)",
            "\u001b[0;32m/usr/local/lib/python3.7/dist-packages/sympy/core/cache.py\u001b[0m in \u001b[0;36mwrapper\u001b[0;34m(*args, **kwargs)\u001b[0m\n\u001b[1;32m     71\u001b[0m             \u001b[0;32mtry\u001b[0m\u001b[0;34m:\u001b[0m\u001b[0;34m\u001b[0m\u001b[0;34m\u001b[0m\u001b[0m\n\u001b[0;32m---> 72\u001b[0;31m                 \u001b[0mretval\u001b[0m \u001b[0;34m=\u001b[0m \u001b[0mcfunc\u001b[0m\u001b[0;34m(\u001b[0m\u001b[0;34m*\u001b[0m\u001b[0margs\u001b[0m\u001b[0;34m,\u001b[0m \u001b[0;34m**\u001b[0m\u001b[0mkwargs\u001b[0m\u001b[0;34m)\u001b[0m\u001b[0;34m\u001b[0m\u001b[0;34m\u001b[0m\u001b[0m\n\u001b[0m\u001b[1;32m     73\u001b[0m             \u001b[0;32mexcept\u001b[0m \u001b[0mTypeError\u001b[0m\u001b[0;34m:\u001b[0m\u001b[0;34m\u001b[0m\u001b[0;34m\u001b[0m\u001b[0m\n",
            "\u001b[0;32m/usr/local/lib/python3.7/dist-packages/sympy/core/basic.py\u001b[0m in \u001b[0;36m_subs\u001b[0;34m(self, old, new, **hints)\u001b[0m\n\u001b[1;32m   1059\u001b[0m \u001b[0;34m\u001b[0m\u001b[0m\n\u001b[0;32m-> 1060\u001b[0;31m         \u001b[0mrv\u001b[0m \u001b[0;34m=\u001b[0m \u001b[0mself\u001b[0m\u001b[0;34m.\u001b[0m\u001b[0m_eval_subs\u001b[0m\u001b[0;34m(\u001b[0m\u001b[0mold\u001b[0m\u001b[0;34m,\u001b[0m \u001b[0mnew\u001b[0m\u001b[0;34m)\u001b[0m\u001b[0;34m\u001b[0m\u001b[0;34m\u001b[0m\u001b[0m\n\u001b[0m\u001b[1;32m   1061\u001b[0m         \u001b[0;32mif\u001b[0m \u001b[0mrv\u001b[0m \u001b[0;32mis\u001b[0m \u001b[0;32mNone\u001b[0m\u001b[0;34m:\u001b[0m\u001b[0;34m\u001b[0m\u001b[0;34m\u001b[0m\u001b[0m\n",
            "\u001b[0;32m/usr/local/lib/python3.7/dist-packages/sympy/series/order.py\u001b[0m in \u001b[0;36m_eval_subs\u001b[0;34m(self, old, new)\u001b[0m\n\u001b[1;32m    441\u001b[0m                             \u001b[0msol\u001b[0m \u001b[0;34m=\u001b[0m \u001b[0mset\u001b[0m\u001b[0;34m(\u001b[0m\u001b[0me1\u001b[0m\u001b[0;34m)\u001b[0m \u001b[0;34m-\u001b[0m \u001b[0mset\u001b[0m\u001b[0;34m(\u001b[0m\u001b[0me2\u001b[0m\u001b[0;34m)\u001b[0m\u001b[0;34m\u001b[0m\u001b[0;34m\u001b[0m\u001b[0m\n\u001b[0;32m--> 442\u001b[0;31m                         \u001b[0mres\u001b[0m \u001b[0;34m=\u001b[0m \u001b[0;34m[\u001b[0m\u001b[0mdict\u001b[0m\u001b[0;34m(\u001b[0m\u001b[0mzip\u001b[0m\u001b[0;34m(\u001b[0m\u001b[0;34m(\u001b[0m\u001b[0md\u001b[0m\u001b[0;34m,\u001b[0m \u001b[0;34m)\u001b[0m\u001b[0;34m,\u001b[0m \u001b[0msol\u001b[0m\u001b[0;34m)\u001b[0m\u001b[0;34m)\u001b[0m\u001b[0;34m]\u001b[0m\u001b[0;34m\u001b[0m\u001b[0;34m\u001b[0m\u001b[0m\n\u001b[0m\u001b[1;32m    443\u001b[0m                         \u001b[0mpoint\u001b[0m \u001b[0;34m=\u001b[0m \u001b[0md\u001b[0m\u001b[0;34m.\u001b[0m\u001b[0msubs\u001b[0m\u001b[0;34m(\u001b[0m\u001b[0mres\u001b[0m\u001b[0;34m[\u001b[0m\u001b[0;36m0\u001b[0m\u001b[0;34m]\u001b[0m\u001b[0;34m)\u001b[0m\u001b[0;34m.\u001b[0m\u001b[0mlimit\u001b[0m\u001b[0;34m(\u001b[0m\u001b[0mold\u001b[0m\u001b[0;34m,\u001b[0m \u001b[0mself\u001b[0m\u001b[0;34m.\u001b[0m\u001b[0mpoint\u001b[0m\u001b[0;34m[\u001b[0m\u001b[0mi\u001b[0m\u001b[0;34m]\u001b[0m\u001b[0;34m)\u001b[0m\u001b[0;34m\u001b[0m\u001b[0;34m\u001b[0m\u001b[0m\n",
            "\u001b[0;31mTypeError\u001b[0m: zip argument #2 must support iteration",
            "\nDuring handling of the above exception, another exception occurred:\n",
            "\u001b[0;31mTypeError\u001b[0m                                 Traceback (most recent call last)",
            "\u001b[0;32m<ipython-input-91-a3dcf563b060>\u001b[0m in \u001b[0;36m<module>\u001b[0;34m\u001b[0m\n\u001b[0;32m----> 1\u001b[0;31m \u001b[0mst\u001b[0m\u001b[0;34m=\u001b[0m\u001b[0mseries\u001b[0m\u001b[0;34m(\u001b[0m\u001b[0msinx\u001b[0m\u001b[0;34m.\u001b[0m\u001b[0msubs\u001b[0m\u001b[0;34m(\u001b[0m\u001b[0mx\u001b[0m\u001b[0;34m,\u001b[0m\u001b[0mtanx\u001b[0m\u001b[0;34m)\u001b[0m\u001b[0;34m,\u001b[0m\u001b[0mn\u001b[0m\u001b[0;34m=\u001b[0m\u001b[0;36m8\u001b[0m\u001b[0;34m)\u001b[0m\u001b[0;34m\u001b[0m\u001b[0;34m\u001b[0m\u001b[0m\n\u001b[0m\u001b[1;32m      2\u001b[0m \u001b[0mst\u001b[0m\u001b[0;34m\u001b[0m\u001b[0;34m\u001b[0m\u001b[0m\n",
            "\u001b[0;32m/usr/local/lib/python3.7/dist-packages/sympy/core/basic.py\u001b[0m in \u001b[0;36msubs\u001b[0;34m(self, *args, **kwargs)\u001b[0m\n\u001b[1;32m    946\u001b[0m             \u001b[0mrv\u001b[0m \u001b[0;34m=\u001b[0m \u001b[0mself\u001b[0m\u001b[0;34m\u001b[0m\u001b[0;34m\u001b[0m\u001b[0m\n\u001b[1;32m    947\u001b[0m             \u001b[0;32mfor\u001b[0m \u001b[0mold\u001b[0m\u001b[0;34m,\u001b[0m \u001b[0mnew\u001b[0m \u001b[0;32min\u001b[0m \u001b[0msequence\u001b[0m\u001b[0;34m:\u001b[0m\u001b[0;34m\u001b[0m\u001b[0;34m\u001b[0m\u001b[0m\n\u001b[0;32m--> 948\u001b[0;31m                 \u001b[0mrv\u001b[0m \u001b[0;34m=\u001b[0m \u001b[0mrv\u001b[0m\u001b[0;34m.\u001b[0m\u001b[0m_subs\u001b[0m\u001b[0;34m(\u001b[0m\u001b[0mold\u001b[0m\u001b[0;34m,\u001b[0m \u001b[0mnew\u001b[0m\u001b[0;34m,\u001b[0m \u001b[0;34m**\u001b[0m\u001b[0mkwargs\u001b[0m\u001b[0;34m)\u001b[0m\u001b[0;34m\u001b[0m\u001b[0;34m\u001b[0m\u001b[0m\n\u001b[0m\u001b[1;32m    949\u001b[0m                 \u001b[0;32mif\u001b[0m \u001b[0;32mnot\u001b[0m \u001b[0misinstance\u001b[0m\u001b[0;34m(\u001b[0m\u001b[0mrv\u001b[0m\u001b[0;34m,\u001b[0m \u001b[0mBasic\u001b[0m\u001b[0;34m)\u001b[0m\u001b[0;34m:\u001b[0m\u001b[0;34m\u001b[0m\u001b[0;34m\u001b[0m\u001b[0m\n\u001b[1;32m    950\u001b[0m                     \u001b[0;32mbreak\u001b[0m\u001b[0;34m\u001b[0m\u001b[0;34m\u001b[0m\u001b[0m\n",
            "\u001b[0;32m/usr/local/lib/python3.7/dist-packages/sympy/core/cache.py\u001b[0m in \u001b[0;36mwrapper\u001b[0;34m(*args, **kwargs)\u001b[0m\n\u001b[1;32m     72\u001b[0m                 \u001b[0mretval\u001b[0m \u001b[0;34m=\u001b[0m \u001b[0mcfunc\u001b[0m\u001b[0;34m(\u001b[0m\u001b[0;34m*\u001b[0m\u001b[0margs\u001b[0m\u001b[0;34m,\u001b[0m \u001b[0;34m**\u001b[0m\u001b[0mkwargs\u001b[0m\u001b[0;34m)\u001b[0m\u001b[0;34m\u001b[0m\u001b[0;34m\u001b[0m\u001b[0m\n\u001b[1;32m     73\u001b[0m             \u001b[0;32mexcept\u001b[0m \u001b[0mTypeError\u001b[0m\u001b[0;34m:\u001b[0m\u001b[0;34m\u001b[0m\u001b[0;34m\u001b[0m\u001b[0m\n\u001b[0;32m---> 74\u001b[0;31m                 \u001b[0mretval\u001b[0m \u001b[0;34m=\u001b[0m \u001b[0mfunc\u001b[0m\u001b[0;34m(\u001b[0m\u001b[0;34m*\u001b[0m\u001b[0margs\u001b[0m\u001b[0;34m,\u001b[0m \u001b[0;34m**\u001b[0m\u001b[0mkwargs\u001b[0m\u001b[0;34m)\u001b[0m\u001b[0;34m\u001b[0m\u001b[0;34m\u001b[0m\u001b[0m\n\u001b[0m\u001b[1;32m     75\u001b[0m             \u001b[0;32mreturn\u001b[0m \u001b[0mretval\u001b[0m\u001b[0;34m\u001b[0m\u001b[0;34m\u001b[0m\u001b[0m\n\u001b[1;32m     76\u001b[0m \u001b[0;34m\u001b[0m\u001b[0m\n",
            "\u001b[0;32m/usr/local/lib/python3.7/dist-packages/sympy/core/basic.py\u001b[0m in \u001b[0;36m_subs\u001b[0;34m(self, old, new, **hints)\u001b[0m\n\u001b[1;32m   1060\u001b[0m         \u001b[0mrv\u001b[0m \u001b[0;34m=\u001b[0m \u001b[0mself\u001b[0m\u001b[0;34m.\u001b[0m\u001b[0m_eval_subs\u001b[0m\u001b[0;34m(\u001b[0m\u001b[0mold\u001b[0m\u001b[0;34m,\u001b[0m \u001b[0mnew\u001b[0m\u001b[0;34m)\u001b[0m\u001b[0;34m\u001b[0m\u001b[0;34m\u001b[0m\u001b[0m\n\u001b[1;32m   1061\u001b[0m         \u001b[0;32mif\u001b[0m \u001b[0mrv\u001b[0m \u001b[0;32mis\u001b[0m \u001b[0;32mNone\u001b[0m\u001b[0;34m:\u001b[0m\u001b[0;34m\u001b[0m\u001b[0;34m\u001b[0m\u001b[0m\n\u001b[0;32m-> 1062\u001b[0;31m             \u001b[0mrv\u001b[0m \u001b[0;34m=\u001b[0m \u001b[0mfallback\u001b[0m\u001b[0;34m(\u001b[0m\u001b[0mself\u001b[0m\u001b[0;34m,\u001b[0m \u001b[0mold\u001b[0m\u001b[0;34m,\u001b[0m \u001b[0mnew\u001b[0m\u001b[0;34m)\u001b[0m\u001b[0;34m\u001b[0m\u001b[0;34m\u001b[0m\u001b[0m\n\u001b[0m\u001b[1;32m   1063\u001b[0m         \u001b[0;32mreturn\u001b[0m \u001b[0mrv\u001b[0m\u001b[0;34m\u001b[0m\u001b[0;34m\u001b[0m\u001b[0m\n\u001b[1;32m   1064\u001b[0m \u001b[0;34m\u001b[0m\u001b[0m\n",
            "\u001b[0;32m/usr/local/lib/python3.7/dist-packages/sympy/core/basic.py\u001b[0m in \u001b[0;36mfallback\u001b[0;34m(self, old, new)\u001b[0m\n\u001b[1;32m   1032\u001b[0m                 \u001b[0;32mif\u001b[0m \u001b[0;32mnot\u001b[0m \u001b[0mhasattr\u001b[0m\u001b[0;34m(\u001b[0m\u001b[0marg\u001b[0m\u001b[0;34m,\u001b[0m \u001b[0;34m'_eval_subs'\u001b[0m\u001b[0;34m)\u001b[0m\u001b[0;34m:\u001b[0m\u001b[0;34m\u001b[0m\u001b[0;34m\u001b[0m\u001b[0m\n\u001b[1;32m   1033\u001b[0m                     \u001b[0;32mcontinue\u001b[0m\u001b[0;34m\u001b[0m\u001b[0;34m\u001b[0m\u001b[0m\n\u001b[0;32m-> 1034\u001b[0;31m                 \u001b[0marg\u001b[0m \u001b[0;34m=\u001b[0m \u001b[0marg\u001b[0m\u001b[0;34m.\u001b[0m\u001b[0m_subs\u001b[0m\u001b[0;34m(\u001b[0m\u001b[0mold\u001b[0m\u001b[0;34m,\u001b[0m \u001b[0mnew\u001b[0m\u001b[0;34m,\u001b[0m \u001b[0;34m**\u001b[0m\u001b[0mhints\u001b[0m\u001b[0;34m)\u001b[0m\u001b[0;34m\u001b[0m\u001b[0;34m\u001b[0m\u001b[0m\n\u001b[0m\u001b[1;32m   1035\u001b[0m                 \u001b[0;32mif\u001b[0m \u001b[0;32mnot\u001b[0m \u001b[0m_aresame\u001b[0m\u001b[0;34m(\u001b[0m\u001b[0marg\u001b[0m\u001b[0;34m,\u001b[0m \u001b[0margs\u001b[0m\u001b[0;34m[\u001b[0m\u001b[0mi\u001b[0m\u001b[0;34m]\u001b[0m\u001b[0;34m)\u001b[0m\u001b[0;34m:\u001b[0m\u001b[0;34m\u001b[0m\u001b[0;34m\u001b[0m\u001b[0m\n\u001b[1;32m   1036\u001b[0m                     \u001b[0mhit\u001b[0m \u001b[0;34m=\u001b[0m \u001b[0;32mTrue\u001b[0m\u001b[0;34m\u001b[0m\u001b[0;34m\u001b[0m\u001b[0m\n",
            "\u001b[0;32m/usr/local/lib/python3.7/dist-packages/sympy/core/cache.py\u001b[0m in \u001b[0;36mwrapper\u001b[0;34m(*args, **kwargs)\u001b[0m\n\u001b[1;32m     72\u001b[0m                 \u001b[0mretval\u001b[0m \u001b[0;34m=\u001b[0m \u001b[0mcfunc\u001b[0m\u001b[0;34m(\u001b[0m\u001b[0;34m*\u001b[0m\u001b[0margs\u001b[0m\u001b[0;34m,\u001b[0m \u001b[0;34m**\u001b[0m\u001b[0mkwargs\u001b[0m\u001b[0;34m)\u001b[0m\u001b[0;34m\u001b[0m\u001b[0;34m\u001b[0m\u001b[0m\n\u001b[1;32m     73\u001b[0m             \u001b[0;32mexcept\u001b[0m \u001b[0mTypeError\u001b[0m\u001b[0;34m:\u001b[0m\u001b[0;34m\u001b[0m\u001b[0;34m\u001b[0m\u001b[0m\n\u001b[0;32m---> 74\u001b[0;31m                 \u001b[0mretval\u001b[0m \u001b[0;34m=\u001b[0m \u001b[0mfunc\u001b[0m\u001b[0;34m(\u001b[0m\u001b[0;34m*\u001b[0m\u001b[0margs\u001b[0m\u001b[0;34m,\u001b[0m \u001b[0;34m**\u001b[0m\u001b[0mkwargs\u001b[0m\u001b[0;34m)\u001b[0m\u001b[0;34m\u001b[0m\u001b[0;34m\u001b[0m\u001b[0m\n\u001b[0m\u001b[1;32m     75\u001b[0m             \u001b[0;32mreturn\u001b[0m \u001b[0mretval\u001b[0m\u001b[0;34m\u001b[0m\u001b[0;34m\u001b[0m\u001b[0m\n\u001b[1;32m     76\u001b[0m \u001b[0;34m\u001b[0m\u001b[0m\n",
            "\u001b[0;32m/usr/local/lib/python3.7/dist-packages/sympy/core/basic.py\u001b[0m in \u001b[0;36m_subs\u001b[0;34m(self, old, new, **hints)\u001b[0m\n\u001b[1;32m   1058\u001b[0m             \u001b[0;32mreturn\u001b[0m \u001b[0mnew\u001b[0m\u001b[0;34m\u001b[0m\u001b[0;34m\u001b[0m\u001b[0m\n\u001b[1;32m   1059\u001b[0m \u001b[0;34m\u001b[0m\u001b[0m\n\u001b[0;32m-> 1060\u001b[0;31m         \u001b[0mrv\u001b[0m \u001b[0;34m=\u001b[0m \u001b[0mself\u001b[0m\u001b[0;34m.\u001b[0m\u001b[0m_eval_subs\u001b[0m\u001b[0;34m(\u001b[0m\u001b[0mold\u001b[0m\u001b[0;34m,\u001b[0m \u001b[0mnew\u001b[0m\u001b[0;34m)\u001b[0m\u001b[0;34m\u001b[0m\u001b[0;34m\u001b[0m\u001b[0m\n\u001b[0m\u001b[1;32m   1061\u001b[0m         \u001b[0;32mif\u001b[0m \u001b[0mrv\u001b[0m \u001b[0;32mis\u001b[0m \u001b[0;32mNone\u001b[0m\u001b[0;34m:\u001b[0m\u001b[0;34m\u001b[0m\u001b[0;34m\u001b[0m\u001b[0m\n\u001b[1;32m   1062\u001b[0m             \u001b[0mrv\u001b[0m \u001b[0;34m=\u001b[0m \u001b[0mfallback\u001b[0m\u001b[0;34m(\u001b[0m\u001b[0mself\u001b[0m\u001b[0;34m,\u001b[0m \u001b[0mold\u001b[0m\u001b[0;34m,\u001b[0m \u001b[0mnew\u001b[0m\u001b[0;34m)\u001b[0m\u001b[0;34m\u001b[0m\u001b[0;34m\u001b[0m\u001b[0m\n",
            "\u001b[0;32m/usr/local/lib/python3.7/dist-packages/sympy/series/order.py\u001b[0m in \u001b[0;36m_eval_subs\u001b[0;34m(self, old, new)\u001b[0m\n\u001b[1;32m    440\u001b[0m                             \u001b[0me2\u001b[0m \u001b[0;34m=\u001b[0m \u001b[0msol\u001b[0m\u001b[0;34m.\u001b[0m\u001b[0margs\u001b[0m\u001b[0;34m[\u001b[0m\u001b[0;36m1\u001b[0m\u001b[0;34m]\u001b[0m\u001b[0;34m\u001b[0m\u001b[0;34m\u001b[0m\u001b[0m\n\u001b[1;32m    441\u001b[0m                             \u001b[0msol\u001b[0m \u001b[0;34m=\u001b[0m \u001b[0mset\u001b[0m\u001b[0;34m(\u001b[0m\u001b[0me1\u001b[0m\u001b[0;34m)\u001b[0m \u001b[0;34m-\u001b[0m \u001b[0mset\u001b[0m\u001b[0;34m(\u001b[0m\u001b[0me2\u001b[0m\u001b[0;34m)\u001b[0m\u001b[0;34m\u001b[0m\u001b[0;34m\u001b[0m\u001b[0m\n\u001b[0;32m--> 442\u001b[0;31m                         \u001b[0mres\u001b[0m \u001b[0;34m=\u001b[0m \u001b[0;34m[\u001b[0m\u001b[0mdict\u001b[0m\u001b[0;34m(\u001b[0m\u001b[0mzip\u001b[0m\u001b[0;34m(\u001b[0m\u001b[0;34m(\u001b[0m\u001b[0md\u001b[0m\u001b[0;34m,\u001b[0m \u001b[0;34m)\u001b[0m\u001b[0;34m,\u001b[0m \u001b[0msol\u001b[0m\u001b[0;34m)\u001b[0m\u001b[0;34m)\u001b[0m\u001b[0;34m]\u001b[0m\u001b[0;34m\u001b[0m\u001b[0;34m\u001b[0m\u001b[0m\n\u001b[0m\u001b[1;32m    443\u001b[0m                         \u001b[0mpoint\u001b[0m \u001b[0;34m=\u001b[0m \u001b[0md\u001b[0m\u001b[0;34m.\u001b[0m\u001b[0msubs\u001b[0m\u001b[0;34m(\u001b[0m\u001b[0mres\u001b[0m\u001b[0;34m[\u001b[0m\u001b[0;36m0\u001b[0m\u001b[0;34m]\u001b[0m\u001b[0;34m)\u001b[0m\u001b[0;34m.\u001b[0m\u001b[0mlimit\u001b[0m\u001b[0;34m(\u001b[0m\u001b[0mold\u001b[0m\u001b[0;34m,\u001b[0m \u001b[0mself\u001b[0m\u001b[0;34m.\u001b[0m\u001b[0mpoint\u001b[0m\u001b[0;34m[\u001b[0m\u001b[0mi\u001b[0m\u001b[0;34m]\u001b[0m\u001b[0;34m)\u001b[0m\u001b[0;34m\u001b[0m\u001b[0;34m\u001b[0m\u001b[0m\n\u001b[1;32m    444\u001b[0m                     \u001b[0mnewvars\u001b[0m\u001b[0;34m[\u001b[0m\u001b[0mi\u001b[0m\u001b[0;34m]\u001b[0m \u001b[0;34m=\u001b[0m \u001b[0mvar\u001b[0m\u001b[0;34m\u001b[0m\u001b[0;34m\u001b[0m\u001b[0m\n",
            "\u001b[0;31mTypeError\u001b[0m: zip argument #2 must support iteration"
          ]
        }
      ],
      "source": [
        "st=series(sinx.subs(x,tanx),n=8)\n",
        "st"
      ]
    },
    {
      "cell_type": "code",
      "execution_count": null,
      "metadata": {
        "deletable": true,
        "editable": true,
        "id": "zF2TbSPLvZ0a"
      },
      "outputs": [],
      "source": [
        "ts=series(tanx.subs(x,sinx),n=8)\n",
        "ts"
      ]
    },
    {
      "cell_type": "code",
      "execution_count": null,
      "metadata": {
        "deletable": true,
        "editable": true,
        "id": "r1y2CYrQvZ0a"
      },
      "outputs": [],
      "source": [
        "series(ts-st,n=8)"
      ]
    },
    {
      "cell_type": "markdown",
      "metadata": {
        "deletable": true,
        "editable": true,
        "id": "8gMNNY6SvZ0b"
      },
      "source": [
        "В ряд нельзя подставлять численное значение переменной разложения (а значит, нельзя и строить график). Для этого нужно сначала убрать $\\mathcal{O}$ член, превратив отрезок ряда в многочлен."
      ]
    },
    {
      "cell_type": "code",
      "execution_count": null,
      "metadata": {
        "deletable": true,
        "editable": true,
        "id": "jcLQdFvBvZ0b"
      },
      "outputs": [],
      "source": [
        "a=sinx.removeO()"
      ]
    },
    {
      "cell_type": "code",
      "execution_count": null,
      "metadata": {
        "deletable": true,
        "editable": true,
        "id": "9aZ1bot0vZ0b"
      },
      "outputs": [],
      "source": [
        "a.subs(x,0.1)"
      ]
    },
    {
      "cell_type": "markdown",
      "metadata": {
        "deletable": true,
        "editable": true,
        "id": "BYzg_giXvZ0b"
      },
      "source": [
        "## Производные"
      ]
    },
    {
      "cell_type": "code",
      "execution_count": null,
      "metadata": {
        "deletable": true,
        "editable": true,
        "id": "S-KWWwebvZ0b"
      },
      "outputs": [],
      "source": [
        "a=x*sin(x+y)\n",
        "diff(a,x)"
      ]
    },
    {
      "cell_type": "code",
      "execution_count": null,
      "metadata": {
        "deletable": true,
        "editable": true,
        "id": "FKidDZxCvZ0c"
      },
      "outputs": [],
      "source": [
        "diff(a,y)"
      ]
    },
    {
      "cell_type": "markdown",
      "metadata": {
        "deletable": true,
        "editable": true,
        "id": "y8n8HKWUvZ0c"
      },
      "source": [
        "Вторая производная по $x$ и первая по $y$."
      ]
    },
    {
      "cell_type": "code",
      "execution_count": null,
      "metadata": {
        "deletable": true,
        "editable": true,
        "id": "2A7XQWnMvZ0c"
      },
      "outputs": [],
      "source": [
        "diff(a,x,2,y)"
      ]
    },
    {
      "cell_type": "markdown",
      "metadata": {
        "deletable": true,
        "editable": true,
        "id": "5vDrfMKmvZ0c"
      },
      "source": [
        "Можно дифференцировать выражения, содержащие неопределённые функции."
      ]
    },
    {
      "cell_type": "code",
      "execution_count": null,
      "metadata": {
        "deletable": true,
        "editable": true,
        "id": "kaUOftyivZ0c"
      },
      "outputs": [],
      "source": [
        "a=x*f(x**2)\n",
        "b=diff(a,x)\n",
        "b"
      ]
    },
    {
      "cell_type": "markdown",
      "metadata": {
        "deletable": true,
        "editable": true,
        "id": "FTI-8EQOvZ0c"
      },
      "source": [
        "Что это за зверь такой получился?"
      ]
    },
    {
      "cell_type": "code",
      "execution_count": null,
      "metadata": {
        "deletable": true,
        "editable": true,
        "id": "Iu01lcS7vZ0c"
      },
      "outputs": [],
      "source": [
        "print(b)"
      ]
    },
    {
      "cell_type": "markdown",
      "metadata": {
        "deletable": true,
        "editable": true,
        "id": "AJuoW_VdvZ0d"
      },
      "source": [
        "Функция `Derivative` представляет невычисленную производную. Её можно вычислить методом `doit`."
      ]
    },
    {
      "cell_type": "code",
      "execution_count": null,
      "metadata": {
        "deletable": true,
        "editable": true,
        "id": "9tZJfMPLvZ0d"
      },
      "outputs": [],
      "source": [
        "a=Derivative(sin(x),x)\n",
        "Eq(a,a.doit())"
      ]
    },
    {
      "cell_type": "markdown",
      "metadata": {
        "deletable": true,
        "editable": true,
        "id": "t4qKH9B3vZ0d"
      },
      "source": [
        "## Интегралы"
      ]
    },
    {
      "cell_type": "code",
      "execution_count": null,
      "metadata": {
        "deletable": true,
        "editable": true,
        "id": "PBp5HetyvZ0d"
      },
      "outputs": [],
      "source": [
        "integrate(1/(x*(x**2-2)**2),x)"
      ]
    },
    {
      "cell_type": "code",
      "execution_count": null,
      "metadata": {
        "deletable": true,
        "editable": true,
        "id": "Hn9L8MLdvZ0d"
      },
      "outputs": [],
      "source": [
        "integrate(1/(exp(x)+1),x)"
      ]
    },
    {
      "cell_type": "code",
      "execution_count": null,
      "metadata": {
        "deletable": true,
        "editable": true,
        "id": "_vzhiv1pvZ0d"
      },
      "outputs": [],
      "source": [
        "integrate(log(x),x)"
      ]
    },
    {
      "cell_type": "code",
      "execution_count": null,
      "metadata": {
        "deletable": true,
        "editable": true,
        "id": "Rr6ysgG9vZ0e"
      },
      "outputs": [],
      "source": [
        "integrate(x*sin(x),x)"
      ]
    },
    {
      "cell_type": "code",
      "execution_count": null,
      "metadata": {
        "deletable": true,
        "editable": true,
        "id": "Ky-86X0-vZ0e"
      },
      "outputs": [],
      "source": [
        "integrate(x*exp(-x**2),x)"
      ]
    },
    {
      "cell_type": "code",
      "execution_count": null,
      "metadata": {
        "deletable": true,
        "editable": true,
        "id": "tnNpZciwvZ0e"
      },
      "outputs": [],
      "source": [
        "a=integrate(x**x,x)\n",
        "a"
      ]
    },
    {
      "cell_type": "markdown",
      "metadata": {
        "deletable": true,
        "editable": true,
        "id": "fwPysl_bvZ0e"
      },
      "source": [
        "Получился невычисленный интеграл."
      ]
    },
    {
      "cell_type": "code",
      "execution_count": null,
      "metadata": {
        "deletable": true,
        "editable": true,
        "id": "eTXVSYROvZ0e"
      },
      "outputs": [],
      "source": [
        "print(a)"
      ]
    },
    {
      "cell_type": "code",
      "execution_count": null,
      "metadata": {
        "deletable": true,
        "editable": true,
        "id": "h3PeRjcivZ0e"
      },
      "outputs": [],
      "source": [
        "a=Integral(sin(x),x)\n",
        "Eq(a,a.doit())"
      ]
    },
    {
      "cell_type": "markdown",
      "metadata": {
        "deletable": true,
        "editable": true,
        "id": "vQ_7SghdvZ0f"
      },
      "source": [
        "Определённые интегралы."
      ]
    },
    {
      "cell_type": "code",
      "execution_count": null,
      "metadata": {
        "deletable": true,
        "editable": true,
        "id": "9-JAGSvBvZ0f"
      },
      "outputs": [],
      "source": [
        "integrate(sin(x),(x,0,pi))"
      ]
    },
    {
      "cell_type": "markdown",
      "metadata": {
        "deletable": true,
        "editable": true,
        "id": "1sqXTvIvvZ0f"
      },
      "source": [
        "`oo` - это $\\infty$."
      ]
    },
    {
      "cell_type": "code",
      "execution_count": null,
      "metadata": {
        "deletable": true,
        "editable": true,
        "id": "KRLelEHkvZ0f"
      },
      "outputs": [],
      "source": [
        "integrate(exp(-x**2),(x,0,oo))"
      ]
    },
    {
      "cell_type": "code",
      "execution_count": null,
      "metadata": {
        "deletable": true,
        "editable": true,
        "id": "yrKIoQdRvZ0f"
      },
      "outputs": [],
      "source": [
        "integrate(log(x)/(1-x),(x,0,1))"
      ]
    },
    {
      "cell_type": "markdown",
      "metadata": {
        "deletable": true,
        "editable": true,
        "id": "0SVXnREmvZ0f"
      },
      "source": [
        "## Суммирование рядов"
      ]
    },
    {
      "cell_type": "code",
      "execution_count": null,
      "metadata": {
        "deletable": true,
        "editable": true,
        "id": "yhPySsxUvZ0f"
      },
      "outputs": [],
      "source": [
        "summation(1/n**2,(n,1,oo))"
      ]
    },
    {
      "cell_type": "code",
      "execution_count": null,
      "metadata": {
        "deletable": true,
        "editable": true,
        "id": "MDIZw9cUvZ0g"
      },
      "outputs": [],
      "source": [
        "summation((-1)**n/n**2,(n,1,oo))"
      ]
    },
    {
      "cell_type": "code",
      "execution_count": null,
      "metadata": {
        "deletable": true,
        "editable": true,
        "id": "sK7hasWOvZ0g"
      },
      "outputs": [],
      "source": [
        "summation(1/n**4,(n,1,oo))"
      ]
    },
    {
      "cell_type": "markdown",
      "metadata": {
        "deletable": true,
        "editable": true,
        "id": "IXuYqA52vZ0g"
      },
      "source": [
        "Невычисленная сумма обозначается `Sum`."
      ]
    },
    {
      "cell_type": "code",
      "execution_count": null,
      "metadata": {
        "deletable": true,
        "editable": true,
        "id": "_wJr15-svZ0g"
      },
      "outputs": [],
      "source": [
        "a=Sum(x**n/factorial(n),(n,0,oo))\n",
        "Eq(a,a.doit())"
      ]
    },
    {
      "cell_type": "markdown",
      "metadata": {
        "deletable": true,
        "editable": true,
        "id": "QAl36duNvZ0g"
      },
      "source": [
        "## Пределы"
      ]
    },
    {
      "cell_type": "code",
      "execution_count": null,
      "metadata": {
        "deletable": true,
        "editable": true,
        "id": "0AV-nZ74vZ0g"
      },
      "outputs": [],
      "source": [
        "limit((tan(sin(x))-sin(tan(x)))/x**7,x,0)"
      ]
    },
    {
      "cell_type": "markdown",
      "metadata": {
        "deletable": true,
        "editable": true,
        "id": "t-yOF17LvZ0g"
      },
      "source": [
        "Ну это простой предел, считается разложением числителя и знаменателя в ряды. А вот если в $x=0$ существенно особая точка, дело сложнее. Посчитаем односторонние пределы."
      ]
    },
    {
      "cell_type": "code",
      "execution_count": null,
      "metadata": {
        "deletable": true,
        "editable": true,
        "id": "C8Jy5MU-vZ0h"
      },
      "outputs": [],
      "source": [
        "limit((tan(sin(x))-sin(tan(x)))/(x**7+exp(-1/x)),x,0,'+')"
      ]
    },
    {
      "cell_type": "code",
      "execution_count": null,
      "metadata": {
        "deletable": true,
        "editable": true,
        "id": "w_mIuxAMvZ0h"
      },
      "outputs": [],
      "source": [
        "limit((tan(sin(x))-sin(tan(x)))/(x**7+exp(-1/x)),x,0,'-')"
      ]
    },
    {
      "cell_type": "markdown",
      "metadata": {
        "deletable": true,
        "editable": true,
        "id": "hXPaBjOYvZ0h"
      },
      "source": [
        "## Дифференциальные уравнения"
      ]
    },
    {
      "cell_type": "code",
      "execution_count": null,
      "metadata": {
        "deletable": true,
        "editable": true,
        "id": "LECKuSy_vZ0h"
      },
      "outputs": [],
      "source": [
        "t=Symbol('t')\n",
        "x=Function('x')\n",
        "p=Function('p')"
      ]
    },
    {
      "cell_type": "markdown",
      "metadata": {
        "deletable": true,
        "editable": true,
        "id": "2xZhlqKivZ0h"
      },
      "source": [
        "Первого порядка."
      ]
    },
    {
      "cell_type": "code",
      "execution_count": null,
      "metadata": {
        "deletable": true,
        "editable": true,
        "id": "p9b0xsDXvZ0h"
      },
      "outputs": [],
      "source": [
        "dsolve(diff(x(t),t)+x(t),x(t))"
      ]
    },
    {
      "cell_type": "markdown",
      "metadata": {
        "deletable": true,
        "editable": true,
        "id": "ziDvW9tLvZ0h"
      },
      "source": [
        "Второго порядка."
      ]
    },
    {
      "cell_type": "code",
      "execution_count": null,
      "metadata": {
        "deletable": true,
        "editable": true,
        "id": "754Lhd5kvZ0i"
      },
      "outputs": [],
      "source": [
        "dsolve(diff(x(t),t,2)+x(t),x(t))"
      ]
    },
    {
      "cell_type": "markdown",
      "metadata": {
        "deletable": true,
        "editable": true,
        "id": "XHNvO0UCvZ0j"
      },
      "source": [
        "Система уравнений первого порядка."
      ]
    },
    {
      "cell_type": "code",
      "execution_count": null,
      "metadata": {
        "deletable": true,
        "editable": true,
        "id": "zIvAa6GuvZ0j"
      },
      "outputs": [],
      "source": [
        "dsolve((diff(x(t),t)-p(t),diff(p(t),t)+x(t)))"
      ]
    },
    {
      "cell_type": "markdown",
      "metadata": {
        "deletable": true,
        "editable": true,
        "id": "X2HseuCfvZ0j"
      },
      "source": [
        "## Линейная алгебра"
      ]
    },
    {
      "cell_type": "code",
      "execution_count": null,
      "metadata": {
        "collapsed": true,
        "deletable": true,
        "editable": true,
        "id": "aFz9mAcCvZ0j"
      },
      "outputs": [],
      "source": [
        "a,b,c,d,e,f=symbols('a b c d e f')"
      ]
    },
    {
      "cell_type": "markdown",
      "metadata": {
        "deletable": true,
        "editable": true,
        "id": "zxZYXYDKvZ0j"
      },
      "source": [
        "Матрицу можно построить из списка списков."
      ]
    },
    {
      "cell_type": "code",
      "execution_count": null,
      "metadata": {
        "deletable": true,
        "editable": true,
        "id": "Q6nSnlRnvZ0k"
      },
      "outputs": [],
      "source": [
        "M=Matrix([[a,b,c],[d,e,f]])\n",
        "M"
      ]
    },
    {
      "cell_type": "code",
      "execution_count": null,
      "metadata": {
        "deletable": true,
        "editable": true,
        "id": "up5MGIP_vZ0k"
      },
      "outputs": [],
      "source": [
        "M.shape"
      ]
    },
    {
      "cell_type": "markdown",
      "metadata": {
        "deletable": true,
        "editable": true,
        "id": "eOW5hdsYvZ0k"
      },
      "source": [
        "Матрица-строка."
      ]
    },
    {
      "cell_type": "code",
      "execution_count": null,
      "metadata": {
        "deletable": true,
        "editable": true,
        "id": "CaSYG0_CvZ0k"
      },
      "outputs": [],
      "source": [
        "Matrix([[1,2,3]])"
      ]
    },
    {
      "cell_type": "markdown",
      "metadata": {
        "deletable": true,
        "editable": true,
        "id": "ojlQM9LavZ0k"
      },
      "source": [
        "Матрица-столбец."
      ]
    },
    {
      "cell_type": "code",
      "execution_count": null,
      "metadata": {
        "deletable": true,
        "editable": true,
        "id": "2COLl62YvZ0k"
      },
      "outputs": [],
      "source": [
        "Matrix([1,2,3])"
      ]
    },
    {
      "cell_type": "markdown",
      "metadata": {
        "deletable": true,
        "editable": true,
        "id": "xNn73gAavZ0k"
      },
      "source": [
        "Можно построить матрицу из функции."
      ]
    },
    {
      "cell_type": "code",
      "execution_count": null,
      "metadata": {
        "deletable": true,
        "editable": true,
        "id": "6IY-jzjCvZ0l"
      },
      "outputs": [],
      "source": [
        "def g(i,j):\n",
        "    return Rational(1,i+j+1)\n",
        "Matrix(3,3,g)"
      ]
    },
    {
      "cell_type": "markdown",
      "metadata": {
        "collapsed": false,
        "deletable": true,
        "editable": true,
        "id": "lYYhwu51vZ0l"
      },
      "source": [
        "Или из неопределённой функции."
      ]
    },
    {
      "cell_type": "code",
      "execution_count": null,
      "metadata": {
        "deletable": true,
        "editable": true,
        "id": "5OplEh0QvZ0l"
      },
      "outputs": [],
      "source": [
        "g=Function('g')\n",
        "M=Matrix(3,3,g)\n",
        "M"
      ]
    },
    {
      "cell_type": "code",
      "execution_count": null,
      "metadata": {
        "deletable": true,
        "editable": true,
        "id": "1ZP7MB6DvZ0l"
      },
      "outputs": [],
      "source": [
        "M[1,2]"
      ]
    },
    {
      "cell_type": "code",
      "execution_count": null,
      "metadata": {
        "deletable": true,
        "editable": true,
        "id": "cn9UfeC8vZ0l"
      },
      "outputs": [],
      "source": [
        "M[1,2]=0\n",
        "M"
      ]
    },
    {
      "cell_type": "code",
      "execution_count": null,
      "metadata": {
        "deletable": true,
        "editable": true,
        "id": "M3x2f0euvZ0l"
      },
      "outputs": [],
      "source": [
        "M[2,:]"
      ]
    },
    {
      "cell_type": "code",
      "execution_count": null,
      "metadata": {
        "deletable": true,
        "editable": true,
        "id": "K-3Akjk3vZ0l"
      },
      "outputs": [],
      "source": [
        "M[:,1]"
      ]
    },
    {
      "cell_type": "code",
      "execution_count": null,
      "metadata": {
        "deletable": true,
        "editable": true,
        "id": "V50qGTkpvZ0m"
      },
      "outputs": [],
      "source": [
        "M[0:2,1:3]"
      ]
    },
    {
      "cell_type": "markdown",
      "metadata": {
        "collapsed": false,
        "deletable": true,
        "editable": true,
        "id": "rjy_lB0EvZ0m"
      },
      "source": [
        "Единичная матрица."
      ]
    },
    {
      "cell_type": "code",
      "execution_count": null,
      "metadata": {
        "deletable": true,
        "editable": true,
        "id": "-QvGCWmgvZ0m"
      },
      "outputs": [],
      "source": [
        "eye(3)"
      ]
    },
    {
      "cell_type": "markdown",
      "metadata": {
        "deletable": true,
        "editable": true,
        "id": "zpYbZ9aRvZ0m"
      },
      "source": [
        "Матрица из нулей."
      ]
    },
    {
      "cell_type": "code",
      "execution_count": null,
      "metadata": {
        "deletable": true,
        "editable": true,
        "id": "9mw39_RVvZ0m"
      },
      "outputs": [],
      "source": [
        "zeros(3)"
      ]
    },
    {
      "cell_type": "code",
      "execution_count": null,
      "metadata": {
        "deletable": true,
        "editable": true,
        "id": "WeHMXFYAvZ0m"
      },
      "outputs": [],
      "source": [
        "zeros(2,3)"
      ]
    },
    {
      "cell_type": "markdown",
      "metadata": {
        "deletable": true,
        "editable": true,
        "id": "oa4-_PiZvZ0m"
      },
      "source": [
        "Диагональная матрица."
      ]
    },
    {
      "cell_type": "code",
      "execution_count": null,
      "metadata": {
        "deletable": true,
        "editable": true,
        "id": "INf-msYNvZ0m"
      },
      "outputs": [],
      "source": [
        "diag(1,2,3)"
      ]
    },
    {
      "cell_type": "code",
      "execution_count": null,
      "metadata": {
        "deletable": true,
        "editable": true,
        "id": "f5RCpyFlvZ0n"
      },
      "outputs": [],
      "source": [
        "M=Matrix([[a,1],[0,a]])\n",
        "diag(1,M,2)"
      ]
    },
    {
      "cell_type": "markdown",
      "metadata": {
        "deletable": true,
        "editable": true,
        "id": "LT9Y8ZirvZ0n"
      },
      "source": [
        "Операции с матрицами."
      ]
    },
    {
      "cell_type": "code",
      "execution_count": null,
      "metadata": {
        "deletable": true,
        "editable": true,
        "id": "AKoIDy3fvZ0n"
      },
      "outputs": [],
      "source": [
        "A=Matrix([[a,b],[c,d]])\n",
        "B=Matrix([[1,2],[3,4]])\n",
        "A+B"
      ]
    },
    {
      "cell_type": "code",
      "execution_count": null,
      "metadata": {
        "deletable": true,
        "editable": true,
        "id": "HPtlHo4uvZ0n"
      },
      "outputs": [],
      "source": [
        "A*B,B*A"
      ]
    },
    {
      "cell_type": "code",
      "execution_count": null,
      "metadata": {
        "deletable": true,
        "editable": true,
        "id": "taefzUw6vZ0n"
      },
      "outputs": [],
      "source": [
        "A*B-B*A"
      ]
    },
    {
      "cell_type": "code",
      "execution_count": null,
      "metadata": {
        "deletable": true,
        "editable": true,
        "id": "xG0mqQiAvZ0n"
      },
      "outputs": [],
      "source": [
        "simplify(A**(-1))"
      ]
    },
    {
      "cell_type": "code",
      "execution_count": null,
      "metadata": {
        "deletable": true,
        "editable": true,
        "id": "cE7f9v7evZ0n"
      },
      "outputs": [],
      "source": [
        "det(A)"
      ]
    },
    {
      "cell_type": "markdown",
      "metadata": {
        "deletable": true,
        "editable": true,
        "id": "pxfU3YYFvZ0o"
      },
      "source": [
        "### Собственные значения и векторы"
      ]
    },
    {
      "cell_type": "code",
      "execution_count": null,
      "metadata": {
        "collapsed": true,
        "deletable": true,
        "editable": true,
        "id": "7SxNHBuhvZ0o"
      },
      "outputs": [],
      "source": [
        "x=Symbol('x',real=True)"
      ]
    },
    {
      "cell_type": "code",
      "execution_count": null,
      "metadata": {
        "deletable": true,
        "editable": true,
        "id": "4H8xApHQvZ0o"
      },
      "outputs": [],
      "source": [
        "M=Matrix([[(1-x)**3*(3+x),4*x*(1-x**2),-2*(1-x**2)*(3-x)],\n",
        "          [4*x*(1-x**2),-(1+x)**3*(3-x),2*(1-x**2)*(3+x)],\n",
        "          [-2*(1-x**2)*(3-x),2*(1-x**2)*(3+x),16*x]])\n",
        "M"
      ]
    },
    {
      "cell_type": "code",
      "execution_count": null,
      "metadata": {
        "deletable": true,
        "editable": true,
        "id": "o-FQD4G1vZ0o"
      },
      "outputs": [],
      "source": [
        "det(M)"
      ]
    },
    {
      "cell_type": "markdown",
      "metadata": {
        "deletable": true,
        "editable": true,
        "id": "K9n1ZVV0vZ0o"
      },
      "source": [
        "Значит, у этой матрицы есть нулевое подпространство (она обращает векторы из этого подпространства в 0). Базис этого подпространства."
      ]
    },
    {
      "cell_type": "code",
      "execution_count": null,
      "metadata": {
        "deletable": true,
        "editable": true,
        "id": "kWySv4qsvZ0o"
      },
      "outputs": [],
      "source": [
        "v=M.nullspace()\n",
        "len(v)"
      ]
    },
    {
      "cell_type": "markdown",
      "metadata": {
        "deletable": true,
        "editable": true,
        "id": "6O8G1cXlvZ0p"
      },
      "source": [
        "Оно одномерно."
      ]
    },
    {
      "cell_type": "code",
      "execution_count": null,
      "metadata": {
        "deletable": true,
        "editable": true,
        "id": "uCH5KYgwvZ0p"
      },
      "outputs": [],
      "source": [
        "v=simplify(v[0])\n",
        "v"
      ]
    },
    {
      "cell_type": "markdown",
      "metadata": {
        "deletable": true,
        "editable": true,
        "id": "x5so_QGMvZ0p"
      },
      "source": [
        "Проверим."
      ]
    },
    {
      "cell_type": "code",
      "execution_count": null,
      "metadata": {
        "deletable": true,
        "editable": true,
        "id": "N-vMwaFkvZ0p"
      },
      "outputs": [],
      "source": [
        "simplify(M*v)"
      ]
    },
    {
      "cell_type": "markdown",
      "metadata": {
        "deletable": true,
        "editable": true,
        "id": "lppbC3UbvZ0p"
      },
      "source": [
        "Собственные значения и их кратности."
      ]
    },
    {
      "cell_type": "code",
      "execution_count": null,
      "metadata": {
        "deletable": true,
        "editable": true,
        "id": "WJbQfyZRvZ0q"
      },
      "outputs": [],
      "source": [
        "M.eigenvals()"
      ]
    },
    {
      "cell_type": "markdown",
      "metadata": {
        "deletable": true,
        "editable": true,
        "id": "-1Gpa64BvZ0q"
      },
      "source": [
        "Если нужны не только собственные значения, но и собственные векторы, то нужно использовать метод `eigenvects`. Он возвращает список кортежей. В каждом из них нулевой элемент - собственное значение, первый - его кратность, и последний - список собственных векторов, образующих базис (их столько, какова кратность)."
      ]
    },
    {
      "cell_type": "code",
      "execution_count": null,
      "metadata": {
        "deletable": true,
        "editable": true,
        "id": "oDxXbQ0MvZ0q"
      },
      "outputs": [],
      "source": [
        "v=M.eigenvects()\n",
        "len(v)"
      ]
    },
    {
      "cell_type": "code",
      "execution_count": null,
      "metadata": {
        "deletable": true,
        "editable": true,
        "id": "MYRSGQsbvZ0q"
      },
      "outputs": [],
      "source": [
        "for i in range(len(v)):\n",
        "    v[i][2][0]=simplify(v[i][2][0])\n",
        "v"
      ]
    },
    {
      "cell_type": "markdown",
      "metadata": {
        "deletable": true,
        "editable": true,
        "id": "pKESXUdBvZ0q"
      },
      "source": [
        "Проверим."
      ]
    },
    {
      "cell_type": "code",
      "execution_count": null,
      "metadata": {
        "deletable": true,
        "editable": true,
        "id": "ECeBz2yVvZ0r"
      },
      "outputs": [],
      "source": [
        "for i in range(len(v)):\n",
        "    z=M*v[i][2][0]-v[i][0]*v[i][2][0]\n",
        "    pprint(simplify(z))"
      ]
    },
    {
      "cell_type": "markdown",
      "metadata": {
        "deletable": true,
        "editable": true,
        "id": "eTQ_cFURvZ0r"
      },
      "source": [
        "### Жорданова нормальная форма"
      ]
    },
    {
      "cell_type": "code",
      "execution_count": null,
      "metadata": {
        "deletable": true,
        "editable": true,
        "id": "lAa6RtPgvZ0r"
      },
      "outputs": [],
      "source": [
        "M=Matrix([[Rational(13,9),-Rational(2,9),Rational(1,3),Rational(4,9),Rational(2,3)],\n",
        "          [-Rational(2,9),Rational(10,9),Rational(2,15),-Rational(2,9),-Rational(11,15)],\n",
        "          [Rational(1,5),-Rational(2,5),Rational(41,25),-Rational(2,5),Rational(12,25)],\n",
        "          [Rational(4,9),-Rational(2,9),Rational(14,15),Rational(13,9),-Rational(2,15)],\n",
        "          [-Rational(4,15),Rational(8,15),Rational(12,25),Rational(8,15),Rational(34,25)]])\n",
        "M"
      ]
    },
    {
      "cell_type": "markdown",
      "metadata": {
        "deletable": true,
        "editable": true,
        "id": "C18Ji3H3vZ0r"
      },
      "source": [
        "Метод `M.jordan_form()` возвращает пару матриц, матрицу преобразования $P$ и собственно жорданову форму $J$: $M = P J P^{-1}$."
      ]
    },
    {
      "cell_type": "code",
      "execution_count": null,
      "metadata": {
        "deletable": true,
        "editable": true,
        "id": "GJX46y3WvZ0r"
      },
      "outputs": [],
      "source": [
        "P,J=M.jordan_form()\n",
        "J"
      ]
    },
    {
      "cell_type": "code",
      "execution_count": null,
      "metadata": {
        "deletable": true,
        "editable": true,
        "id": "_47Zm-65vZ0r"
      },
      "outputs": [],
      "source": [
        "P=simplify(P)\n",
        "P"
      ]
    },
    {
      "cell_type": "markdown",
      "metadata": {
        "deletable": true,
        "editable": true,
        "id": "JYsfPhXcvZ0r"
      },
      "source": [
        "Проверим."
      ]
    },
    {
      "cell_type": "code",
      "execution_count": null,
      "metadata": {
        "deletable": true,
        "editable": true,
        "id": "FDsLdnQ3vZ0r"
      },
      "outputs": [],
      "source": [
        "Z=P*J*P**(-1)-M\n",
        "simplify(Z)"
      ]
    },
    {
      "cell_type": "markdown",
      "metadata": {
        "deletable": true,
        "editable": true,
        "id": "6M62AHZZvZ0s"
      },
      "source": [
        "## Графики\n",
        "\n",
        "`SymPy` использует `matplotlib`. Однако он распределяет точки по $x$ адаптивно, а не равномерно."
      ]
    },
    {
      "cell_type": "code",
      "execution_count": null,
      "metadata": {
        "collapsed": true,
        "deletable": true,
        "editable": true,
        "id": "2AxMIaYcvZ0s"
      },
      "outputs": [],
      "source": [
        "%matplotlib inline"
      ]
    },
    {
      "cell_type": "markdown",
      "metadata": {
        "deletable": true,
        "editable": true,
        "id": "X-SpFU2ivZ0s"
      },
      "source": [
        "Одна функция."
      ]
    },
    {
      "cell_type": "code",
      "execution_count": null,
      "metadata": {
        "deletable": true,
        "editable": true,
        "id": "9Zfd5j0cvZ0s"
      },
      "outputs": [],
      "source": [
        "plot(sin(x)/x,(x,-10,10))"
      ]
    },
    {
      "cell_type": "markdown",
      "metadata": {
        "deletable": true,
        "editable": true,
        "id": "2njyNx2cvZ0s"
      },
      "source": [
        "Несколько функций."
      ]
    },
    {
      "cell_type": "code",
      "execution_count": null,
      "metadata": {
        "deletable": true,
        "editable": true,
        "id": "ETcy9t2evZ0s"
      },
      "outputs": [],
      "source": [
        "plot(x,x**2,x**3,(x,0,2))"
      ]
    },
    {
      "cell_type": "markdown",
      "metadata": {
        "deletable": true,
        "editable": true,
        "id": "G8luXguCvZ0s"
      },
      "source": [
        "Другие функции надо импортировать из пакета `sympy.plotting`."
      ]
    },
    {
      "cell_type": "code",
      "execution_count": null,
      "metadata": {
        "collapsed": true,
        "deletable": true,
        "editable": true,
        "id": "nR1LwHSPvZ0t"
      },
      "outputs": [],
      "source": [
        "from sympy.plotting import (plot_parametric,plot_implicit,\n",
        "                            plot3d,plot3d_parametric_line,\n",
        "                            plot3d_parametric_surface)"
      ]
    },
    {
      "cell_type": "markdown",
      "metadata": {
        "deletable": true,
        "editable": true,
        "id": "hWSVrl2FvZ0t"
      },
      "source": [
        "Параметрический график - фигура Лиссажу."
      ]
    },
    {
      "cell_type": "code",
      "execution_count": null,
      "metadata": {
        "deletable": true,
        "editable": true,
        "id": "j5U-CUblvZ0t"
      },
      "outputs": [],
      "source": [
        "t=Symbol('t')\n",
        "plot_parametric(sin(2*t),cos(3*t),(t,0,2*pi),\n",
        "                title='Lissajous',xlabel='x',ylabel='y')"
      ]
    },
    {
      "cell_type": "markdown",
      "metadata": {
        "deletable": true,
        "editable": true,
        "id": "MZI_QKbWvZ0t"
      },
      "source": [
        "Неявный график - окружность."
      ]
    },
    {
      "cell_type": "code",
      "execution_count": null,
      "metadata": {
        "deletable": true,
        "editable": true,
        "id": "2LHiV9U6vZ0t"
      },
      "outputs": [],
      "source": [
        "plot_implicit(x**2+y**2-1,(x,-1,1),(y,-1,1))"
      ]
    },
    {
      "cell_type": "markdown",
      "metadata": {
        "deletable": true,
        "editable": true,
        "id": "zBD2PP2_vZ0t"
      },
      "source": [
        "Поверхность. Если она строится не `inline`, а в отдельном окне, то её можно вертеть мышкой."
      ]
    },
    {
      "cell_type": "code",
      "execution_count": null,
      "metadata": {
        "deletable": true,
        "editable": true,
        "id": "eXAhkGDdvZ0t"
      },
      "outputs": [],
      "source": [
        "plot3d(x*y,(x,-2,2),(y,-2,2))"
      ]
    },
    {
      "cell_type": "markdown",
      "metadata": {
        "deletable": true,
        "editable": true,
        "id": "7bf3XKvdvZ0t"
      },
      "source": [
        "Несколько поверхностей."
      ]
    },
    {
      "cell_type": "code",
      "execution_count": null,
      "metadata": {
        "deletable": true,
        "editable": true,
        "id": "X_3GdbwYvZ0u"
      },
      "outputs": [],
      "source": [
        "plot3d(x**2+y**2,x*y,(x,-2,2),(y,-2,2))"
      ]
    },
    {
      "cell_type": "markdown",
      "metadata": {
        "deletable": true,
        "editable": true,
        "id": "gcYO4mP3vZ0u"
      },
      "source": [
        "Параметрическая пространственная линия - спираль."
      ]
    },
    {
      "cell_type": "code",
      "execution_count": null,
      "metadata": {
        "deletable": true,
        "editable": true,
        "id": "WJFnrpjtvZ0u"
      },
      "outputs": [],
      "source": [
        "a=0.1\n",
        "plot3d_parametric_line(cos(t),sin(t),a*t,(t,0,4*pi))"
      ]
    },
    {
      "cell_type": "markdown",
      "metadata": {
        "deletable": true,
        "editable": true,
        "id": "zPdSw0QUvZ0u"
      },
      "source": [
        "Параметрическая поверхность - тор."
      ]
    },
    {
      "cell_type": "code",
      "execution_count": null,
      "metadata": {
        "deletable": true,
        "editable": true,
        "id": "RNy1YYLovZ0u"
      },
      "outputs": [],
      "source": [
        "u,v=symbols('u v')\n",
        "a=0.4\n",
        "plot3d_parametric_surface((1+a*cos(u))*cos(v),\n",
        "                          (1+a*cos(u))*sin(v),a*sin(u),\n",
        "                          (u,0,2*pi),(v,0,2*pi))"
      ]
    }
  ],
  "metadata": {
    "kernelspec": {
      "display_name": "Python 3",
      "language": "python",
      "name": "python3"
    },
    "language_info": {
      "codemirror_mode": {
        "name": "ipython",
        "version": 3
      },
      "file_extension": ".py",
      "mimetype": "text/x-python",
      "name": "python",
      "nbconvert_exporter": "python",
      "pygments_lexer": "ipython3",
      "version": "3.6.1"
    },
    "colab": {
      "provenance": [],
      "collapsed_sections": [
        "DVqDokvNvZ0C",
        "__uJrBPRvZ0L",
        "7BkNVY4svZ0S",
        "olVh4pUMvZ0W",
        "BYzg_giXvZ0b",
        "t4qKH9B3vZ0d",
        "0SVXnREmvZ0f",
        "QAl36duNvZ0g",
        "hXPaBjOYvZ0h",
        "X2HseuCfvZ0j",
        "pxfU3YYFvZ0o",
        "eTQ_cFURvZ0r",
        "6M62AHZZvZ0s"
      ],
      "include_colab_link": true
    }
  },
  "nbformat": 4,
  "nbformat_minor": 0
}