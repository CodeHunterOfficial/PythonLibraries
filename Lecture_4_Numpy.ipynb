{
  "cells": [
    {
      "cell_type": "markdown",
      "metadata": {
        "id": "view-in-github",
        "colab_type": "text"
      },
      "source": [
        "<a href=\"https://colab.research.google.com/github/CodeHunterOfficial/PythonLibraries/blob/main/Lecture_4_Numpy.ipynb\" target=\"_parent\"><img src=\"https://colab.research.google.com/assets/colab-badge.svg\" alt=\"Open In Colab\"/></a>"
      ]
    },
    {
      "cell_type": "markdown",
      "metadata": {
        "id": "oEYwKO7e6ZSr"
      },
      "source": [
        "# numpy\n",
        "\n",
        "Пакет `numpy` предоставляет $n$-мерные однородные массивы (все элементы одного типа); в них нельзя вставить или удалить элемент в произвольном месте. В `numpy` реализовано много операций над массивами в целом. Если задачу можно решить, произведя некоторую последовательность операций над массивами, то это будет столь же эффективно, как в `C` или `matlab` - львиная доля времени тратится в библиотечных функциях, написанных на `C`.\n",
        "\n",
        "## Одномерные массивы"
      ]
    },
    {
      "cell_type": "code",
      "execution_count": null,
      "metadata": {
        "id": "yePix4yX6ZSw"
      },
      "outputs": [],
      "source": [
        "from numpy import (array,zeros,ones,arange,linspace,logspace,\n",
        "                   float64,int64,sin,cos,pi,exp,log,sqrt,abs,\n",
        "                   nan,inf,any,all,sort,hstack,vstack,hsplit,\n",
        "                   delete,insert,append,eye,fromfunction,\n",
        "                   trace,diag,average,std,outer,meshgrid)"
      ]
    },
    {
      "cell_type": "markdown",
      "metadata": {
        "id": "mZJ2vSoc6ZSx"
      },
      "source": [
        "Можно преобразовать список в массив."
      ]
    },
    {
      "cell_type": "code",
      "execution_count": null,
      "metadata": {
        "id": "VlYWf_uV6ZSy",
        "outputId": "0e239d5a-9925-473b-ad13-7dbb90942f00"
      },
      "outputs": [
        {
          "data": {
            "text/plain": [
              "(array([0, 2, 1]), numpy.ndarray)"
            ]
          },
          "execution_count": 2,
          "metadata": {},
          "output_type": "execute_result"
        }
      ],
      "source": [
        "a=array([0,2,1])\n",
        "a,type(a)"
      ]
    },
    {
      "cell_type": "markdown",
      "metadata": {
        "id": "fFhAF0E16ZSz"
      },
      "source": [
        "`print` печатает массивы в удобной форме."
      ]
    },
    {
      "cell_type": "code",
      "execution_count": null,
      "metadata": {
        "id": "2uZRFjhH6ZSz",
        "outputId": "09bd4aa8-799c-4cad-a6cf-8c7b7f7f78fb"
      },
      "outputs": [
        {
          "name": "stdout",
          "output_type": "stream",
          "text": [
            "[0 2 1]\n"
          ]
        }
      ],
      "source": [
        "print(a)"
      ]
    },
    {
      "cell_type": "markdown",
      "metadata": {
        "id": "L8O65nvM6ZS0"
      },
      "source": [
        "Класс `ndarray` имеет много методов."
      ]
    },
    {
      "cell_type": "code",
      "execution_count": null,
      "metadata": {
        "id": "fyBjPReF6ZS0",
        "outputId": "37b9df6b-532c-4951-daef-ace045e5c311"
      },
      "outputs": [
        {
          "data": {
            "text/plain": [
              "{'T',\n",
              " '__abs__',\n",
              " '__add__',\n",
              " '__and__',\n",
              " '__array__',\n",
              " '__array_finalize__',\n",
              " '__array_interface__',\n",
              " '__array_prepare__',\n",
              " '__array_priority__',\n",
              " '__array_struct__',\n",
              " '__array_wrap__',\n",
              " '__bool__',\n",
              " '__complex__',\n",
              " '__contains__',\n",
              " '__copy__',\n",
              " '__deepcopy__',\n",
              " '__delitem__',\n",
              " '__divmod__',\n",
              " '__float__',\n",
              " '__floordiv__',\n",
              " '__getitem__',\n",
              " '__iadd__',\n",
              " '__iand__',\n",
              " '__ifloordiv__',\n",
              " '__ilshift__',\n",
              " '__imatmul__',\n",
              " '__imod__',\n",
              " '__imul__',\n",
              " '__index__',\n",
              " '__int__',\n",
              " '__invert__',\n",
              " '__ior__',\n",
              " '__ipow__',\n",
              " '__irshift__',\n",
              " '__isub__',\n",
              " '__iter__',\n",
              " '__itruediv__',\n",
              " '__ixor__',\n",
              " '__len__',\n",
              " '__lshift__',\n",
              " '__matmul__',\n",
              " '__mod__',\n",
              " '__mul__',\n",
              " '__neg__',\n",
              " '__or__',\n",
              " '__pos__',\n",
              " '__pow__',\n",
              " '__radd__',\n",
              " '__rand__',\n",
              " '__rdivmod__',\n",
              " '__rfloordiv__',\n",
              " '__rlshift__',\n",
              " '__rmatmul__',\n",
              " '__rmod__',\n",
              " '__rmul__',\n",
              " '__ror__',\n",
              " '__rpow__',\n",
              " '__rrshift__',\n",
              " '__rshift__',\n",
              " '__rsub__',\n",
              " '__rtruediv__',\n",
              " '__rxor__',\n",
              " '__setitem__',\n",
              " '__setstate__',\n",
              " '__sub__',\n",
              " '__truediv__',\n",
              " '__xor__',\n",
              " 'all',\n",
              " 'any',\n",
              " 'argmax',\n",
              " 'argmin',\n",
              " 'argpartition',\n",
              " 'argsort',\n",
              " 'astype',\n",
              " 'base',\n",
              " 'byteswap',\n",
              " 'choose',\n",
              " 'clip',\n",
              " 'compress',\n",
              " 'conj',\n",
              " 'conjugate',\n",
              " 'copy',\n",
              " 'ctypes',\n",
              " 'cumprod',\n",
              " 'cumsum',\n",
              " 'data',\n",
              " 'diagonal',\n",
              " 'dot',\n",
              " 'dtype',\n",
              " 'dump',\n",
              " 'dumps',\n",
              " 'fill',\n",
              " 'flags',\n",
              " 'flat',\n",
              " 'flatten',\n",
              " 'getfield',\n",
              " 'imag',\n",
              " 'item',\n",
              " 'itemset',\n",
              " 'itemsize',\n",
              " 'max',\n",
              " 'mean',\n",
              " 'min',\n",
              " 'nbytes',\n",
              " 'ndim',\n",
              " 'newbyteorder',\n",
              " 'nonzero',\n",
              " 'partition',\n",
              " 'prod',\n",
              " 'ptp',\n",
              " 'put',\n",
              " 'ravel',\n",
              " 'real',\n",
              " 'repeat',\n",
              " 'reshape',\n",
              " 'resize',\n",
              " 'round',\n",
              " 'searchsorted',\n",
              " 'setfield',\n",
              " 'setflags',\n",
              " 'shape',\n",
              " 'size',\n",
              " 'sort',\n",
              " 'squeeze',\n",
              " 'std',\n",
              " 'strides',\n",
              " 'sum',\n",
              " 'swapaxes',\n",
              " 'take',\n",
              " 'tobytes',\n",
              " 'tofile',\n",
              " 'tolist',\n",
              " 'tostring',\n",
              " 'trace',\n",
              " 'transpose',\n",
              " 'var',\n",
              " 'view'}"
            ]
          },
          "execution_count": 4,
          "metadata": {},
          "output_type": "execute_result"
        }
      ],
      "source": [
        "set(dir(a))-set(dir(object))"
      ]
    },
    {
      "cell_type": "markdown",
      "metadata": {
        "id": "w0CajW0j6ZS1"
      },
      "source": [
        "Наш массив одномерный."
      ]
    },
    {
      "cell_type": "code",
      "execution_count": null,
      "metadata": {
        "id": "zdlfvtHF6ZS1",
        "outputId": "bd105189-1cdd-41f8-d496-2d3f7a9a759b"
      },
      "outputs": [
        {
          "data": {
            "text/plain": [
              "1"
            ]
          },
          "execution_count": 5,
          "metadata": {},
          "output_type": "execute_result"
        }
      ],
      "source": [
        "a.ndim"
      ]
    },
    {
      "cell_type": "markdown",
      "metadata": {
        "id": "4-k3REE36ZS2"
      },
      "source": [
        "В $n$-мерном случае возвращается кортеж размеров по каждой координате."
      ]
    },
    {
      "cell_type": "code",
      "execution_count": null,
      "metadata": {
        "id": "Y9VjBDpn6ZS2",
        "outputId": "ffa4ff78-ee1a-41be-d2bf-17aaf03d26d0"
      },
      "outputs": [
        {
          "data": {
            "text/plain": [
              "(3,)"
            ]
          },
          "execution_count": 6,
          "metadata": {},
          "output_type": "execute_result"
        }
      ],
      "source": [
        "a.shape"
      ]
    },
    {
      "cell_type": "markdown",
      "metadata": {
        "id": "Cz2EwRJA6ZS2"
      },
      "source": [
        "`size` - это полное число элементов в массиве; `len` - размер по первой координате (в 1-мерном случае это то же самое)."
      ]
    },
    {
      "cell_type": "code",
      "execution_count": null,
      "metadata": {
        "id": "bnKD6-6u6ZS3",
        "outputId": "8ec86620-b8a6-41a4-d987-f528a619f60e"
      },
      "outputs": [
        {
          "data": {
            "text/plain": [
              "(3, 3)"
            ]
          },
          "execution_count": 7,
          "metadata": {},
          "output_type": "execute_result"
        }
      ],
      "source": [
        "len(a),a.size"
      ]
    },
    {
      "cell_type": "markdown",
      "metadata": {
        "id": "CktKx51m6ZS3"
      },
      "source": [
        "`numpy` предоставляет несколько типов для целых (`int16`, `int32`, `int64`) и чисел с плавающей точкой (`float32`, `float64`)."
      ]
    },
    {
      "cell_type": "code",
      "execution_count": null,
      "metadata": {
        "id": "n7Rpvidb6ZS3",
        "outputId": "be3009bf-d6ca-4b9c-c251-dbc392f4b1ac"
      },
      "outputs": [
        {
          "data": {
            "text/plain": [
              "(dtype('int64'), 'int64', 8)"
            ]
          },
          "execution_count": 8,
          "metadata": {},
          "output_type": "execute_result"
        }
      ],
      "source": [
        "a.dtype,a.dtype.name,a.itemsize"
      ]
    },
    {
      "cell_type": "markdown",
      "metadata": {
        "id": "2pUySiH46ZS4"
      },
      "source": [
        "Индексировать массив можно обычным образом."
      ]
    },
    {
      "cell_type": "code",
      "execution_count": null,
      "metadata": {
        "id": "acnmBSNT6ZS4",
        "outputId": "8c4bd3a5-3583-47a0-90e3-528999a068e0"
      },
      "outputs": [
        {
          "data": {
            "text/plain": [
              "2"
            ]
          },
          "execution_count": 9,
          "metadata": {},
          "output_type": "execute_result"
        }
      ],
      "source": [
        "a[1]"
      ]
    },
    {
      "cell_type": "markdown",
      "metadata": {
        "id": "ir9rTUhx6ZS4"
      },
      "source": [
        "Массивы - изменяемые объекты."
      ]
    },
    {
      "cell_type": "code",
      "execution_count": null,
      "metadata": {
        "id": "Rc4Nf9Vw6ZS4",
        "outputId": "1515faf3-6eb1-4680-c551-366cd6693c4b"
      },
      "outputs": [
        {
          "name": "stdout",
          "output_type": "stream",
          "text": [
            "[0 3 1]\n"
          ]
        }
      ],
      "source": [
        "a[1]=3\n",
        "print(a)"
      ]
    },
    {
      "cell_type": "markdown",
      "metadata": {
        "id": "mjyjMTbL6ZS5"
      },
      "source": [
        "Массивы, разумеется, можно использовать в `for` циклах. Но при этом теряется главное преимущество `numpy` - быстродействие. Всегда, когда это возможно, лучше использовать операции над массивами как едиными целыми."
      ]
    },
    {
      "cell_type": "code",
      "execution_count": null,
      "metadata": {
        "id": "g2qiGmkc6ZS5",
        "outputId": "0cd1b2ad-0eb6-4438-a25b-558047171bf8"
      },
      "outputs": [
        {
          "name": "stdout",
          "output_type": "stream",
          "text": [
            "0\n",
            "3\n",
            "1\n"
          ]
        }
      ],
      "source": [
        "for i in a:\n",
        "    print(i)"
      ]
    },
    {
      "cell_type": "markdown",
      "metadata": {
        "id": "Pbm4ucsk6ZS5"
      },
      "source": [
        "Массив чисел с плавающей точкой."
      ]
    },
    {
      "cell_type": "code",
      "execution_count": null,
      "metadata": {
        "id": "MA9EILud6ZS6",
        "outputId": "c35e61c2-a27b-49be-b9ce-b1a25ce523c8"
      },
      "outputs": [
        {
          "data": {
            "text/plain": [
              "dtype('float64')"
            ]
          },
          "execution_count": 12,
          "metadata": {},
          "output_type": "execute_result"
        }
      ],
      "source": [
        "b=array([0.,2,1])\n",
        "b.dtype"
      ]
    },
    {
      "cell_type": "markdown",
      "metadata": {
        "id": "qVcSWjQw6ZS6"
      },
      "source": [
        "Точно такой же массив."
      ]
    },
    {
      "cell_type": "code",
      "execution_count": null,
      "metadata": {
        "id": "f5tg28hs6ZS6",
        "outputId": "637fe89a-0fef-45d1-8e81-f88ebc4f0c24"
      },
      "outputs": [
        {
          "name": "stdout",
          "output_type": "stream",
          "text": [
            "[ 0.  2.  1.]\n"
          ]
        }
      ],
      "source": [
        "c=array([0,2,1],dtype=float64)\n",
        "print(c)"
      ]
    },
    {
      "cell_type": "code",
      "execution_count": null,
      "metadata": {
        "id": "_J-58H1q6ZS7"
      },
      "outputs": [],
      "source": [
        "array([1.2,1.5,1.8],dtype=int64)"
      ]
    },
    {
      "cell_type": "markdown",
      "metadata": {
        "id": "jLHj0qkR6ZS7"
      },
      "source": [
        "Массив, значения которого вычисляются функцией. Функции передаётся массив. Так что в ней можно использовать только такие операции, которые применимы к массивам."
      ]
    },
    {
      "cell_type": "code",
      "execution_count": null,
      "metadata": {
        "id": "l1GlM4RO6ZS7",
        "outputId": "917aac0a-bcb9-437a-bb15-bfd33f1bf607"
      },
      "outputs": [
        {
          "name": "stdout",
          "output_type": "stream",
          "text": [
            "[0 1 2 3 4]\n",
            "[ 0  1  4  9 16]\n"
          ]
        }
      ],
      "source": [
        "def f(i):\n",
        "    print(i)\n",
        "    return i**2\n",
        "a=fromfunction(f,(5,),dtype=int64)\n",
        "print(a)"
      ]
    },
    {
      "cell_type": "code",
      "execution_count": null,
      "metadata": {
        "id": "jaS4l37A6ZS7",
        "outputId": "1bdec4ab-3eb7-4d6e-dbf1-77454eb1a0bd"
      },
      "outputs": [
        {
          "name": "stdout",
          "output_type": "stream",
          "text": [
            "[ 0.  1.  2.  3.  4.]\n",
            "[  0.   1.   4.   9.  16.]\n"
          ]
        }
      ],
      "source": [
        "a=fromfunction(f,(5,),dtype=float64)\n",
        "print(a)"
      ]
    },
    {
      "cell_type": "markdown",
      "metadata": {
        "id": "Ok5S5tqE6ZS7"
      },
      "source": [
        "Массивы, заполненные нулями или единицами. Часто лучше сначала создать такой массив, а потом присваивать значения его элементам."
      ]
    },
    {
      "cell_type": "code",
      "execution_count": null,
      "metadata": {
        "id": "z2FLA-cN6ZS8",
        "outputId": "57f7d497-5019-4f51-bb7b-9044adba28c1"
      },
      "outputs": [
        {
          "name": "stdout",
          "output_type": "stream",
          "text": [
            "[ 0.  0.  0.]\n"
          ]
        }
      ],
      "source": [
        "a=zeros(3)\n",
        "print(a)"
      ]
    },
    {
      "cell_type": "code",
      "execution_count": null,
      "metadata": {
        "id": "U5UDkMlV6ZS8",
        "outputId": "559798ba-80a1-4be3-cd1f-ce8d90f0ec88"
      },
      "outputs": [
        {
          "name": "stdout",
          "output_type": "stream",
          "text": [
            "[1 1 1]\n"
          ]
        }
      ],
      "source": [
        "b=ones(3,dtype=int64)\n",
        "print(b)"
      ]
    },
    {
      "cell_type": "markdown",
      "metadata": {
        "id": "J-XGlTdx6ZS8"
      },
      "source": [
        "Функция `arange` подобна `range`. Аргументы могут быть с плавающей точкой. Следует избегать ситуаций, когда $(конец-начало)/шаг$ - целое число, потому что в этом случае включение последнего элемента зависит от ошибок округления. Лучше, чтобы конец диапазона был где-то посредине шага."
      ]
    },
    {
      "cell_type": "code",
      "execution_count": null,
      "metadata": {
        "id": "vR1EkbhI6ZS8",
        "outputId": "5735795f-19eb-4a09-e056-4d92a316b3c7"
      },
      "outputs": [
        {
          "name": "stdout",
          "output_type": "stream",
          "text": [
            "[0 2 4 6 8]\n"
          ]
        }
      ],
      "source": [
        "a=arange(0,9,2)\n",
        "print(a)"
      ]
    },
    {
      "cell_type": "code",
      "execution_count": null,
      "metadata": {
        "id": "h3l6IiGV6ZS9",
        "outputId": "fa2173f6-b85c-49df-c087-2b14cbcbbf7e"
      },
      "outputs": [
        {
          "name": "stdout",
          "output_type": "stream",
          "text": [
            "[ 0.  2.  4.  6.  8.]\n"
          ]
        }
      ],
      "source": [
        "b=arange(0.,9,2)\n",
        "print(b)"
      ]
    },
    {
      "cell_type": "markdown",
      "metadata": {
        "id": "hLCYA9va6ZS9"
      },
      "source": [
        "Последовательности чисел с постоянным шагом можно также создавать функцией `linspace`. Начало и конец диапазона включаются; последний аргумент - число точек."
      ]
    },
    {
      "cell_type": "code",
      "execution_count": null,
      "metadata": {
        "id": "SuiHkwNi6ZS9",
        "outputId": "9ccfee80-70db-42e9-8a6a-97efb5cff545"
      },
      "outputs": [
        {
          "name": "stdout",
          "output_type": "stream",
          "text": [
            "[ 0.  2.  4.  6.  8.]\n"
          ]
        }
      ],
      "source": [
        "a=linspace(0,8,5)\n",
        "print(a)"
      ]
    },
    {
      "cell_type": "markdown",
      "metadata": {
        "id": "7nOaLg8S6ZS9"
      },
      "source": [
        "Последовательность чисел с постоянным шагом по логарифмической шкале от $10^0$ до $10^1$."
      ]
    },
    {
      "cell_type": "code",
      "execution_count": null,
      "metadata": {
        "id": "n-fB9ndJ6ZS-",
        "outputId": "91775584-ef3a-4bf7-c52d-b7dc98568488"
      },
      "outputs": [
        {
          "name": "stdout",
          "output_type": "stream",
          "text": [
            "[  1.           1.77827941   3.16227766   5.62341325  10.        ]\n"
          ]
        }
      ],
      "source": [
        "b=logspace(0,1,5)\n",
        "print(b)"
      ]
    },
    {
      "cell_type": "markdown",
      "metadata": {
        "id": "Nzx3M0QL6ZS-"
      },
      "source": [
        "Массив случайных чисел."
      ]
    },
    {
      "cell_type": "code",
      "execution_count": null,
      "metadata": {
        "id": "syK_7XTV6ZS-",
        "outputId": "24bb7293-dc24-45ee-bcf0-67b19d1e4e95"
      },
      "outputs": [
        {
          "name": "stdout",
          "output_type": "stream",
          "text": [
            "[ 0.63038745  0.24031792  0.75969506  0.98191274  0.9023238 ]\n"
          ]
        }
      ],
      "source": [
        "from numpy.random import random,normal\n",
        "print(random(5))"
      ]
    },
    {
      "cell_type": "markdown",
      "metadata": {
        "id": "arSY48PJ6ZS-"
      },
      "source": [
        "Случайные числа с нормальным (гауссовым) распределением (среднее `0`, среднеквадратичное отклонение `1`)."
      ]
    },
    {
      "cell_type": "code",
      "execution_count": null,
      "metadata": {
        "id": "jQjXwILB6ZS-",
        "outputId": "f091fd6e-73f4-446f-cf8f-bcd3f7bd0a86"
      },
      "outputs": [
        {
          "name": "stdout",
          "output_type": "stream",
          "text": [
            "[-0.06409544  0.26656068 -1.83718422 -1.01312915  0.0445343 ]\n"
          ]
        }
      ],
      "source": [
        "print(normal(size=5))"
      ]
    },
    {
      "cell_type": "markdown",
      "metadata": {
        "id": "T152gGzH6ZS-"
      },
      "source": [
        "## Операции над одномерными массивами\n",
        "\n",
        "Арифметические операции проводятся поэлементно."
      ]
    },
    {
      "cell_type": "code",
      "execution_count": null,
      "metadata": {
        "id": "1RdpAOSn6ZS_",
        "outputId": "b8b59faa-260e-4cc1-ea70-20ef1d5f3bf3"
      },
      "outputs": [
        {
          "name": "stdout",
          "output_type": "stream",
          "text": [
            "[  1.           3.77827941   7.16227766  11.62341325  18.        ]\n"
          ]
        }
      ],
      "source": [
        "print(a+b)"
      ]
    },
    {
      "cell_type": "code",
      "execution_count": null,
      "metadata": {
        "id": "QuRSdcE36ZS_",
        "outputId": "e5a588d9-8e29-444a-9b31-8394ad4e83ad"
      },
      "outputs": [
        {
          "name": "stdout",
          "output_type": "stream",
          "text": [
            "[-1.          0.22172059  0.83772234  0.37658675 -2.        ]\n"
          ]
        }
      ],
      "source": [
        "print(a-b)"
      ]
    },
    {
      "cell_type": "code",
      "execution_count": null,
      "metadata": {
        "id": "hKfk4q3G6ZS_",
        "outputId": "382c379c-89e1-4a24-d238-cf8b23365b17"
      },
      "outputs": [
        {
          "name": "stdout",
          "output_type": "stream",
          "text": [
            "[  0.           3.55655882  12.64911064  33.74047951  80.        ]\n"
          ]
        }
      ],
      "source": [
        "print(a*b)"
      ]
    },
    {
      "cell_type": "markdown",
      "metadata": {
        "id": "UYJRnYbW6ZS_"
      },
      "source": [
        "Скалярное произведение"
      ]
    },
    {
      "cell_type": "code",
      "execution_count": null,
      "metadata": {
        "id": "NfF91vWL6ZS_",
        "outputId": "8b896bc4-eb13-4717-f6ad-9a9320ec9c7c"
      },
      "outputs": [
        {
          "data": {
            "text/plain": [
              "129.9461489721723"
            ]
          },
          "execution_count": 28,
          "metadata": {},
          "output_type": "execute_result"
        }
      ],
      "source": [
        "a@b"
      ]
    },
    {
      "cell_type": "code",
      "execution_count": null,
      "metadata": {
        "id": "HZkFdKiC6ZTA",
        "outputId": "f1542edd-1ef3-45ce-95bb-aea7f6ebc6cd"
      },
      "outputs": [
        {
          "name": "stdout",
          "output_type": "stream",
          "text": [
            "[ 0.          1.12468265  1.26491106  1.06696765  0.8       ]\n"
          ]
        }
      ],
      "source": [
        "print(a/b)"
      ]
    },
    {
      "cell_type": "code",
      "execution_count": null,
      "metadata": {
        "id": "x1x7oP_w6ZTA",
        "outputId": "d5e70262-df2d-414a-cbc3-1eb5decfd5ae"
      },
      "outputs": [
        {
          "name": "stdout",
          "output_type": "stream",
          "text": [
            "[  0.   4.  16.  36.  64.]\n"
          ]
        }
      ],
      "source": [
        "print(a**2)"
      ]
    },
    {
      "cell_type": "markdown",
      "metadata": {
        "id": "FaCfDObq6ZTA"
      },
      "source": [
        "Когда операнды разных типов, они пиводятся к большему типу."
      ]
    },
    {
      "cell_type": "code",
      "execution_count": null,
      "metadata": {
        "id": "QRZHfZfQ6ZTA",
        "outputId": "5ee99a77-23c4-48f3-d222-a71cbf368fdf"
      },
      "outputs": [
        {
          "name": "stdout",
          "output_type": "stream",
          "text": [
            "[ 1.  3.  5.  7.  9.]\n"
          ]
        }
      ],
      "source": [
        "i=ones(5,dtype=int64)\n",
        "print(a+i)"
      ]
    },
    {
      "cell_type": "markdown",
      "metadata": {
        "id": "-I0Cb1Md6ZTA"
      },
      "source": [
        "`numpy` содержит элементарные функции, которые тоже применяются к массивам поэлементно. Они называются универсальными функциями (`ufunc`)."
      ]
    },
    {
      "cell_type": "code",
      "execution_count": null,
      "metadata": {
        "id": "d_3qntQK6ZTA",
        "outputId": "7c107661-3a44-4f60-baf5-914dee524da0"
      },
      "outputs": [
        {
          "data": {
            "text/plain": [
              "(<ufunc 'sin'>, numpy.ufunc)"
            ]
          },
          "execution_count": 32,
          "metadata": {},
          "output_type": "execute_result"
        }
      ],
      "source": [
        "sin,type(sin)"
      ]
    },
    {
      "cell_type": "code",
      "execution_count": null,
      "metadata": {
        "id": "w1xLX6bV6ZTB",
        "outputId": "0b815c57-e585-412a-ab25-819e9b7896b0"
      },
      "outputs": [
        {
          "name": "stdout",
          "output_type": "stream",
          "text": [
            "[ 0.          0.90929743 -0.7568025  -0.2794155   0.98935825]\n"
          ]
        }
      ],
      "source": [
        "print(sin(a))"
      ]
    },
    {
      "cell_type": "markdown",
      "metadata": {
        "id": "cR8GrTEn6ZTB"
      },
      "source": [
        "Один из операндов может быть скаляром, а не массивом."
      ]
    },
    {
      "cell_type": "code",
      "execution_count": null,
      "metadata": {
        "id": "3UMygtOY6ZTB",
        "outputId": "bce73f7a-15f8-4d01-f0d3-322f338db65b"
      },
      "outputs": [
        {
          "name": "stdout",
          "output_type": "stream",
          "text": [
            "[ 1.  3.  5.  7.  9.]\n"
          ]
        }
      ],
      "source": [
        "print(a+1)"
      ]
    },
    {
      "cell_type": "code",
      "execution_count": null,
      "metadata": {
        "id": "fPt3_f8o6ZTB",
        "outputId": "e4d75480-2e5e-48b7-d307-9078c322117b"
      },
      "outputs": [
        {
          "name": "stdout",
          "output_type": "stream",
          "text": [
            "[  0.   4.   8.  12.  16.]\n"
          ]
        }
      ],
      "source": [
        "print(2*a)"
      ]
    },
    {
      "cell_type": "markdown",
      "metadata": {
        "id": "fyuvIQi66ZTB"
      },
      "source": [
        "Сравнения дают булевы массивы."
      ]
    },
    {
      "cell_type": "code",
      "execution_count": null,
      "metadata": {
        "id": "DOzFceJf6ZTC",
        "outputId": "529e90ca-990b-4128-a3d4-ba89eef36fd0"
      },
      "outputs": [
        {
          "name": "stdout",
          "output_type": "stream",
          "text": [
            "[False  True  True  True False]\n"
          ]
        }
      ],
      "source": [
        "print(a>b)"
      ]
    },
    {
      "cell_type": "code",
      "execution_count": null,
      "metadata": {
        "id": "UQTuVFcD6ZTC",
        "outputId": "4f878983-a208-4699-fde7-30192d1ce52c"
      },
      "outputs": [
        {
          "name": "stdout",
          "output_type": "stream",
          "text": [
            "[False False False False False]\n"
          ]
        }
      ],
      "source": [
        "print(a==b)"
      ]
    },
    {
      "cell_type": "code",
      "execution_count": null,
      "metadata": {
        "id": "SB0s_A746ZTC",
        "outputId": "26bf4861-6c24-4fab-9681-cb5b4f8e3493"
      },
      "outputs": [
        {
          "name": "stdout",
          "output_type": "stream",
          "text": [
            "[False False False  True  True]\n"
          ]
        }
      ],
      "source": [
        "c=a>5\n",
        "print(c)"
      ]
    },
    {
      "cell_type": "markdown",
      "metadata": {
        "id": "VKcIe-uF6ZTC"
      },
      "source": [
        "Кванторы \"существует\" и \"для всех\"."
      ]
    },
    {
      "cell_type": "code",
      "execution_count": null,
      "metadata": {
        "id": "MrSWjq7t6ZTC",
        "outputId": "6802decf-97fc-4041-8e2a-528d1cc9bd51"
      },
      "outputs": [
        {
          "data": {
            "text/plain": [
              "(True, False)"
            ]
          },
          "execution_count": 39,
          "metadata": {},
          "output_type": "execute_result"
        }
      ],
      "source": [
        "any(c),all(c)"
      ]
    },
    {
      "cell_type": "markdown",
      "metadata": {
        "id": "CJFTU52y6ZTD"
      },
      "source": [
        "Модификация на месте."
      ]
    },
    {
      "cell_type": "code",
      "execution_count": null,
      "metadata": {
        "id": "4HW72rwO6ZTD",
        "outputId": "dbc627b8-7697-4241-b5c3-ccd2f0bc426d"
      },
      "outputs": [
        {
          "name": "stdout",
          "output_type": "stream",
          "text": [
            "[ 1.  3.  5.  7.  9.]\n"
          ]
        }
      ],
      "source": [
        "a+=1\n",
        "print(a)"
      ]
    },
    {
      "cell_type": "code",
      "execution_count": null,
      "metadata": {
        "id": "mxtncEwR6ZTD",
        "outputId": "21080988-0e60-4303-a8d4-faedc2c3fc5a"
      },
      "outputs": [
        {
          "name": "stdout",
          "output_type": "stream",
          "text": [
            "[  2.           3.55655882   6.32455532  11.2468265   20.        ]\n"
          ]
        }
      ],
      "source": [
        "b*=2\n",
        "print(b)"
      ]
    },
    {
      "cell_type": "code",
      "execution_count": null,
      "metadata": {
        "id": "hiA9B57i6ZTD",
        "outputId": "9312c05c-38a1-41d9-e7c8-b3dcac18f8de"
      },
      "outputs": [
        {
          "name": "stdout",
          "output_type": "stream",
          "text": [
            "[ 2.          1.18551961  1.26491106  1.6066895   2.22222222]\n"
          ]
        }
      ],
      "source": [
        "b/=a\n",
        "print(b)"
      ]
    },
    {
      "cell_type": "markdown",
      "metadata": {
        "id": "u0MC5-Mr6ZTD"
      },
      "source": [
        "Так делать можно."
      ]
    },
    {
      "cell_type": "code",
      "execution_count": null,
      "metadata": {
        "collapsed": true,
        "id": "RcLh0z6F6ZTE"
      },
      "outputs": [],
      "source": [
        "a+=i"
      ]
    },
    {
      "cell_type": "markdown",
      "metadata": {
        "id": "MdHd3GlQ6ZTE"
      },
      "source": [
        "А так нельзя."
      ]
    },
    {
      "cell_type": "code",
      "execution_count": null,
      "metadata": {
        "id": "VcSbDhDK6ZTF",
        "outputId": "cbe2938a-8e1c-4624-dbfc-d9c9ea2f0648"
      },
      "outputs": [
        {
          "ename": "TypeError",
          "evalue": "Cannot cast ufunc add output from dtype('float64') to dtype('int64') with casting rule 'same_kind'",
          "output_type": "error",
          "traceback": [
            "\u001b[0;31m---------------------------------------------------------------------------\u001b[0m",
            "\u001b[0;31mTypeError\u001b[0m                                 Traceback (most recent call last)",
            "\u001b[0;32m<ipython-input-44-300abee39dd1>\u001b[0m in \u001b[0;36m<module>\u001b[0;34m()\u001b[0m\n\u001b[0;32m----> 1\u001b[0;31m \u001b[0mi\u001b[0m\u001b[0;34m+=\u001b[0m\u001b[0ma\u001b[0m\u001b[0;34m\u001b[0m\u001b[0m\n\u001b[0m",
            "\u001b[0;31mTypeError\u001b[0m: Cannot cast ufunc add output from dtype('float64') to dtype('int64') with casting rule 'same_kind'"
          ]
        }
      ],
      "source": [
        "i+=a"
      ]
    },
    {
      "cell_type": "markdown",
      "metadata": {
        "id": "U5tdDj_M6ZTF"
      },
      "source": [
        "При выполнении операций над массивами деление на 0 не возбуждает исключения, а даёт значения `np.nan` или `np.inf`."
      ]
    },
    {
      "cell_type": "code",
      "execution_count": null,
      "metadata": {
        "id": "HqFQH-EM6ZTF",
        "outputId": "049999a5-acce-41d9-8767-d8cd46f5d6e3"
      },
      "outputs": [
        {
          "name": "stdout",
          "output_type": "stream",
          "text": [
            "[  0.  nan  inf -inf]\n"
          ]
        },
        {
          "name": "stderr",
          "output_type": "stream",
          "text": [
            "/usr/lib64/python3.6/site-packages/ipykernel/__main__.py:1: RuntimeWarning: divide by zero encountered in true_divide\n",
            "  if __name__ == '__main__':\n",
            "/usr/lib64/python3.6/site-packages/ipykernel/__main__.py:1: RuntimeWarning: invalid value encountered in true_divide\n",
            "  if __name__ == '__main__':\n"
          ]
        }
      ],
      "source": [
        "print(array([0.0,0.0,1.0,-1.0])/array([1.0,0.0,0.0,0.0]))"
      ]
    },
    {
      "cell_type": "code",
      "execution_count": null,
      "metadata": {
        "id": "p4CeMMGt6ZTG",
        "outputId": "5c64bbe4-fca1-4bdb-e6fd-b107e9081411"
      },
      "outputs": [
        {
          "data": {
            "text/plain": [
              "(nan, inf, nan, 0.0, nan)"
            ]
          },
          "execution_count": 46,
          "metadata": {},
          "output_type": "execute_result"
        }
      ],
      "source": [
        "nan+1,inf+1,inf*0,1./inf,inf/inf"
      ]
    },
    {
      "cell_type": "code",
      "execution_count": null,
      "metadata": {
        "id": "tyxBbhQa6ZTG",
        "outputId": "61a05d26-22ec-4155-f3a0-44b01e2c9c05"
      },
      "outputs": [
        {
          "data": {
            "text/plain": [
              "(False, True)"
            ]
          },
          "execution_count": 47,
          "metadata": {},
          "output_type": "execute_result"
        }
      ],
      "source": [
        "nan==nan,inf==inf"
      ]
    },
    {
      "cell_type": "markdown",
      "metadata": {
        "id": "kj1pMLcP6ZTG"
      },
      "source": [
        "Сумма и произведение всех элементов массива; максимальный и минимальный элемент; среднее и среднеквадратичное отклонение."
      ]
    },
    {
      "cell_type": "code",
      "execution_count": null,
      "metadata": {
        "id": "VHcGAQ726ZTG",
        "outputId": "39b4faa3-4501-465e-c7ff-20d84cf6edc4"
      },
      "outputs": [
        {
          "data": {
            "text/plain": [
              "(8.2793423935260435,\n",
              " 10.708241812210389,\n",
              " 2.2222222222222223,\n",
              " 1.1855196066926152,\n",
              " 1.6558684787052087,\n",
              " 0.40390033426607452)"
            ]
          },
          "execution_count": 48,
          "metadata": {},
          "output_type": "execute_result"
        }
      ],
      "source": [
        "b.sum(),b.prod(),b.max(),b.min(),b.mean(),b.std()"
      ]
    },
    {
      "cell_type": "code",
      "execution_count": null,
      "metadata": {
        "id": "tU7IuHwK6ZTG",
        "outputId": "3a7a5101-f520-4960-fc4c-711419adbd53"
      },
      "outputs": [
        {
          "data": {
            "text/plain": [
              "(-0.048736395274562645, 0.98622825985036244)"
            ]
          },
          "execution_count": 49,
          "metadata": {},
          "output_type": "execute_result"
        }
      ],
      "source": [
        "x=normal(size=1000)\n",
        "x.mean(),x.std()"
      ]
    },
    {
      "cell_type": "markdown",
      "metadata": {
        "id": "BvLWYK2o6ZTG"
      },
      "source": [
        "Функция `sort` возвращает отсортированную копию, метод `sort` сортирует на месте."
      ]
    },
    {
      "cell_type": "code",
      "execution_count": null,
      "metadata": {
        "id": "gCjB4b-V6ZTH",
        "outputId": "10c19900-0842-49f0-bf8f-cff67d05310b"
      },
      "outputs": [
        {
          "name": "stdout",
          "output_type": "stream",
          "text": [
            "[ 1.18551961  1.26491106  1.6066895   2.          2.22222222]\n",
            "[ 2.          1.18551961  1.26491106  1.6066895   2.22222222]\n"
          ]
        }
      ],
      "source": [
        "print(sort(b))\n",
        "print(b)"
      ]
    },
    {
      "cell_type": "code",
      "execution_count": null,
      "metadata": {
        "id": "v9yfyB-F6ZTH",
        "outputId": "347caa84-7572-45ee-d781-54de2b0d4405"
      },
      "outputs": [
        {
          "name": "stdout",
          "output_type": "stream",
          "text": [
            "[ 1.18551961  1.26491106  1.6066895   2.          2.22222222]\n"
          ]
        }
      ],
      "source": [
        "b.sort()\n",
        "print(b)"
      ]
    },
    {
      "cell_type": "markdown",
      "metadata": {
        "id": "tZbT_b_V6ZTH"
      },
      "source": [
        "Объединение массивов."
      ]
    },
    {
      "cell_type": "code",
      "execution_count": null,
      "metadata": {
        "id": "SLqShres6ZTH",
        "outputId": "d6271b9f-fdc6-415a-bc72-a326d4c674eb"
      },
      "outputs": [
        {
          "name": "stdout",
          "output_type": "stream",
          "text": [
            "[  2.           4.           6.           8.          10.           1.18551961\n",
            "   1.26491106   1.6066895    2.           2.22222222]\n"
          ]
        }
      ],
      "source": [
        "a=hstack((a,b))\n",
        "print(a)"
      ]
    },
    {
      "cell_type": "markdown",
      "metadata": {
        "id": "yX-lQVZ56ZTH"
      },
      "source": [
        "Расщепление массива в позициях 3 и 6."
      ]
    },
    {
      "cell_type": "code",
      "execution_count": null,
      "metadata": {
        "id": "-xA2wusx6ZTH",
        "outputId": "9c59f150-cd1d-4eda-8e6e-e70c25051db1"
      },
      "outputs": [
        {
          "data": {
            "text/plain": [
              "[array([ 2.,  4.,  6.]),\n",
              " array([  8.        ,  10.        ,   1.18551961]),\n",
              " array([ 1.26491106,  1.6066895 ,  2.        ,  2.22222222])]"
            ]
          },
          "execution_count": 53,
          "metadata": {},
          "output_type": "execute_result"
        }
      ],
      "source": [
        "hsplit(a,[3,6])"
      ]
    },
    {
      "cell_type": "markdown",
      "metadata": {
        "id": "8__e-3cp6ZTI"
      },
      "source": [
        "Функции `delete`, `insert` и `append` не меняют массив на месте, а возвращают новый массив, в котором удалены, вставлены в середину или добавлены в конец какие-то элементы."
      ]
    },
    {
      "cell_type": "code",
      "execution_count": null,
      "metadata": {
        "id": "R5lVQwfS6ZTI",
        "outputId": "f3a0503a-ae41-4948-8171-66ccb8f4a346"
      },
      "outputs": [
        {
          "name": "stdout",
          "output_type": "stream",
          "text": [
            "[  2.           4.           6.           8.          10.           1.26491106\n",
            "   2.           2.22222222]\n"
          ]
        }
      ],
      "source": [
        "a=delete(a,[5,7])\n",
        "print(a)"
      ]
    },
    {
      "cell_type": "code",
      "execution_count": null,
      "metadata": {
        "id": "odoppvCL6ZTI",
        "outputId": "46d9e731-d2fc-4e88-bf53-d5dfbab2cda1"
      },
      "outputs": [
        {
          "name": "stdout",
          "output_type": "stream",
          "text": [
            "[  2.           4.           0.           0.           6.           8.          10.\n",
            "   1.26491106   2.           2.22222222]\n"
          ]
        }
      ],
      "source": [
        "a=insert(a,2,[0,0])\n",
        "print(a)"
      ]
    },
    {
      "cell_type": "code",
      "execution_count": null,
      "metadata": {
        "id": "IWLsCDPK6ZTI",
        "outputId": "d8663e99-c50f-45a8-916c-07b92afdecef"
      },
      "outputs": [
        {
          "name": "stdout",
          "output_type": "stream",
          "text": [
            "[  2.           4.           0.           0.           6.           8.          10.\n",
            "   1.26491106   2.           2.22222222   1.           2.           3.        ]\n"
          ]
        }
      ],
      "source": [
        "a=append(a,[1,2,3])\n",
        "print(a)"
      ]
    },
    {
      "cell_type": "markdown",
      "metadata": {
        "id": "KJp2MNtk6ZTI"
      },
      "source": [
        "Есть несколько способов индексации массива. Вот обычный индекс."
      ]
    },
    {
      "cell_type": "code",
      "execution_count": null,
      "metadata": {
        "id": "7T8xjWli6ZTJ",
        "outputId": "37bbbad6-bda1-4acc-891c-be332663897b"
      },
      "outputs": [
        {
          "name": "stdout",
          "output_type": "stream",
          "text": [
            "[ 0.   0.1  0.2  0.3  0.4  0.5  0.6  0.7  0.8  0.9  1. ]\n"
          ]
        }
      ],
      "source": [
        "a=linspace(0,1,11)\n",
        "print(a)"
      ]
    },
    {
      "cell_type": "code",
      "execution_count": null,
      "metadata": {
        "id": "OTHtnOYT6ZTJ",
        "outputId": "5eb2acfb-a38f-42be-af71-0561f67e0b95"
      },
      "outputs": [
        {
          "name": "stdout",
          "output_type": "stream",
          "text": [
            "0.2\n"
          ]
        }
      ],
      "source": [
        "b=a[2]\n",
        "print(b)"
      ]
    },
    {
      "cell_type": "markdown",
      "metadata": {
        "id": "Q1FRDK8o6ZTJ"
      },
      "source": [
        "Диапазон индексов. Создаётся новый заголовок массива, указывающий на те же данные. Изменения, сделанные через такой массив, видны и в исходном массиве."
      ]
    },
    {
      "cell_type": "code",
      "execution_count": null,
      "metadata": {
        "id": "TXmT1m8w6ZTJ",
        "outputId": "e9d1c36d-4eac-437d-b214-81a26ba17db6"
      },
      "outputs": [
        {
          "name": "stdout",
          "output_type": "stream",
          "text": [
            "[ 0.2  0.3  0.4  0.5]\n"
          ]
        }
      ],
      "source": [
        "b=a[2:6]\n",
        "print(b)"
      ]
    },
    {
      "cell_type": "code",
      "execution_count": null,
      "metadata": {
        "id": "lj1PWIwu6ZTJ",
        "outputId": "078a1143-d06e-4057-feaa-442c5ae7638b"
      },
      "outputs": [
        {
          "name": "stdout",
          "output_type": "stream",
          "text": [
            "[-0.2  0.3  0.4  0.5]\n"
          ]
        }
      ],
      "source": [
        "b[0]=-0.2\n",
        "print(b)"
      ]
    },
    {
      "cell_type": "code",
      "execution_count": null,
      "metadata": {
        "id": "WrSSUBVY6ZTK",
        "outputId": "324a3456-010c-4db9-8ec5-2d2c5e0a8214"
      },
      "outputs": [
        {
          "name": "stdout",
          "output_type": "stream",
          "text": [
            "[ 0.   0.1 -0.2  0.3  0.4  0.5  0.6  0.7  0.8  0.9  1. ]\n"
          ]
        }
      ],
      "source": [
        "print(a)"
      ]
    },
    {
      "cell_type": "markdown",
      "metadata": {
        "id": "j37F2uef6ZTK"
      },
      "source": [
        "Диапазон с шагом 2."
      ]
    },
    {
      "cell_type": "code",
      "execution_count": null,
      "metadata": {
        "id": "F4L6tkHF6ZTK",
        "outputId": "6bc4b576-a6c5-4072-e7f9-8af2d6bbd087"
      },
      "outputs": [
        {
          "name": "stdout",
          "output_type": "stream",
          "text": [
            "[ 0.1  0.3  0.5  0.7  0.9]\n"
          ]
        }
      ],
      "source": [
        "b=a[1:10:2]\n",
        "print(b)"
      ]
    },
    {
      "cell_type": "code",
      "execution_count": null,
      "metadata": {
        "id": "mp8zE22a6ZTK",
        "outputId": "536d43f2-3b26-4362-9580-0f4e2db5f80c"
      },
      "outputs": [
        {
          "name": "stdout",
          "output_type": "stream",
          "text": [
            "[ 0.  -0.1 -0.2  0.3  0.4  0.5  0.6  0.7  0.8  0.9  1. ]\n"
          ]
        }
      ],
      "source": [
        "b[0]=-0.1\n",
        "print(a)"
      ]
    },
    {
      "cell_type": "markdown",
      "metadata": {
        "id": "jZCARHel6ZTL"
      },
      "source": [
        "Массив в обратном порядке."
      ]
    },
    {
      "cell_type": "code",
      "execution_count": null,
      "metadata": {
        "id": "Wlu_jO0h6ZTL",
        "outputId": "e20332ec-5eb8-4a20-ced6-a55093c90957"
      },
      "outputs": [
        {
          "name": "stdout",
          "output_type": "stream",
          "text": [
            "[ 1.   0.9  0.8  0.7  0.6  0.5  0.4  0.3 -0.2 -0.1]\n"
          ]
        }
      ],
      "source": [
        "b=a[len(a):0:-1]\n",
        "print(b)"
      ]
    },
    {
      "cell_type": "markdown",
      "metadata": {
        "id": "6o1aMAtW6ZTL"
      },
      "source": [
        "Подмассиву можно присвоить значение - массив правильного размера или скаляр."
      ]
    },
    {
      "cell_type": "code",
      "execution_count": null,
      "metadata": {
        "id": "UmkhXPyu6ZTL",
        "outputId": "4a014894-7bb3-459a-e33a-2df78e905e63"
      },
      "outputs": [
        {
          "name": "stdout",
          "output_type": "stream",
          "text": [
            "[ 0.   0.  -0.2  0.3  0.   0.5  0.6  0.   0.8  0.9  1. ]\n"
          ]
        }
      ],
      "source": [
        "a[1:10:3]=0\n",
        "print(a)"
      ]
    },
    {
      "cell_type": "markdown",
      "metadata": {
        "id": "iajpAFGJ6ZTL"
      },
      "source": [
        "Тут опять создаётся только новый заголовок, указывающий на те же данные."
      ]
    },
    {
      "cell_type": "code",
      "execution_count": null,
      "metadata": {
        "id": "yem-jyY46ZTL",
        "outputId": "167656ad-d38a-42a5-f615-bf4129868e26"
      },
      "outputs": [
        {
          "name": "stdout",
          "output_type": "stream",
          "text": [
            "[ 0.   0.1 -0.2  0.3  0.   0.5  0.6  0.   0.8  0.9  1. ]\n"
          ]
        }
      ],
      "source": [
        "b=a[:]\n",
        "b[1]=0.1\n",
        "print(a)"
      ]
    },
    {
      "cell_type": "markdown",
      "metadata": {
        "id": "cE7vkDPI6ZTM"
      },
      "source": [
        "Чтобы скопировать и данные массива, нужно использовать метод `copy`."
      ]
    },
    {
      "cell_type": "code",
      "execution_count": null,
      "metadata": {
        "id": "MEhWtsT36ZTM",
        "outputId": "1b044b3a-3e25-409a-fbbb-bc92f2e555da"
      },
      "outputs": [
        {
          "name": "stdout",
          "output_type": "stream",
          "text": [
            "[ 0.   0.1  0.   0.3  0.   0.5  0.6  0.   0.8  0.9  1. ]\n",
            "[ 0.   0.1 -0.2  0.3  0.   0.5  0.6  0.   0.8  0.9  1. ]\n"
          ]
        }
      ],
      "source": [
        "b=a.copy()\n",
        "b[2]=0\n",
        "print(b)\n",
        "print(a)"
      ]
    },
    {
      "cell_type": "markdown",
      "metadata": {
        "id": "Ef3mwVxV6ZTM"
      },
      "source": [
        "Можно задать список индексов."
      ]
    },
    {
      "cell_type": "code",
      "execution_count": null,
      "metadata": {
        "id": "XzUnE0M16ZTM",
        "outputId": "237f4548-15b8-4e13-8183-53956ff95ac6"
      },
      "outputs": [
        {
          "name": "stdout",
          "output_type": "stream",
          "text": [
            "[-0.2  0.3  0.5]\n"
          ]
        }
      ],
      "source": [
        "print(a[[2,3,5]])"
      ]
    },
    {
      "cell_type": "code",
      "execution_count": null,
      "metadata": {
        "id": "jVRtGZOZ6ZTM",
        "outputId": "532168bf-f919-4666-a6d4-55e1e763c230"
      },
      "outputs": [
        {
          "name": "stdout",
          "output_type": "stream",
          "text": [
            "[-0.2  0.3  0.5]\n"
          ]
        }
      ],
      "source": [
        "print(a[array([2,3,5])])"
      ]
    },
    {
      "cell_type": "markdown",
      "metadata": {
        "id": "Kua7ujt16ZTN"
      },
      "source": [
        "Можно задать булев массив той же величины."
      ]
    },
    {
      "cell_type": "code",
      "execution_count": null,
      "metadata": {
        "id": "ROD7xs7B6ZTN",
        "outputId": "82c320b6-5a31-45f1-e4ad-2114b328a1b9"
      },
      "outputs": [
        {
          "name": "stdout",
          "output_type": "stream",
          "text": [
            "[False  True False  True False  True  True False  True  True  True]\n"
          ]
        }
      ],
      "source": [
        "b=a>0\n",
        "print(b)"
      ]
    },
    {
      "cell_type": "code",
      "execution_count": null,
      "metadata": {
        "id": "DZNyBXYy6ZTN",
        "outputId": "952816e2-d784-41da-cc2f-4635ee614045"
      },
      "outputs": [
        {
          "name": "stdout",
          "output_type": "stream",
          "text": [
            "[ 0.1  0.3  0.5  0.6  0.8  0.9  1. ]\n"
          ]
        }
      ],
      "source": [
        "print(a[b])"
      ]
    },
    {
      "cell_type": "markdown",
      "metadata": {
        "collapsed": true,
        "id": "pHKgAEoX6ZTN"
      },
      "source": [
        "## 2-мерные массивы"
      ]
    },
    {
      "cell_type": "code",
      "execution_count": null,
      "metadata": {
        "id": "W5xau_o76ZTN",
        "outputId": "704bc708-3a1a-435e-fd81-b7fad8775bbf"
      },
      "outputs": [
        {
          "name": "stdout",
          "output_type": "stream",
          "text": [
            "[[ 0.  1.]\n",
            " [-1.  0.]]\n"
          ]
        }
      ],
      "source": [
        "a=array([[0.0,1.0],[-1.0,0.0]])\n",
        "print(a)"
      ]
    },
    {
      "cell_type": "code",
      "execution_count": null,
      "metadata": {
        "id": "uR6QgjN96ZTO",
        "outputId": "684806c7-3e1e-4c68-b781-7844ce0d2653"
      },
      "outputs": [
        {
          "data": {
            "text/plain": [
              "2"
            ]
          },
          "execution_count": 73,
          "metadata": {},
          "output_type": "execute_result"
        }
      ],
      "source": [
        "a.ndim"
      ]
    },
    {
      "cell_type": "code",
      "execution_count": null,
      "metadata": {
        "id": "lvgVnMy76ZTO",
        "outputId": "b1ed1765-4d6d-4df6-e615-263bf7e0e94f"
      },
      "outputs": [
        {
          "data": {
            "text/plain": [
              "(2, 2)"
            ]
          },
          "execution_count": 74,
          "metadata": {},
          "output_type": "execute_result"
        }
      ],
      "source": [
        "a.shape"
      ]
    },
    {
      "cell_type": "code",
      "execution_count": null,
      "metadata": {
        "id": "eFzRT2NU6ZTO",
        "outputId": "7e577129-e81f-47e1-b9ec-1fbfca7e7163"
      },
      "outputs": [
        {
          "data": {
            "text/plain": [
              "(2, 4)"
            ]
          },
          "execution_count": 75,
          "metadata": {},
          "output_type": "execute_result"
        }
      ],
      "source": [
        "len(a),a.size"
      ]
    },
    {
      "cell_type": "code",
      "execution_count": null,
      "metadata": {
        "id": "cxbZcbAy6ZTO",
        "outputId": "b3e2a5cc-0570-4987-bbcc-b93f49462a6c"
      },
      "outputs": [
        {
          "data": {
            "text/plain": [
              "-1.0"
            ]
          },
          "execution_count": 76,
          "metadata": {},
          "output_type": "execute_result"
        }
      ],
      "source": [
        "a[1,0]"
      ]
    },
    {
      "cell_type": "markdown",
      "metadata": {
        "id": "GyNRr9PM6ZTO"
      },
      "source": [
        "Атрибуту `shape` можно присвоить новое значение - кортеж размеров по всем координатам. Получится новый заголовок массива; его данные не изменятся."
      ]
    },
    {
      "cell_type": "code",
      "execution_count": null,
      "metadata": {
        "id": "ZE3v0iSK6ZTO",
        "outputId": "4a32c310-e9cd-4cea-def6-419fb2a62fc2"
      },
      "outputs": [
        {
          "name": "stdout",
          "output_type": "stream",
          "text": [
            "[ 0.  1.  2.  3.]\n"
          ]
        }
      ],
      "source": [
        "b=linspace(0,3,4)\n",
        "print(b)"
      ]
    },
    {
      "cell_type": "code",
      "execution_count": null,
      "metadata": {
        "id": "_i5_3Wzi6ZTP",
        "outputId": "c9541f65-ecc5-413d-abeb-bcd9b0fc6255"
      },
      "outputs": [
        {
          "data": {
            "text/plain": [
              "(4,)"
            ]
          },
          "execution_count": 78,
          "metadata": {},
          "output_type": "execute_result"
        }
      ],
      "source": [
        "b.shape"
      ]
    },
    {
      "cell_type": "code",
      "execution_count": null,
      "metadata": {
        "id": "cnQmCRw16ZTP",
        "outputId": "8c8332ec-6475-4967-d5fa-61c8f5a68269"
      },
      "outputs": [
        {
          "name": "stdout",
          "output_type": "stream",
          "text": [
            "[[ 0.  1.]\n",
            " [ 2.  3.]]\n"
          ]
        }
      ],
      "source": [
        "b.shape=2,2\n",
        "print(b)"
      ]
    },
    {
      "cell_type": "markdown",
      "metadata": {
        "id": "sqNtmN9G6ZTP"
      },
      "source": [
        "Поэлементное и матричное умножение."
      ]
    },
    {
      "cell_type": "code",
      "execution_count": null,
      "metadata": {
        "id": "xnc9W2tE6ZTP",
        "outputId": "68342b96-50a1-4ff4-dd60-f6c6669572b2"
      },
      "outputs": [
        {
          "name": "stdout",
          "output_type": "stream",
          "text": [
            "[[ 0.  1.]\n",
            " [-2.  0.]]\n"
          ]
        }
      ],
      "source": [
        "print(a*b)"
      ]
    },
    {
      "cell_type": "code",
      "execution_count": null,
      "metadata": {
        "id": "_WwkXt0B6ZTQ",
        "outputId": "09b0677d-87c7-423d-95d6-3845b0abd263"
      },
      "outputs": [
        {
          "name": "stdout",
          "output_type": "stream",
          "text": [
            "[[ 2.  3.]\n",
            " [ 0. -1.]]\n"
          ]
        }
      ],
      "source": [
        "print(a@b)"
      ]
    },
    {
      "cell_type": "code",
      "execution_count": null,
      "metadata": {
        "id": "JmMim3MZ6ZTQ",
        "outputId": "25b219a7-de2f-42dd-ecb3-d94f5b31d64f"
      },
      "outputs": [
        {
          "name": "stdout",
          "output_type": "stream",
          "text": [
            "[[-1.  0.]\n",
            " [-3.  2.]]\n"
          ]
        }
      ],
      "source": [
        "print(b@a)"
      ]
    },
    {
      "cell_type": "markdown",
      "metadata": {
        "id": "EroDflak6ZTQ"
      },
      "source": [
        "Умножение матрицы на вектор."
      ]
    },
    {
      "cell_type": "code",
      "execution_count": null,
      "metadata": {
        "id": "e034cjqR6ZTQ",
        "outputId": "f907d154-1559-4848-c5a1-bfc050e2fc08"
      },
      "outputs": [
        {
          "name": "stdout",
          "output_type": "stream",
          "text": [
            "[-1. -1.]\n"
          ]
        }
      ],
      "source": [
        "v=array([1,-1],dtype=float64)\n",
        "print(b@v)"
      ]
    },
    {
      "cell_type": "code",
      "execution_count": null,
      "metadata": {
        "id": "rpi_hg3c6ZTQ",
        "outputId": "ba79be3f-8ee4-4471-8182-fe403e9d952e"
      },
      "outputs": [
        {
          "name": "stdout",
          "output_type": "stream",
          "text": [
            "[-2. -2.]\n"
          ]
        }
      ],
      "source": [
        "print(v@b)"
      ]
    },
    {
      "cell_type": "markdown",
      "metadata": {
        "id": "zO_tIX-76ZTQ"
      },
      "source": [
        "Внешнее произведение $a_{ij}=u_i v_j$"
      ]
    },
    {
      "cell_type": "code",
      "execution_count": null,
      "metadata": {
        "id": "db_DVIHs6ZTR",
        "outputId": "6be6bec5-b895-4214-e40e-b4b5da8b14dd"
      },
      "outputs": [
        {
          "name": "stdout",
          "output_type": "stream",
          "text": [
            "[ 1.  2.]\n",
            "[ 2.  3.  4.]\n"
          ]
        }
      ],
      "source": [
        "u=linspace(1,2,2)\n",
        "v=linspace(2,4,3)\n",
        "print(u)\n",
        "print(v)"
      ]
    },
    {
      "cell_type": "code",
      "execution_count": null,
      "metadata": {
        "id": "h9QCbTb96ZTR",
        "outputId": "13007912-36e8-4440-9756-3d1eda15fcba"
      },
      "outputs": [
        {
          "name": "stdout",
          "output_type": "stream",
          "text": [
            "[[ 2.  3.  4.]\n",
            " [ 4.  6.  8.]]\n"
          ]
        }
      ],
      "source": [
        "a=outer(u,v)\n",
        "print(a)"
      ]
    },
    {
      "cell_type": "markdown",
      "metadata": {
        "id": "yzMUN-Fb6ZTR"
      },
      "source": [
        "Двумерные массивы, зависящие только от одного индекса: $x_{ij}=u_j$, $y_{ij}=v_i$"
      ]
    },
    {
      "cell_type": "code",
      "execution_count": null,
      "metadata": {
        "id": "G5TEM5JW6ZTR",
        "outputId": "e60eae54-e7b9-471a-ed6c-c60ca59e3b8e"
      },
      "outputs": [
        {
          "name": "stdout",
          "output_type": "stream",
          "text": [
            "[[ 1.  2.]\n",
            " [ 1.  2.]\n",
            " [ 1.  2.]]\n",
            "[[ 2.  2.]\n",
            " [ 3.  3.]\n",
            " [ 4.  4.]]\n"
          ]
        }
      ],
      "source": [
        "x,y=meshgrid(u,v)\n",
        "print(x)\n",
        "print(y)"
      ]
    },
    {
      "cell_type": "markdown",
      "metadata": {
        "id": "KKQVoFjT6ZTR"
      },
      "source": [
        "Единичная матрица."
      ]
    },
    {
      "cell_type": "code",
      "execution_count": null,
      "metadata": {
        "id": "O65rmcxC6ZTS",
        "outputId": "8fc8fc79-8514-4238-ceb3-648118eb0aaa"
      },
      "outputs": [
        {
          "name": "stdout",
          "output_type": "stream",
          "text": [
            "[[ 1.  0.  0.  0.]\n",
            " [ 0.  1.  0.  0.]\n",
            " [ 0.  0.  1.  0.]\n",
            " [ 0.  0.  0.  1.]]\n"
          ]
        }
      ],
      "source": [
        "I=eye(4)\n",
        "print(I)"
      ]
    },
    {
      "cell_type": "markdown",
      "metadata": {
        "id": "p1BYFecz6ZTT"
      },
      "source": [
        "Метод `reshape` делает то же самое, что присваивание атрибуту `shape`."
      ]
    },
    {
      "cell_type": "code",
      "execution_count": null,
      "metadata": {
        "id": "l_ptSHZt6ZTT",
        "outputId": "6e4c84c6-4505-4b05-871b-666a1ae3f765"
      },
      "outputs": [
        {
          "name": "stdout",
          "output_type": "stream",
          "text": [
            "[ 1.  0.  0.  0.  0.  1.  0.  0.  0.  0.  1.  0.  0.  0.  0.  1.]\n"
          ]
        }
      ],
      "source": [
        "print(I.reshape(16))"
      ]
    },
    {
      "cell_type": "code",
      "execution_count": null,
      "metadata": {
        "id": "Lc1dZot26ZTU",
        "outputId": "8d4b4a94-4e9f-4500-a5e8-af07979208ff"
      },
      "outputs": [
        {
          "name": "stdout",
          "output_type": "stream",
          "text": [
            "[[ 1.  0.  0.  0.  0.  1.  0.  0.]\n",
            " [ 0.  0.  1.  0.  0.  0.  0.  1.]]\n"
          ]
        }
      ],
      "source": [
        "print(I.reshape(2,8))"
      ]
    },
    {
      "cell_type": "markdown",
      "metadata": {
        "id": "z_Ij-Efm6ZTU"
      },
      "source": [
        "Строка."
      ]
    },
    {
      "cell_type": "code",
      "execution_count": null,
      "metadata": {
        "id": "i1XrU7hQ6ZTU",
        "outputId": "25e7de76-ac96-4aea-d4a7-2b478345986d"
      },
      "outputs": [
        {
          "name": "stdout",
          "output_type": "stream",
          "text": [
            "[ 0.  1.  0.  0.]\n"
          ]
        }
      ],
      "source": [
        "print(I[1])"
      ]
    },
    {
      "cell_type": "markdown",
      "metadata": {
        "id": "XvTSeZS96ZTU"
      },
      "source": [
        "Цикл по строкам."
      ]
    },
    {
      "cell_type": "code",
      "execution_count": null,
      "metadata": {
        "id": "e1C8xJAF6ZTU",
        "outputId": "4b84239f-70f2-430c-8daf-59c1e04d55d6"
      },
      "outputs": [
        {
          "name": "stdout",
          "output_type": "stream",
          "text": [
            "[ 1.  0.  0.  0.]\n",
            "[ 0.  1.  0.  0.]\n",
            "[ 0.  0.  1.  0.]\n",
            "[ 0.  0.  0.  1.]\n"
          ]
        }
      ],
      "source": [
        "for row in I:\n",
        "    print(row)"
      ]
    },
    {
      "cell_type": "markdown",
      "metadata": {
        "id": "wXbYPlT36ZTU"
      },
      "source": [
        "Столбец."
      ]
    },
    {
      "cell_type": "code",
      "execution_count": null,
      "metadata": {
        "id": "-s8pTiZ46ZTU",
        "outputId": "b5f79fe2-a8f0-468f-e3d5-53242a60fea7"
      },
      "outputs": [
        {
          "name": "stdout",
          "output_type": "stream",
          "text": [
            "[ 0.  0.  1.  0.]\n"
          ]
        }
      ],
      "source": [
        "print(I[:,2])"
      ]
    },
    {
      "cell_type": "markdown",
      "metadata": {
        "id": "iYZAVE386ZTV"
      },
      "source": [
        "Подматрица."
      ]
    },
    {
      "cell_type": "code",
      "execution_count": null,
      "metadata": {
        "id": "sUPj3i_76ZTV",
        "outputId": "d28d9203-6376-498d-a27a-16f5c665cec8"
      },
      "outputs": [
        {
          "name": "stdout",
          "output_type": "stream",
          "text": [
            "[[ 0.  0.]\n",
            " [ 1.  0.]]\n"
          ]
        }
      ],
      "source": [
        "print(I[0:2,1:3])"
      ]
    },
    {
      "cell_type": "markdown",
      "metadata": {
        "id": "KBFmSnZb6ZTV"
      },
      "source": [
        "Можно построить двумерный массив из функции."
      ]
    },
    {
      "cell_type": "code",
      "execution_count": null,
      "metadata": {
        "id": "aK9oel8J6ZTV",
        "outputId": "e1ac3c1b-6afe-4008-accf-fa3a468ec3b6"
      },
      "outputs": [
        {
          "name": "stdout",
          "output_type": "stream",
          "text": [
            "[[0 0 0 0]\n",
            " [1 1 1 1]\n",
            " [2 2 2 2]\n",
            " [3 3 3 3]]\n",
            "[[0 1 2 3]\n",
            " [0 1 2 3]\n",
            " [0 1 2 3]\n",
            " [0 1 2 3]]\n",
            "[[ 0  1  2  3]\n",
            " [10 11 12 13]\n",
            " [20 21 22 23]\n",
            " [30 31 32 33]]\n"
          ]
        }
      ],
      "source": [
        "def f(i,j):\n",
        "    print(i)\n",
        "    print(j)\n",
        "    return 10*i+j\n",
        "print(fromfunction(f,(4,4),dtype=int64))"
      ]
    },
    {
      "cell_type": "markdown",
      "metadata": {
        "id": "bBi5DS2l6ZTV"
      },
      "source": [
        "Транспонированная матрица."
      ]
    },
    {
      "cell_type": "code",
      "execution_count": null,
      "metadata": {
        "id": "A5Ixbk4y6ZTV",
        "outputId": "2e654508-0744-4ffe-cb39-e4b8d89daf4c"
      },
      "outputs": [
        {
          "name": "stdout",
          "output_type": "stream",
          "text": [
            "[[ 0.  2.]\n",
            " [ 1.  3.]]\n"
          ]
        }
      ],
      "source": [
        "print(b.T)"
      ]
    },
    {
      "cell_type": "markdown",
      "metadata": {
        "id": "CDxdUh246ZTW"
      },
      "source": [
        "Соединение матриц по горизонтали и по вертикали."
      ]
    },
    {
      "cell_type": "code",
      "execution_count": null,
      "metadata": {
        "id": "vVo0qmT16ZTW",
        "outputId": "e0fc1b44-07fc-40fb-a570-4268b2127349"
      },
      "outputs": [
        {
          "name": "stdout",
          "output_type": "stream",
          "text": [
            "[[0 1]\n",
            " [2 3]]\n",
            "[[4 5 6]\n",
            " [7 8 9]]\n",
            "[[4 5]\n",
            " [6 7]\n",
            " [8 9]]\n"
          ]
        }
      ],
      "source": [
        "a=array([[0,1],[2,3]])\n",
        "b=array([[4,5,6],[7,8,9]])\n",
        "c=array([[4,5],[6,7],[8,9]])\n",
        "print(a)\n",
        "print(b)\n",
        "print(c)"
      ]
    },
    {
      "cell_type": "code",
      "execution_count": null,
      "metadata": {
        "id": "k-KqCcGr6ZTW",
        "outputId": "2624c2e7-0c8f-4ade-e9c7-33347abd299b"
      },
      "outputs": [
        {
          "name": "stdout",
          "output_type": "stream",
          "text": [
            "[[0 1 4 5 6]\n",
            " [2 3 7 8 9]]\n"
          ]
        }
      ],
      "source": [
        "print(hstack((a,b)))"
      ]
    },
    {
      "cell_type": "code",
      "execution_count": null,
      "metadata": {
        "id": "IQhBs3yG6ZTW",
        "outputId": "d9a59541-bfdc-44c1-8298-8947d7657d15"
      },
      "outputs": [
        {
          "name": "stdout",
          "output_type": "stream",
          "text": [
            "[[0 1]\n",
            " [2 3]\n",
            " [4 5]\n",
            " [6 7]\n",
            " [8 9]]\n"
          ]
        }
      ],
      "source": [
        "print(vstack((a,c)))"
      ]
    },
    {
      "cell_type": "markdown",
      "metadata": {
        "id": "MJYwjPor6ZTW"
      },
      "source": [
        "Сумма всех элементов; суммы столбцов; суммы строк."
      ]
    },
    {
      "cell_type": "code",
      "execution_count": null,
      "metadata": {
        "id": "HKiOYhGy6ZTW",
        "outputId": "469022e1-e441-4ef4-cfa0-e18701d46b86"
      },
      "outputs": [
        {
          "name": "stdout",
          "output_type": "stream",
          "text": [
            "39\n",
            "[11 13 15]\n",
            "[15 24]\n"
          ]
        }
      ],
      "source": [
        "print(b.sum())\n",
        "print(b.sum(0))\n",
        "print(b.sum(1))"
      ]
    },
    {
      "cell_type": "markdown",
      "metadata": {
        "id": "Ms4131kU6ZTX"
      },
      "source": [
        "Аналогично работают `prod`, `max`, `min` и т.д."
      ]
    },
    {
      "cell_type": "code",
      "execution_count": null,
      "metadata": {
        "id": "D6GhQ8yO6ZTX",
        "outputId": "6d65cbf0-721e-4970-ca1b-55c46b6d4386"
      },
      "outputs": [
        {
          "name": "stdout",
          "output_type": "stream",
          "text": [
            "[7 8 9]\n",
            "[4 7]\n"
          ]
        }
      ],
      "source": [
        "print(b.max(0))\n",
        "print(b.min(1))"
      ]
    },
    {
      "cell_type": "markdown",
      "metadata": {
        "id": "GEB1K3m_6ZTX"
      },
      "source": [
        "След - сумма диагональных элементов."
      ]
    },
    {
      "cell_type": "code",
      "execution_count": null,
      "metadata": {
        "id": "i30EiNpx6ZTX",
        "outputId": "4ee906c2-7224-4440-f49b-d15ddd96da35"
      },
      "outputs": [
        {
          "data": {
            "text/plain": [
              "3"
            ]
          },
          "execution_count": 102,
          "metadata": {},
          "output_type": "execute_result"
        }
      ],
      "source": [
        "trace(a)"
      ]
    },
    {
      "cell_type": "markdown",
      "metadata": {
        "id": "72yPPQmL6ZTX"
      },
      "source": [
        "## Линейная алгебра"
      ]
    },
    {
      "cell_type": "code",
      "execution_count": null,
      "metadata": {
        "id": "zAJ8Q4K96ZTX",
        "outputId": "048bf73f-ed84-40c4-f7f9-fb883394081b"
      },
      "outputs": [
        {
          "data": {
            "text/plain": [
              "-2.0"
            ]
          },
          "execution_count": 103,
          "metadata": {},
          "output_type": "execute_result"
        }
      ],
      "source": [
        "from numpy.linalg import det,inv,solve,eig\n",
        "det(a)"
      ]
    },
    {
      "cell_type": "markdown",
      "metadata": {
        "id": "XzUz-hgv6ZTX"
      },
      "source": [
        "Обратная матрица."
      ]
    },
    {
      "cell_type": "code",
      "execution_count": null,
      "metadata": {
        "id": "UdCR7GLx6ZTY",
        "outputId": "c546960c-ce35-4d48-f90f-623149cdd8a5"
      },
      "outputs": [
        {
          "name": "stdout",
          "output_type": "stream",
          "text": [
            "[[-1.5  0.5]\n",
            " [ 1.   0. ]]\n"
          ]
        }
      ],
      "source": [
        "a1=inv(a)\n",
        "print(a1)"
      ]
    },
    {
      "cell_type": "code",
      "execution_count": null,
      "metadata": {
        "id": "OsHEnzA46ZTY",
        "outputId": "aaca5487-d1c6-43bd-f41d-3be52607c42e"
      },
      "outputs": [
        {
          "name": "stdout",
          "output_type": "stream",
          "text": [
            "[[ 1.  0.]\n",
            " [ 0.  1.]]\n",
            "[[ 1.  0.]\n",
            " [ 0.  1.]]\n"
          ]
        }
      ],
      "source": [
        "print(a@a1)\n",
        "print(a1@a)"
      ]
    },
    {
      "cell_type": "markdown",
      "metadata": {
        "id": "E-kTSH2t6ZTY"
      },
      "source": [
        "Решение линейной системы $au=v$."
      ]
    },
    {
      "cell_type": "code",
      "execution_count": null,
      "metadata": {
        "id": "E9LyuxAE6ZTY",
        "outputId": "6d322033-8a94-4d2e-f8c0-bfa317bf3cab"
      },
      "outputs": [
        {
          "name": "stdout",
          "output_type": "stream",
          "text": [
            "[ 0.5  0. ]\n"
          ]
        }
      ],
      "source": [
        "v=array([0,1],dtype=float64)\n",
        "print(a1@v)"
      ]
    },
    {
      "cell_type": "code",
      "execution_count": null,
      "metadata": {
        "id": "pnc1RUYL6ZTY",
        "outputId": "77fa9757-f080-4e34-f120-7b25535d8679"
      },
      "outputs": [
        {
          "name": "stdout",
          "output_type": "stream",
          "text": [
            "[ 0.5  0. ]\n"
          ]
        }
      ],
      "source": [
        "u=solve(a,v)\n",
        "print(u)"
      ]
    },
    {
      "cell_type": "markdown",
      "metadata": {
        "id": "HZhIP2n86ZTZ"
      },
      "source": [
        "Проверим."
      ]
    },
    {
      "cell_type": "code",
      "execution_count": null,
      "metadata": {
        "id": "gFktchcd6ZTZ",
        "outputId": "a00b5e25-d621-45e8-85d3-b663364075a5"
      },
      "outputs": [
        {
          "name": "stdout",
          "output_type": "stream",
          "text": [
            "[ 0.  0.]\n"
          ]
        }
      ],
      "source": [
        "print(a@u-v)"
      ]
    },
    {
      "cell_type": "markdown",
      "metadata": {
        "id": "taqxHq4l6ZTZ"
      },
      "source": [
        "Собственные значения и собственные векторы: $a u_i = \\lambda_i u_i$. `l` - одномерный массив собственных значений $\\lambda_i$, столбцы матрицы $u$ - собственные векторы $u_i$."
      ]
    },
    {
      "cell_type": "code",
      "execution_count": null,
      "metadata": {
        "id": "mXOzwmGQ6ZTZ",
        "outputId": "1bbc4a1b-797c-4a58-c641-134b5afd219d"
      },
      "outputs": [
        {
          "name": "stdout",
          "output_type": "stream",
          "text": [
            "[-0.56155281  3.56155281]\n"
          ]
        }
      ],
      "source": [
        "l,u=eig(a)\n",
        "print(l)"
      ]
    },
    {
      "cell_type": "code",
      "execution_count": null,
      "metadata": {
        "id": "qmYU03a06ZTZ",
        "outputId": "94804d7f-b591-40d6-8051-39eb8f27694f"
      },
      "outputs": [
        {
          "name": "stdout",
          "output_type": "stream",
          "text": [
            "[[-0.87192821 -0.27032301]\n",
            " [ 0.48963374 -0.96276969]]\n"
          ]
        }
      ],
      "source": [
        "print(u)"
      ]
    },
    {
      "cell_type": "markdown",
      "metadata": {
        "id": "m4BlhJIM6ZTZ"
      },
      "source": [
        "Проверим."
      ]
    },
    {
      "cell_type": "code",
      "execution_count": null,
      "metadata": {
        "id": "pveUMK7y6ZTZ",
        "outputId": "286ccf6c-1b96-4f8e-8172-751eaf97169f"
      },
      "outputs": [
        {
          "name": "stdout",
          "output_type": "stream",
          "text": [
            "[  0.00000000e+00   1.66533454e-16]\n",
            "[  1.11022302e-16   0.00000000e+00]\n"
          ]
        }
      ],
      "source": [
        "for i in range(2):\n",
        "    print(a@u[:,i]-l[i]*u[:,i])"
      ]
    },
    {
      "cell_type": "markdown",
      "metadata": {
        "id": "wq5bI-8M6ZTa"
      },
      "source": [
        "Функция `diag` от одномерного массива строит диагональную матрицу; от квадратной матрицы - возвращает одномерный массив её диагональных элементов."
      ]
    },
    {
      "cell_type": "code",
      "execution_count": null,
      "metadata": {
        "id": "P8_ZHcEg6ZTa",
        "outputId": "14b16da1-b6bb-4e60-a852-db5639961af1"
      },
      "outputs": [
        {
          "name": "stdout",
          "output_type": "stream",
          "text": [
            "[[-0.56155281  0.        ]\n",
            " [ 0.          3.56155281]]\n",
            "[-0.56155281  3.56155281]\n"
          ]
        }
      ],
      "source": [
        "L=diag(l)\n",
        "print(L)\n",
        "print(diag(L))"
      ]
    },
    {
      "cell_type": "markdown",
      "metadata": {
        "id": "8BDVkXeM6ZTa"
      },
      "source": [
        "Все уравнения $a u_i = \\lambda_i u_i$ можно собрать в одно матричное уравнение $a u = u \\Lambda$, где $\\Lambda$ - диагональная матрица с собственными значениями $\\lambda_i$ по диагонали."
      ]
    },
    {
      "cell_type": "code",
      "execution_count": null,
      "metadata": {
        "id": "VZ5pv7ca6ZTa",
        "outputId": "c6b7ce9e-3117-4036-874e-85e6fa92dd5a"
      },
      "outputs": [
        {
          "name": "stdout",
          "output_type": "stream",
          "text": [
            "[[  0.00000000e+00   1.11022302e-16]\n",
            " [  1.66533454e-16   0.00000000e+00]]\n"
          ]
        }
      ],
      "source": [
        "print(a@u-u@L)"
      ]
    },
    {
      "cell_type": "markdown",
      "metadata": {
        "id": "-f5OZalu6ZTa"
      },
      "source": [
        "Поэтому $u^{-1} a u = \\Lambda$."
      ]
    },
    {
      "cell_type": "code",
      "execution_count": null,
      "metadata": {
        "id": "r1CGVaX06ZTa",
        "outputId": "e780ed5c-6a92-49da-901b-8ea3855c185e"
      },
      "outputs": [
        {
          "name": "stdout",
          "output_type": "stream",
          "text": [
            "[[ -5.61552813e-01   0.00000000e+00]\n",
            " [ -2.22044605e-16   3.56155281e+00]]\n"
          ]
        }
      ],
      "source": [
        "print(inv(u)@a@u)"
      ]
    },
    {
      "cell_type": "markdown",
      "metadata": {
        "id": "BY2kaAV46ZTa"
      },
      "source": [
        "Найдём теперь левые собственные векторы $v_i a = \\lambda_i v_i$ (собственные значения $\\lambda_i$ те же самые)."
      ]
    },
    {
      "cell_type": "code",
      "execution_count": null,
      "metadata": {
        "id": "-rSSo1DL6ZTa",
        "outputId": "e88fea0b-785a-44cf-b4a7-ea42c5736743"
      },
      "outputs": [
        {
          "name": "stdout",
          "output_type": "stream",
          "text": [
            "[-0.56155281  3.56155281]\n",
            "[[-0.96276969 -0.48963374]\n",
            " [ 0.27032301 -0.87192821]]\n"
          ]
        }
      ],
      "source": [
        "l,v=eig(a.T)\n",
        "print(l)\n",
        "print(v)"
      ]
    },
    {
      "cell_type": "markdown",
      "metadata": {
        "id": "5gdaGIu66ZTb"
      },
      "source": [
        "Собственные векторы нормированы на 1."
      ]
    },
    {
      "cell_type": "code",
      "execution_count": null,
      "metadata": {
        "id": "8vDQFqo76ZTb",
        "outputId": "dbabcfae-fe64-4b82-afe3-c3375922bf1a"
      },
      "outputs": [
        {
          "name": "stdout",
          "output_type": "stream",
          "text": [
            "[[ 1.         -0.23570226]\n",
            " [-0.23570226  1.        ]]\n",
            "[[ 1.          0.23570226]\n",
            " [ 0.23570226  1.        ]]\n"
          ]
        }
      ],
      "source": [
        "print(u.T@u)\n",
        "print(v.T@v)"
      ]
    },
    {
      "cell_type": "markdown",
      "metadata": {
        "id": "PR7R371L6ZTb"
      },
      "source": [
        "Левые и правые собственные векторы, соответствующие разным собственным значениям, ортогональны, потому что $v_i a u_j = \\lambda_i v_i u_j = \\lambda_j v_i u_j$."
      ]
    },
    {
      "cell_type": "code",
      "execution_count": null,
      "metadata": {
        "id": "ZPuGRhLW6ZTb",
        "outputId": "d61fa537-b497-4f68-89bf-b57a18411f58"
      },
      "outputs": [
        {
          "name": "stdout",
          "output_type": "stream",
          "text": [
            "[[  9.71825316e-01   0.00000000e+00]\n",
            " [ -5.55111512e-17   9.71825316e-01]]\n"
          ]
        }
      ],
      "source": [
        "print(v.T@u)"
      ]
    },
    {
      "cell_type": "markdown",
      "metadata": {
        "id": "Jdq_Y50S6ZTb"
      },
      "source": [
        "## Преобразование Фурье"
      ]
    },
    {
      "cell_type": "code",
      "execution_count": null,
      "metadata": {
        "id": "HmkwsDJn6ZTb",
        "outputId": "734c8b57-e9bb-45ca-aa92-818c7aa5556d"
      },
      "outputs": [
        {
          "name": "stdout",
          "output_type": "stream",
          "text": [
            "[ 0.   0.1  0.2  0.3  0.4  0.5  0.6  0.7  0.8  0.9  1. ]\n"
          ]
        }
      ],
      "source": [
        "a=linspace(0,1,11)\n",
        "print(a)"
      ]
    },
    {
      "cell_type": "code",
      "execution_count": null,
      "metadata": {
        "id": "BIZod8T96ZTc",
        "outputId": "50afb73e-1e49-4799-ea28-263a0111797a"
      },
      "outputs": [
        {
          "name": "stdout",
          "output_type": "stream",
          "text": [
            "[ 5.50+0.j         -0.55+1.87312798j -0.55+0.85581671j -0.55+0.47657771j\n",
            " -0.55+0.25117658j -0.55+0.07907806j -0.55-0.07907806j -0.55-0.25117658j\n",
            " -0.55-0.47657771j -0.55-0.85581671j -0.55-1.87312798j]\n"
          ]
        }
      ],
      "source": [
        "from numpy.fft import fft,ifft\n",
        "b=fft(a)\n",
        "print(b)"
      ]
    },
    {
      "cell_type": "markdown",
      "metadata": {
        "id": "Hb-b5UQL6ZTc"
      },
      "source": [
        "Обратное преобразование Фурье."
      ]
    },
    {
      "cell_type": "code",
      "execution_count": null,
      "metadata": {
        "id": "xv3pB5cU6ZTc",
        "outputId": "b20cfb5a-e72e-48f9-9695-e3798f7b2b29"
      },
      "outputs": [
        {
          "name": "stdout",
          "output_type": "stream",
          "text": [
            "[  1.61486985e-15+0.j   1.00000000e-01+0.j   2.00000000e-01+0.j\n",
            "   3.00000000e-01+0.j   4.00000000e-01+0.j   5.00000000e-01+0.j\n",
            "   6.00000000e-01+0.j   7.00000000e-01+0.j   8.00000000e-01+0.j\n",
            "   9.00000000e-01+0.j   1.00000000e+00+0.j]\n"
          ]
        }
      ],
      "source": [
        "print(ifft(b))"
      ]
    },
    {
      "cell_type": "markdown",
      "metadata": {
        "id": "A3uwdtGi6ZTc"
      },
      "source": [
        "## Интегрирование"
      ]
    },
    {
      "cell_type": "code",
      "execution_count": null,
      "metadata": {
        "collapsed": true,
        "id": "rT3ju8xz6ZTc"
      },
      "outputs": [],
      "source": [
        "from scipy.integrate import quad,odeint\n",
        "from scipy.special import erf"
      ]
    },
    {
      "cell_type": "code",
      "execution_count": null,
      "metadata": {
        "id": "xEHITfge6ZTc"
      },
      "outputs": [],
      "source": [
        "def f(x):\n",
        "    return exp(-x**2)"
      ]
    },
    {
      "cell_type": "markdown",
      "metadata": {
        "id": "F9-FSyp86ZTd"
      },
      "source": [
        "Адаптивное численное интегрирование (может быть до бесконечности). `err` - оценка ошибки."
      ]
    },
    {
      "cell_type": "code",
      "execution_count": null,
      "metadata": {
        "id": "-6etqFha6ZTd",
        "outputId": "b09f8bd4-8a7e-44a9-938f-616214a2e87a"
      },
      "outputs": [
        {
          "name": "stdout",
          "output_type": "stream",
          "text": [
            "0.886226925453 0.8862269254527579 7.101318390472462e-09\n"
          ]
        }
      ],
      "source": [
        "res,err=quad(f,0,inf)\n",
        "print(sqrt(pi)/2,res,err)"
      ]
    },
    {
      "cell_type": "code",
      "execution_count": null,
      "metadata": {
        "id": "5-tYqAmd6ZTd",
        "outputId": "d1d699ed-484b-4ca7-f1a9-5c36a333a5f7"
      },
      "outputs": [
        {
          "name": "stdout",
          "output_type": "stream",
          "text": [
            "0.746824132812 0.7468241328124271 8.291413475940725e-15\n"
          ]
        }
      ],
      "source": [
        "res,err=quad(f,0,1)\n",
        "print(sqrt(pi)/2*erf(1),res,err)"
      ]
    },
    {
      "cell_type": "markdown",
      "metadata": {
        "id": "qhioPOE56ZTd"
      },
      "source": [
        "## Дифференциальные уравнения"
      ]
    },
    {
      "cell_type": "markdown",
      "metadata": {
        "id": "1QYZu3Zj6ZTd"
      },
      "source": [
        "Уравнение осциллятора с затуханием $\\ddot{x} + 2 a \\dot{x} + x = 0$. Перепишем его в виде системы уравнений первого порядка для $x$, $v=\\dot{x}$:\n",
        "\n",
        "$\\frac{d}{dt} \\begin{pmatrix}x\\\\v\\end{pmatrix} = \\begin{pmatrix}v\\\\-2av-x\\end{pmatrix}$\n",
        "\n",
        "Решим эту систему численно при $a=0.2$ с начальным условием\n",
        "$\\begin{pmatrix}x\\\\v\\end{pmatrix}=\\begin{pmatrix}1\\\\0\\end{pmatrix}$"
      ]
    },
    {
      "cell_type": "code",
      "execution_count": null,
      "metadata": {
        "collapsed": true,
        "id": "GE5ldYuw6ZTd"
      },
      "outputs": [],
      "source": [
        "a=0.2\n",
        "def f(x,t):\n",
        "    global a\n",
        "    return [x[1],-x[0]-2*a*x[1]]"
      ]
    },
    {
      "cell_type": "code",
      "execution_count": null,
      "metadata": {
        "collapsed": true,
        "id": "lyLITUiU6ZTd"
      },
      "outputs": [],
      "source": [
        "t=linspace(0,10,1000)\n",
        "x=odeint(f,[1,0],t)"
      ]
    },
    {
      "cell_type": "markdown",
      "metadata": {
        "id": "YnA5-J6j6ZTd"
      },
      "source": [
        "Графики координаты и скорости."
      ]
    },
    {
      "cell_type": "code",
      "execution_count": null,
      "metadata": {
        "id": "At5piPxe6ZTe",
        "outputId": "201de82d-5418-4020-b7ef-a0c35319f949"
      },
      "outputs": [
        {
          "data": {
            "text/plain": [
              "[<matplotlib.lines.Line2D at 0x7f2fade9a6d8>,\n",
              " <matplotlib.lines.Line2D at 0x7f2fade9a8d0>]"
            ]
          },
          "execution_count": 127,
          "metadata": {},
          "output_type": "execute_result"
        },
        {
          "data": {
            "image/png": "[encoded data removed]",
            "text/plain": [
              "<matplotlib.figure.Figure at 0x7f2fb8068860>"
            ]
          },
          "metadata": {},
          "output_type": "display_data"
        }
      ],
      "source": [
        "from matplotlib.pyplot import plot\n",
        "%matplotlib inline\n",
        "plot(t,x)"
      ]
    },
    {
      "cell_type": "markdown",
      "metadata": {
        "id": "6WIfIzUj6ZTe"
      },
      "source": [
        "Точное решение для координаты."
      ]
    },
    {
      "cell_type": "code",
      "execution_count": null,
      "metadata": {
        "id": "0E7rBDFQ6ZTe"
      },
      "outputs": [],
      "source": [
        "b=sqrt(1-a**2)\n",
        "x0=exp(-a*t)*(cos(b*t)+a/b*sin(b*t))"
      ]
    },
    {
      "cell_type": "markdown",
      "metadata": {
        "id": "xxMixIKv6ZTe"
      },
      "source": [
        "Максимальное отличие численного решения от точного."
      ]
    },
    {
      "cell_type": "code",
      "execution_count": null,
      "metadata": {
        "id": "vCAYyu186ZTe",
        "outputId": "c59ab8ce-7156-4df6-bee6-e4096f17badd"
      },
      "outputs": [
        {
          "data": {
            "text/plain": [
              "7.4104573116740013e-08"
            ]
          },
          "execution_count": 129,
          "metadata": {},
          "output_type": "execute_result"
        }
      ],
      "source": [
        "abs(x[:,0]-x0).max()"
      ]
    }
  ],
  "metadata": {
    "kernelspec": {
      "display_name": "Python 3",
      "language": "python3.6",
      "name": "python3"
    },
    "language_info": {
      "codemirror_mode": {
        "name": "ipython",
        "version": 3
      },
      "file_extension": ".py",
      "mimetype": "text/x-python",
      "name": "python",
      "nbconvert_exporter": "python",
      "pygments_lexer": "ipython3",
      "version": "3.6.1"
    },
    "colab": {
      "provenance": [],
      "include_colab_link": true
    }
  },
  "nbformat": 4,
  "nbformat_minor": 0
}